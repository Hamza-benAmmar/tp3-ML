{
  "nbformat": 4,
  "nbformat_minor": 0,
  "metadata": {
    "colab": {
      "provenance": [],
      "toc_visible": true,
      "include_colab_link": true
    },
    "kernelspec": {
      "name": "python3",
      "display_name": "Python 3"
    },
    "language_info": {
      "name": "python"
    }
  },
  "cells": [
    {
      "cell_type": "markdown",
      "metadata": {
        "id": "view-in-github",
        "colab_type": "text"
      },
      "source": [
        "<a href=\"https://colab.research.google.com/github/Hamza-benAmmar/tp3-ML/blob/main/tp3_ML.ipynb\" target=\"_parent\"><img src=\"https://colab.research.google.com/assets/colab-badge.svg\" alt=\"Open In Colab\"/></a>"
      ]
    },
    {
      "cell_type": "markdown",
      "source": [
        "**Imports**"
      ],
      "metadata": {
        "id": "l4MQebDMnieM"
      }
    },
    {
      "cell_type": "code",
      "source": [
        "from sklearn import datasets,naive_bayes\n",
        "from collections import Counter\n",
        "import numpy as np\n",
        "import pandas as pd\n",
        "import random\n",
        "import matplotlib\n",
        "import pylab as pl\n",
        "from itertools import cycle\n",
        "from sklearn.model_selection import train_test_split,cross_val_score\n",
        "from prettytable import PrettyTable\n",
        "from sklearn.tree import DecisionTreeClassifier\n",
        "from sklearn.neighbors import KNeighborsClassifier\n",
        "from sklearn.ensemble import RandomForestClassifier\n",
        "from sklearn.ensemble import BaggingClassifier\n"
      ],
      "metadata": {
        "id": "PWhIo0M5ng5g"
      },
      "execution_count": 62,
      "outputs": []
    },
    {
      "cell_type": "markdown",
      "source": [
        "**DEA**"
      ],
      "metadata": {
        "id": "qiiDcqjspaqv"
      }
    },
    {
      "cell_type": "code",
      "source": [
        "irisData = datasets.load_iris()\n",
        "print (irisData.feature_names)\n",
        "print (irisData.data)\n",
        "print (irisData.target_names)\n",
        "print (irisData.target)"
      ],
      "metadata": {
        "colab": {
          "base_uri": "https://localhost:8080/"
        },
        "id": "bZIHs66bpWuH",
        "outputId": "7274996d-4212-46bb-92b0-f2f7a8017c64"
      },
      "execution_count": 2,
      "outputs": [
        {
          "output_type": "stream",
          "name": "stdout",
          "text": [
            "['sepal length (cm)', 'sepal width (cm)', 'petal length (cm)', 'petal width (cm)']\n",
            "[[5.1 3.5 1.4 0.2]\n",
            " [4.9 3.  1.4 0.2]\n",
            " [4.7 3.2 1.3 0.2]\n",
            " [4.6 3.1 1.5 0.2]\n",
            " [5.  3.6 1.4 0.2]\n",
            " [5.4 3.9 1.7 0.4]\n",
            " [4.6 3.4 1.4 0.3]\n",
            " [5.  3.4 1.5 0.2]\n",
            " [4.4 2.9 1.4 0.2]\n",
            " [4.9 3.1 1.5 0.1]\n",
            " [5.4 3.7 1.5 0.2]\n",
            " [4.8 3.4 1.6 0.2]\n",
            " [4.8 3.  1.4 0.1]\n",
            " [4.3 3.  1.1 0.1]\n",
            " [5.8 4.  1.2 0.2]\n",
            " [5.7 4.4 1.5 0.4]\n",
            " [5.4 3.9 1.3 0.4]\n",
            " [5.1 3.5 1.4 0.3]\n",
            " [5.7 3.8 1.7 0.3]\n",
            " [5.1 3.8 1.5 0.3]\n",
            " [5.4 3.4 1.7 0.2]\n",
            " [5.1 3.7 1.5 0.4]\n",
            " [4.6 3.6 1.  0.2]\n",
            " [5.1 3.3 1.7 0.5]\n",
            " [4.8 3.4 1.9 0.2]\n",
            " [5.  3.  1.6 0.2]\n",
            " [5.  3.4 1.6 0.4]\n",
            " [5.2 3.5 1.5 0.2]\n",
            " [5.2 3.4 1.4 0.2]\n",
            " [4.7 3.2 1.6 0.2]\n",
            " [4.8 3.1 1.6 0.2]\n",
            " [5.4 3.4 1.5 0.4]\n",
            " [5.2 4.1 1.5 0.1]\n",
            " [5.5 4.2 1.4 0.2]\n",
            " [4.9 3.1 1.5 0.2]\n",
            " [5.  3.2 1.2 0.2]\n",
            " [5.5 3.5 1.3 0.2]\n",
            " [4.9 3.6 1.4 0.1]\n",
            " [4.4 3.  1.3 0.2]\n",
            " [5.1 3.4 1.5 0.2]\n",
            " [5.  3.5 1.3 0.3]\n",
            " [4.5 2.3 1.3 0.3]\n",
            " [4.4 3.2 1.3 0.2]\n",
            " [5.  3.5 1.6 0.6]\n",
            " [5.1 3.8 1.9 0.4]\n",
            " [4.8 3.  1.4 0.3]\n",
            " [5.1 3.8 1.6 0.2]\n",
            " [4.6 3.2 1.4 0.2]\n",
            " [5.3 3.7 1.5 0.2]\n",
            " [5.  3.3 1.4 0.2]\n",
            " [7.  3.2 4.7 1.4]\n",
            " [6.4 3.2 4.5 1.5]\n",
            " [6.9 3.1 4.9 1.5]\n",
            " [5.5 2.3 4.  1.3]\n",
            " [6.5 2.8 4.6 1.5]\n",
            " [5.7 2.8 4.5 1.3]\n",
            " [6.3 3.3 4.7 1.6]\n",
            " [4.9 2.4 3.3 1. ]\n",
            " [6.6 2.9 4.6 1.3]\n",
            " [5.2 2.7 3.9 1.4]\n",
            " [5.  2.  3.5 1. ]\n",
            " [5.9 3.  4.2 1.5]\n",
            " [6.  2.2 4.  1. ]\n",
            " [6.1 2.9 4.7 1.4]\n",
            " [5.6 2.9 3.6 1.3]\n",
            " [6.7 3.1 4.4 1.4]\n",
            " [5.6 3.  4.5 1.5]\n",
            " [5.8 2.7 4.1 1. ]\n",
            " [6.2 2.2 4.5 1.5]\n",
            " [5.6 2.5 3.9 1.1]\n",
            " [5.9 3.2 4.8 1.8]\n",
            " [6.1 2.8 4.  1.3]\n",
            " [6.3 2.5 4.9 1.5]\n",
            " [6.1 2.8 4.7 1.2]\n",
            " [6.4 2.9 4.3 1.3]\n",
            " [6.6 3.  4.4 1.4]\n",
            " [6.8 2.8 4.8 1.4]\n",
            " [6.7 3.  5.  1.7]\n",
            " [6.  2.9 4.5 1.5]\n",
            " [5.7 2.6 3.5 1. ]\n",
            " [5.5 2.4 3.8 1.1]\n",
            " [5.5 2.4 3.7 1. ]\n",
            " [5.8 2.7 3.9 1.2]\n",
            " [6.  2.7 5.1 1.6]\n",
            " [5.4 3.  4.5 1.5]\n",
            " [6.  3.4 4.5 1.6]\n",
            " [6.7 3.1 4.7 1.5]\n",
            " [6.3 2.3 4.4 1.3]\n",
            " [5.6 3.  4.1 1.3]\n",
            " [5.5 2.5 4.  1.3]\n",
            " [5.5 2.6 4.4 1.2]\n",
            " [6.1 3.  4.6 1.4]\n",
            " [5.8 2.6 4.  1.2]\n",
            " [5.  2.3 3.3 1. ]\n",
            " [5.6 2.7 4.2 1.3]\n",
            " [5.7 3.  4.2 1.2]\n",
            " [5.7 2.9 4.2 1.3]\n",
            " [6.2 2.9 4.3 1.3]\n",
            " [5.1 2.5 3.  1.1]\n",
            " [5.7 2.8 4.1 1.3]\n",
            " [6.3 3.3 6.  2.5]\n",
            " [5.8 2.7 5.1 1.9]\n",
            " [7.1 3.  5.9 2.1]\n",
            " [6.3 2.9 5.6 1.8]\n",
            " [6.5 3.  5.8 2.2]\n",
            " [7.6 3.  6.6 2.1]\n",
            " [4.9 2.5 4.5 1.7]\n",
            " [7.3 2.9 6.3 1.8]\n",
            " [6.7 2.5 5.8 1.8]\n",
            " [7.2 3.6 6.1 2.5]\n",
            " [6.5 3.2 5.1 2. ]\n",
            " [6.4 2.7 5.3 1.9]\n",
            " [6.8 3.  5.5 2.1]\n",
            " [5.7 2.5 5.  2. ]\n",
            " [5.8 2.8 5.1 2.4]\n",
            " [6.4 3.2 5.3 2.3]\n",
            " [6.5 3.  5.5 1.8]\n",
            " [7.7 3.8 6.7 2.2]\n",
            " [7.7 2.6 6.9 2.3]\n",
            " [6.  2.2 5.  1.5]\n",
            " [6.9 3.2 5.7 2.3]\n",
            " [5.6 2.8 4.9 2. ]\n",
            " [7.7 2.8 6.7 2. ]\n",
            " [6.3 2.7 4.9 1.8]\n",
            " [6.7 3.3 5.7 2.1]\n",
            " [7.2 3.2 6.  1.8]\n",
            " [6.2 2.8 4.8 1.8]\n",
            " [6.1 3.  4.9 1.8]\n",
            " [6.4 2.8 5.6 2.1]\n",
            " [7.2 3.  5.8 1.6]\n",
            " [7.4 2.8 6.1 1.9]\n",
            " [7.9 3.8 6.4 2. ]\n",
            " [6.4 2.8 5.6 2.2]\n",
            " [6.3 2.8 5.1 1.5]\n",
            " [6.1 2.6 5.6 1.4]\n",
            " [7.7 3.  6.1 2.3]\n",
            " [6.3 3.4 5.6 2.4]\n",
            " [6.4 3.1 5.5 1.8]\n",
            " [6.  3.  4.8 1.8]\n",
            " [6.9 3.1 5.4 2.1]\n",
            " [6.7 3.1 5.6 2.4]\n",
            " [6.9 3.1 5.1 2.3]\n",
            " [5.8 2.7 5.1 1.9]\n",
            " [6.8 3.2 5.9 2.3]\n",
            " [6.7 3.3 5.7 2.5]\n",
            " [6.7 3.  5.2 2.3]\n",
            " [6.3 2.5 5.  1.9]\n",
            " [6.5 3.  5.2 2. ]\n",
            " [6.2 3.4 5.4 2.3]\n",
            " [5.9 3.  5.1 1.8]]\n",
            "['setosa' 'versicolor' 'virginica']\n",
            "[0 0 0 0 0 0 0 0 0 0 0 0 0 0 0 0 0 0 0 0 0 0 0 0 0 0 0 0 0 0 0 0 0 0 0 0 0\n",
            " 0 0 0 0 0 0 0 0 0 0 0 0 0 1 1 1 1 1 1 1 1 1 1 1 1 1 1 1 1 1 1 1 1 1 1 1 1\n",
            " 1 1 1 1 1 1 1 1 1 1 1 1 1 1 1 1 1 1 1 1 1 1 1 1 1 1 2 2 2 2 2 2 2 2 2 2 2\n",
            " 2 2 2 2 2 2 2 2 2 2 2 2 2 2 2 2 2 2 2 2 2 2 2 2 2 2 2 2 2 2 2 2 2 2 2 2 2\n",
            " 2 2]\n"
          ]
        }
      ]
    },
    {
      "cell_type": "code",
      "source": [
        "#afin de facilite l'analyse et la manipulation des données pour les tâches d'apprentissage automatique et d'exploration de données.\n",
        "#Créer un DataFrame Pandas\n",
        "iris_df = pd.DataFrame(data=irisData.data, columns=irisData.feature_names)\n",
        "#Ajouter une colonne appelée 'target' au DataFrame iris_df et y assigne les valeurs de la variable cible (target)\n",
        "iris_df['target'] = irisData.target\n",
        "#Mapper les valeurs de la colonne 'target' (qui sont des entiers 0, 1, 2) aux noms de classe correspondants dans irisData.target_names.\n",
        "iris_df['target_names'] = iris_df['target'].map({0: irisData.target_names[0],\n",
        "                                                 1: irisData.target_names[1],\n",
        "                                                 2: irisData.target_names[2]})"
      ],
      "metadata": {
        "id": "Brx6MaARppIf"
      },
      "execution_count": 3,
      "outputs": []
    },
    {
      "cell_type": "code",
      "source": [
        "iris_df.tail()"
      ],
      "metadata": {
        "colab": {
          "base_uri": "https://localhost:8080/",
          "height": 206
        },
        "id": "oMnrrkobqC0h",
        "outputId": "82d5000d-076d-4039-cb57-ea1b59404e67"
      },
      "execution_count": 4,
      "outputs": [
        {
          "output_type": "execute_result",
          "data": {
            "text/plain": [
              "     sepal length (cm)  sepal width (cm)  petal length (cm)  petal width (cm)  \\\n",
              "145                6.7               3.0                5.2               2.3   \n",
              "146                6.3               2.5                5.0               1.9   \n",
              "147                6.5               3.0                5.2               2.0   \n",
              "148                6.2               3.4                5.4               2.3   \n",
              "149                5.9               3.0                5.1               1.8   \n",
              "\n",
              "     target target_names  \n",
              "145       2    virginica  \n",
              "146       2    virginica  \n",
              "147       2    virginica  \n",
              "148       2    virginica  \n",
              "149       2    virginica  "
            ],
            "text/html": [
              "\n",
              "  <div id=\"df-e73cb972-bc10-46b5-b330-393e616b5d73\" class=\"colab-df-container\">\n",
              "    <div>\n",
              "<style scoped>\n",
              "    .dataframe tbody tr th:only-of-type {\n",
              "        vertical-align: middle;\n",
              "    }\n",
              "\n",
              "    .dataframe tbody tr th {\n",
              "        vertical-align: top;\n",
              "    }\n",
              "\n",
              "    .dataframe thead th {\n",
              "        text-align: right;\n",
              "    }\n",
              "</style>\n",
              "<table border=\"1\" class=\"dataframe\">\n",
              "  <thead>\n",
              "    <tr style=\"text-align: right;\">\n",
              "      <th></th>\n",
              "      <th>sepal length (cm)</th>\n",
              "      <th>sepal width (cm)</th>\n",
              "      <th>petal length (cm)</th>\n",
              "      <th>petal width (cm)</th>\n",
              "      <th>target</th>\n",
              "      <th>target_names</th>\n",
              "    </tr>\n",
              "  </thead>\n",
              "  <tbody>\n",
              "    <tr>\n",
              "      <th>145</th>\n",
              "      <td>6.7</td>\n",
              "      <td>3.0</td>\n",
              "      <td>5.2</td>\n",
              "      <td>2.3</td>\n",
              "      <td>2</td>\n",
              "      <td>virginica</td>\n",
              "    </tr>\n",
              "    <tr>\n",
              "      <th>146</th>\n",
              "      <td>6.3</td>\n",
              "      <td>2.5</td>\n",
              "      <td>5.0</td>\n",
              "      <td>1.9</td>\n",
              "      <td>2</td>\n",
              "      <td>virginica</td>\n",
              "    </tr>\n",
              "    <tr>\n",
              "      <th>147</th>\n",
              "      <td>6.5</td>\n",
              "      <td>3.0</td>\n",
              "      <td>5.2</td>\n",
              "      <td>2.0</td>\n",
              "      <td>2</td>\n",
              "      <td>virginica</td>\n",
              "    </tr>\n",
              "    <tr>\n",
              "      <th>148</th>\n",
              "      <td>6.2</td>\n",
              "      <td>3.4</td>\n",
              "      <td>5.4</td>\n",
              "      <td>2.3</td>\n",
              "      <td>2</td>\n",
              "      <td>virginica</td>\n",
              "    </tr>\n",
              "    <tr>\n",
              "      <th>149</th>\n",
              "      <td>5.9</td>\n",
              "      <td>3.0</td>\n",
              "      <td>5.1</td>\n",
              "      <td>1.8</td>\n",
              "      <td>2</td>\n",
              "      <td>virginica</td>\n",
              "    </tr>\n",
              "  </tbody>\n",
              "</table>\n",
              "</div>\n",
              "    <div class=\"colab-df-buttons\">\n",
              "\n",
              "  <div class=\"colab-df-container\">\n",
              "    <button class=\"colab-df-convert\" onclick=\"convertToInteractive('df-e73cb972-bc10-46b5-b330-393e616b5d73')\"\n",
              "            title=\"Convert this dataframe to an interactive table.\"\n",
              "            style=\"display:none;\">\n",
              "\n",
              "  <svg xmlns=\"http://www.w3.org/2000/svg\" height=\"24px\" viewBox=\"0 -960 960 960\">\n",
              "    <path d=\"M120-120v-720h720v720H120Zm60-500h600v-160H180v160Zm220 220h160v-160H400v160Zm0 220h160v-160H400v160ZM180-400h160v-160H180v160Zm440 0h160v-160H620v160ZM180-180h160v-160H180v160Zm440 0h160v-160H620v160Z\"/>\n",
              "  </svg>\n",
              "    </button>\n",
              "\n",
              "  <style>\n",
              "    .colab-df-container {\n",
              "      display:flex;\n",
              "      gap: 12px;\n",
              "    }\n",
              "\n",
              "    .colab-df-convert {\n",
              "      background-color: #E8F0FE;\n",
              "      border: none;\n",
              "      border-radius: 50%;\n",
              "      cursor: pointer;\n",
              "      display: none;\n",
              "      fill: #1967D2;\n",
              "      height: 32px;\n",
              "      padding: 0 0 0 0;\n",
              "      width: 32px;\n",
              "    }\n",
              "\n",
              "    .colab-df-convert:hover {\n",
              "      background-color: #E2EBFA;\n",
              "      box-shadow: 0px 1px 2px rgba(60, 64, 67, 0.3), 0px 1px 3px 1px rgba(60, 64, 67, 0.15);\n",
              "      fill: #174EA6;\n",
              "    }\n",
              "\n",
              "    .colab-df-buttons div {\n",
              "      margin-bottom: 4px;\n",
              "    }\n",
              "\n",
              "    [theme=dark] .colab-df-convert {\n",
              "      background-color: #3B4455;\n",
              "      fill: #D2E3FC;\n",
              "    }\n",
              "\n",
              "    [theme=dark] .colab-df-convert:hover {\n",
              "      background-color: #434B5C;\n",
              "      box-shadow: 0px 1px 3px 1px rgba(0, 0, 0, 0.15);\n",
              "      filter: drop-shadow(0px 1px 2px rgba(0, 0, 0, 0.3));\n",
              "      fill: #FFFFFF;\n",
              "    }\n",
              "  </style>\n",
              "\n",
              "    <script>\n",
              "      const buttonEl =\n",
              "        document.querySelector('#df-e73cb972-bc10-46b5-b330-393e616b5d73 button.colab-df-convert');\n",
              "      buttonEl.style.display =\n",
              "        google.colab.kernel.accessAllowed ? 'block' : 'none';\n",
              "\n",
              "      async function convertToInteractive(key) {\n",
              "        const element = document.querySelector('#df-e73cb972-bc10-46b5-b330-393e616b5d73');\n",
              "        const dataTable =\n",
              "          await google.colab.kernel.invokeFunction('convertToInteractive',\n",
              "                                                    [key], {});\n",
              "        if (!dataTable) return;\n",
              "\n",
              "        const docLinkHtml = 'Like what you see? Visit the ' +\n",
              "          '<a target=\"_blank\" href=https://colab.research.google.com/notebooks/data_table.ipynb>data table notebook</a>'\n",
              "          + ' to learn more about interactive tables.';\n",
              "        element.innerHTML = '';\n",
              "        dataTable['output_type'] = 'display_data';\n",
              "        await google.colab.output.renderOutput(dataTable, element);\n",
              "        const docLink = document.createElement('div');\n",
              "        docLink.innerHTML = docLinkHtml;\n",
              "        element.appendChild(docLink);\n",
              "      }\n",
              "    </script>\n",
              "  </div>\n",
              "\n",
              "\n",
              "<div id=\"df-1833a0a1-acc9-47df-9d5f-965ee37cac8f\">\n",
              "  <button class=\"colab-df-quickchart\" onclick=\"quickchart('df-1833a0a1-acc9-47df-9d5f-965ee37cac8f')\"\n",
              "            title=\"Suggest charts\"\n",
              "            style=\"display:none;\">\n",
              "\n",
              "<svg xmlns=\"http://www.w3.org/2000/svg\" height=\"24px\"viewBox=\"0 0 24 24\"\n",
              "     width=\"24px\">\n",
              "    <g>\n",
              "        <path d=\"M19 3H5c-1.1 0-2 .9-2 2v14c0 1.1.9 2 2 2h14c1.1 0 2-.9 2-2V5c0-1.1-.9-2-2-2zM9 17H7v-7h2v7zm4 0h-2V7h2v10zm4 0h-2v-4h2v4z\"/>\n",
              "    </g>\n",
              "</svg>\n",
              "  </button>\n",
              "\n",
              "<style>\n",
              "  .colab-df-quickchart {\n",
              "      --bg-color: #E8F0FE;\n",
              "      --fill-color: #1967D2;\n",
              "      --hover-bg-color: #E2EBFA;\n",
              "      --hover-fill-color: #174EA6;\n",
              "      --disabled-fill-color: #AAA;\n",
              "      --disabled-bg-color: #DDD;\n",
              "  }\n",
              "\n",
              "  [theme=dark] .colab-df-quickchart {\n",
              "      --bg-color: #3B4455;\n",
              "      --fill-color: #D2E3FC;\n",
              "      --hover-bg-color: #434B5C;\n",
              "      --hover-fill-color: #FFFFFF;\n",
              "      --disabled-bg-color: #3B4455;\n",
              "      --disabled-fill-color: #666;\n",
              "  }\n",
              "\n",
              "  .colab-df-quickchart {\n",
              "    background-color: var(--bg-color);\n",
              "    border: none;\n",
              "    border-radius: 50%;\n",
              "    cursor: pointer;\n",
              "    display: none;\n",
              "    fill: var(--fill-color);\n",
              "    height: 32px;\n",
              "    padding: 0;\n",
              "    width: 32px;\n",
              "  }\n",
              "\n",
              "  .colab-df-quickchart:hover {\n",
              "    background-color: var(--hover-bg-color);\n",
              "    box-shadow: 0 1px 2px rgba(60, 64, 67, 0.3), 0 1px 3px 1px rgba(60, 64, 67, 0.15);\n",
              "    fill: var(--button-hover-fill-color);\n",
              "  }\n",
              "\n",
              "  .colab-df-quickchart-complete:disabled,\n",
              "  .colab-df-quickchart-complete:disabled:hover {\n",
              "    background-color: var(--disabled-bg-color);\n",
              "    fill: var(--disabled-fill-color);\n",
              "    box-shadow: none;\n",
              "  }\n",
              "\n",
              "  .colab-df-spinner {\n",
              "    border: 2px solid var(--fill-color);\n",
              "    border-color: transparent;\n",
              "    border-bottom-color: var(--fill-color);\n",
              "    animation:\n",
              "      spin 1s steps(1) infinite;\n",
              "  }\n",
              "\n",
              "  @keyframes spin {\n",
              "    0% {\n",
              "      border-color: transparent;\n",
              "      border-bottom-color: var(--fill-color);\n",
              "      border-left-color: var(--fill-color);\n",
              "    }\n",
              "    20% {\n",
              "      border-color: transparent;\n",
              "      border-left-color: var(--fill-color);\n",
              "      border-top-color: var(--fill-color);\n",
              "    }\n",
              "    30% {\n",
              "      border-color: transparent;\n",
              "      border-left-color: var(--fill-color);\n",
              "      border-top-color: var(--fill-color);\n",
              "      border-right-color: var(--fill-color);\n",
              "    }\n",
              "    40% {\n",
              "      border-color: transparent;\n",
              "      border-right-color: var(--fill-color);\n",
              "      border-top-color: var(--fill-color);\n",
              "    }\n",
              "    60% {\n",
              "      border-color: transparent;\n",
              "      border-right-color: var(--fill-color);\n",
              "    }\n",
              "    80% {\n",
              "      border-color: transparent;\n",
              "      border-right-color: var(--fill-color);\n",
              "      border-bottom-color: var(--fill-color);\n",
              "    }\n",
              "    90% {\n",
              "      border-color: transparent;\n",
              "      border-bottom-color: var(--fill-color);\n",
              "    }\n",
              "  }\n",
              "</style>\n",
              "\n",
              "  <script>\n",
              "    async function quickchart(key) {\n",
              "      const quickchartButtonEl =\n",
              "        document.querySelector('#' + key + ' button');\n",
              "      quickchartButtonEl.disabled = true;  // To prevent multiple clicks.\n",
              "      quickchartButtonEl.classList.add('colab-df-spinner');\n",
              "      try {\n",
              "        const charts = await google.colab.kernel.invokeFunction(\n",
              "            'suggestCharts', [key], {});\n",
              "      } catch (error) {\n",
              "        console.error('Error during call to suggestCharts:', error);\n",
              "      }\n",
              "      quickchartButtonEl.classList.remove('colab-df-spinner');\n",
              "      quickchartButtonEl.classList.add('colab-df-quickchart-complete');\n",
              "    }\n",
              "    (() => {\n",
              "      let quickchartButtonEl =\n",
              "        document.querySelector('#df-1833a0a1-acc9-47df-9d5f-965ee37cac8f button');\n",
              "      quickchartButtonEl.style.display =\n",
              "        google.colab.kernel.accessAllowed ? 'block' : 'none';\n",
              "    })();\n",
              "  </script>\n",
              "</div>\n",
              "    </div>\n",
              "  </div>\n"
            ]
          },
          "metadata": {},
          "execution_count": 4
        }
      ]
    },
    {
      "cell_type": "code",
      "source": [
        "#Compter le nombre d'occurrences de chaque classe dans la séquence irisData.target\n",
        "Counter(irisData.target)"
      ],
      "metadata": {
        "colab": {
          "base_uri": "https://localhost:8080/"
        },
        "id": "2AX8erbDredP",
        "outputId": "86a0896d-a124-41f2-b6a5-9c02235ddf30"
      },
      "execution_count": 5,
      "outputs": [
        {
          "output_type": "execute_result",
          "data": {
            "text/plain": [
              "Counter({0: 50, 1: 50, 2: 50})"
            ]
          },
          "metadata": {},
          "execution_count": 5
        }
      ]
    },
    {
      "cell_type": "code",
      "source": [
        "irisData.data.shape"
      ],
      "metadata": {
        "colab": {
          "base_uri": "https://localhost:8080/"
        },
        "id": "yTUkuYuLryN5",
        "outputId": "bfabda49-9aee-438c-8a20-3bd0ac1037c1"
      },
      "execution_count": 6,
      "outputs": [
        {
          "output_type": "execute_result",
          "data": {
            "text/plain": [
              "(150, 4)"
            ]
          },
          "metadata": {},
          "execution_count": 6
        }
      ]
    },
    {
      "cell_type": "code",
      "source": [
        "def plot_2D(data=irisData.data, target=irisData.target, target_names=irisData.target_names):\n",
        "    #générateur qui produit une séquence cyclique de couleurs\n",
        "    colors = cycle('rgbcmykw')\n",
        "    # Cette ligne crée une séquence d'identifiants pour les cibles\n",
        "    target_ids = range(len(target_names))\n",
        "    pl.figure()\n",
        "    for i, c, label in zip(target_ids, colors, target_names):\n",
        "        pl.scatter(data[target == i, 2], data[target == i, 3], c=c, label=label)\n",
        "\n",
        "    pl.plot([2.5, 2.5], [0, 3])\n",
        "    pl.plot([0.75, 7], [0.75, 0.75])\n",
        "    pl.legend()\n",
        "\n",
        "    # Set labels for x and y axes\n",
        "    pl.xlabel('Petal Length')\n",
        "    pl.ylabel('Petal Width')\n",
        "\n",
        "    pl.show()"
      ],
      "metadata": {
        "id": "h2F1GpfnqQYI"
      },
      "execution_count": 7,
      "outputs": []
    },
    {
      "cell_type": "code",
      "source": [
        "plot_2D()"
      ],
      "metadata": {
        "colab": {
          "base_uri": "https://localhost:8080/",
          "height": 449
        },
        "id": "Ig7Ezr5gqsdU",
        "outputId": "451e95ff-537c-47e5-8b90-aa1324dff729"
      },
      "execution_count": 8,
      "outputs": [
        {
          "output_type": "display_data",
          "data": {
            "text/plain": [
              "<Figure size 640x480 with 1 Axes>"
            ],
            "image/png": "[encoded data removed]"
          },
          "metadata": {}
        }
      ]
    },
    {
      "cell_type": "markdown",
      "source": [
        "# **Naive bayes**"
      ],
      "metadata": {
        "id": "WVAcDFQszIgo"
      }
    },
    {
      "cell_type": "code",
      "source": [
        "nb = naive_bayes.MultinomialNB(fit_prior=True)# un algo d'apprentissage\n",
        "# tester sur la totalité des données du dataset\n",
        "nb.fit(irisData.data[:], irisData.target[:])"
      ],
      "metadata": {
        "colab": {
          "base_uri": "https://localhost:8080/",
          "height": 75
        },
        "id": "45QwMqsiutyC",
        "outputId": "d38edcb7-fb53-4710-97f9-527a8a734d71"
      },
      "execution_count": 9,
      "outputs": [
        {
          "output_type": "execute_result",
          "data": {
            "text/plain": [
              "MultinomialNB()"
            ],
            "text/html": [
              "<style>#sk-container-id-1 {color: black;background-color: white;}#sk-container-id-1 pre{padding: 0;}#sk-container-id-1 div.sk-toggleable {background-color: white;}#sk-container-id-1 label.sk-toggleable__label {cursor: pointer;display: block;width: 100%;margin-bottom: 0;padding: 0.3em;box-sizing: border-box;text-align: center;}#sk-container-id-1 label.sk-toggleable__label-arrow:before {content: \"▸\";float: left;margin-right: 0.25em;color: #696969;}#sk-container-id-1 label.sk-toggleable__label-arrow:hover:before {color: black;}#sk-container-id-1 div.sk-estimator:hover label.sk-toggleable__label-arrow:before {color: black;}#sk-container-id-1 div.sk-toggleable__content {max-height: 0;max-width: 0;overflow: hidden;text-align: left;background-color: #f0f8ff;}#sk-container-id-1 div.sk-toggleable__content pre {margin: 0.2em;color: black;border-radius: 0.25em;background-color: #f0f8ff;}#sk-container-id-1 input.sk-toggleable__control:checked~div.sk-toggleable__content {max-height: 200px;max-width: 100%;overflow: auto;}#sk-container-id-1 input.sk-toggleable__control:checked~label.sk-toggleable__label-arrow:before {content: \"▾\";}#sk-container-id-1 div.sk-estimator input.sk-toggleable__control:checked~label.sk-toggleable__label {background-color: #d4ebff;}#sk-container-id-1 div.sk-label input.sk-toggleable__control:checked~label.sk-toggleable__label {background-color: #d4ebff;}#sk-container-id-1 input.sk-hidden--visually {border: 0;clip: rect(1px 1px 1px 1px);clip: rect(1px, 1px, 1px, 1px);height: 1px;margin: -1px;overflow: hidden;padding: 0;position: absolute;width: 1px;}#sk-container-id-1 div.sk-estimator {font-family: monospace;background-color: #f0f8ff;border: 1px dotted black;border-radius: 0.25em;box-sizing: border-box;margin-bottom: 0.5em;}#sk-container-id-1 div.sk-estimator:hover {background-color: #d4ebff;}#sk-container-id-1 div.sk-parallel-item::after {content: \"\";width: 100%;border-bottom: 1px solid gray;flex-grow: 1;}#sk-container-id-1 div.sk-label:hover label.sk-toggleable__label {background-color: #d4ebff;}#sk-container-id-1 div.sk-serial::before {content: \"\";position: absolute;border-left: 1px solid gray;box-sizing: border-box;top: 0;bottom: 0;left: 50%;z-index: 0;}#sk-container-id-1 div.sk-serial {display: flex;flex-direction: column;align-items: center;background-color: white;padding-right: 0.2em;padding-left: 0.2em;position: relative;}#sk-container-id-1 div.sk-item {position: relative;z-index: 1;}#sk-container-id-1 div.sk-parallel {display: flex;align-items: stretch;justify-content: center;background-color: white;position: relative;}#sk-container-id-1 div.sk-item::before, #sk-container-id-1 div.sk-parallel-item::before {content: \"\";position: absolute;border-left: 1px solid gray;box-sizing: border-box;top: 0;bottom: 0;left: 50%;z-index: -1;}#sk-container-id-1 div.sk-parallel-item {display: flex;flex-direction: column;z-index: 1;position: relative;background-color: white;}#sk-container-id-1 div.sk-parallel-item:first-child::after {align-self: flex-end;width: 50%;}#sk-container-id-1 div.sk-parallel-item:last-child::after {align-self: flex-start;width: 50%;}#sk-container-id-1 div.sk-parallel-item:only-child::after {width: 0;}#sk-container-id-1 div.sk-dashed-wrapped {border: 1px dashed gray;margin: 0 0.4em 0.5em 0.4em;box-sizing: border-box;padding-bottom: 0.4em;background-color: white;}#sk-container-id-1 div.sk-label label {font-family: monospace;font-weight: bold;display: inline-block;line-height: 1.2em;}#sk-container-id-1 div.sk-label-container {text-align: center;}#sk-container-id-1 div.sk-container {/* jupyter's `normalize.less` sets `[hidden] { display: none; }` but bootstrap.min.css set `[hidden] { display: none !important; }` so we also need the `!important` here to be able to override the default hidden behavior on the sphinx rendered scikit-learn.org. See: https://github.com/scikit-learn/scikit-learn/issues/21755 */display: inline-block !important;position: relative;}#sk-container-id-1 div.sk-text-repr-fallback {display: none;}</style><div id=\"sk-container-id-1\" class=\"sk-top-container\"><div class=\"sk-text-repr-fallback\"><pre>MultinomialNB()</pre><b>In a Jupyter environment, please rerun this cell to show the HTML representation or trust the notebook. <br />On GitHub, the HTML representation is unable to render, please try loading this page with nbviewer.org.</b></div><div class=\"sk-container\" hidden><div class=\"sk-item\"><div class=\"sk-estimator sk-toggleable\"><input class=\"sk-toggleable__control sk-hidden--visually\" id=\"sk-estimator-id-1\" type=\"checkbox\" checked><label for=\"sk-estimator-id-1\" class=\"sk-toggleable__label sk-toggleable__label-arrow\">MultinomialNB</label><div class=\"sk-toggleable__content\"><pre>MultinomialNB()</pre></div></div></div></div></div>"
            ]
          },
          "metadata": {},
          "execution_count": 9
        }
      ]
    },
    {
      "cell_type": "code",
      "source": [
        "p31 = nb.predict(irisData.data[[31]])\n",
        "print (p31)\n",
        "plast = nb.predict(irisData.data[[-1]])\n",
        "print (plast)\n",
        "p = nb.predict(irisData.data[:])\n",
        "print (p)"
      ],
      "metadata": {
        "colab": {
          "base_uri": "https://localhost:8080/"
        },
        "id": "5BoJ9rdBzbgI",
        "outputId": "60056e1f-9e3c-4b80-f8dc-e695cada1d7d"
      },
      "execution_count": 10,
      "outputs": [
        {
          "output_type": "stream",
          "name": "stdout",
          "text": [
            "[0]\n",
            "[2]\n",
            "[0 0 0 0 0 0 0 0 0 0 0 0 0 0 0 0 0 0 0 0 0 0 0 0 0 0 0 0 0 0 0 0 0 0 0 0 0\n",
            " 0 0 0 0 0 0 0 0 0 0 0 0 0 1 1 1 1 1 1 1 1 1 1 1 1 1 1 1 1 1 1 2 1 2 1 2 1\n",
            " 1 1 1 1 1 1 1 1 1 2 1 1 1 1 1 1 1 1 1 1 1 1 1 1 1 1 2 2 2 2 2 2 2 2 2 2 2\n",
            " 2 2 2 2 2 2 2 2 2 2 2 2 2 2 2 2 2 2 1 2 1 2 1 2 2 2 2 2 2 2 2 2 2 2 2 2 2\n",
            " 2 2]\n"
          ]
        }
      ]
    },
    {
      "cell_type": "code",
      "source": [
        "nb1 = naive_bayes.MultinomialNB(fit_prior=True)\n",
        "# Entraîne le modèle Naive Bayes multinomial sur les 99 premières instances de l'ensemble de données Iris.\n",
        "nb1.fit(irisData.data[:99], irisData.target[:99])\n",
        "# Utilise le modèle entraîné pour faire des prédictions sur les instances de l'ensemble de données Iris situées entre les indices 100 et 148\n",
        "nb1.predict(irisData.data[100:149])\n"
      ],
      "metadata": {
        "colab": {
          "base_uri": "https://localhost:8080/"
        },
        "id": "LYzXn2xRzh02",
        "outputId": "f409008a-f21d-4c51-dc12-c37e9cbdcee9"
      },
      "execution_count": 11,
      "outputs": [
        {
          "output_type": "execute_result",
          "data": {
            "text/plain": [
              "array([1, 1, 1, 1, 1, 1, 1, 1, 1, 1, 1, 1, 1, 1, 1, 1, 1, 1, 1, 1, 1, 1,\n",
              "       1, 1, 1, 1, 1, 1, 1, 1, 1, 1, 1, 1, 1, 1, 1, 1, 1, 1, 1, 1, 1, 1,\n",
              "       1, 1, 1, 1, 1])"
            ]
          },
          "metadata": {},
          "execution_count": 11
        }
      ]
    },
    {
      "cell_type": "markdown",
      "source": [
        "En entraînant notre modèle sur les éléments de 0 à 99, cela est effectué uniquement sur les données des classes 0 et 1. Ainsi, l'entraînement se limite à setosa et versicolor ; il n'y a pas d'entraînement sur virginica. Par conséquent, les résultats des prédictions se limiteront aux classes 0 et 1, sans tenir compte de la classe 2 qui représente virginica. Cela conduira à des prédictions incorrectes pour cette classe"
      ],
      "metadata": {
        "id": "jzuFwTT2FHwG"
      }
    },
    {
      "cell_type": "markdown",
      "source": [
        "## ***model evaluation***"
      ],
      "metadata": {
        "id": "LrtQ0A5p4P4U"
      }
    },
    {
      "cell_type": "markdown",
      "source": [
        "### Performances sur l'ensemble d'apprentissage"
      ],
      "metadata": {
        "id": "iDKBVvEk53Ua"
      }
    },
    {
      "cell_type": "code",
      "source": [
        "print(\"method 1\")\n",
        "ea = 0\n",
        "for i in range(len(irisData.data)):\n",
        "  if (p[i] !=irisData.target[i]):\n",
        "    ea = ea+1\n",
        "print(f'error rate: {ea/len(irisData.data)}')"
      ],
      "metadata": {
        "colab": {
          "base_uri": "https://localhost:8080/"
        },
        "id": "sIQjO5_d38sp",
        "outputId": "b5d2ad79-7e7f-49ff-a2af-bf25f86b5869"
      },
      "execution_count": 12,
      "outputs": [
        {
          "output_type": "stream",
          "name": "stdout",
          "text": [
            "method 1\n",
            "error rate: 0.04666666666666667\n"
          ]
        }
      ]
    },
    {
      "cell_type": "code",
      "source": [
        "np.nonzero(p-irisData.target)"
      ],
      "metadata": {
        "colab": {
          "base_uri": "https://localhost:8080/"
        },
        "id": "lb3JTVDEIMNa",
        "outputId": "a8a9c091-dc43-4276-8ce3-6c2be9118244"
      },
      "execution_count": 13,
      "outputs": [
        {
          "output_type": "execute_result",
          "data": {
            "text/plain": [
              "(array([ 68,  70,  72,  83, 129, 131, 133]),)"
            ]
          },
          "metadata": {},
          "execution_count": 13
        }
      ]
    },
    {
      "cell_type": "code",
      "source": [
        "#Indice : pensez à exploiter le tableau P-Y : que représentent des valeurs non nulles ? les valeurs que le modele n'a pas reussi a predire\n",
        "# Comment compter (en une seule instruction) le nombre de valeurs non-nulles1\n",
        "# ?\n",
        "\n",
        "print(\"method 2\")\n",
        "print(f'number of non null values : {len(np.nonzero(p-irisData.target)[0])}')\n",
        "print(f'error rate : {len(np.nonzero(p-irisData.target)[0])/150}')"
      ],
      "metadata": {
        "colab": {
          "base_uri": "https://localhost:8080/"
        },
        "id": "0vWMlFdA6ZPZ",
        "outputId": "06f7ee4c-604a-4a76-cda9-6122812a0e45"
      },
      "execution_count": 14,
      "outputs": [
        {
          "output_type": "stream",
          "name": "stdout",
          "text": [
            "method 2\n",
            "number of non null values : 7\n",
            "error rate : 0.04666666666666667\n"
          ]
        }
      ]
    },
    {
      "cell_type": "code",
      "source": [
        "print(\"method 3\")\n",
        "print(f'error rate : {1-nb.score(irisData.data,irisData.target)}')"
      ],
      "metadata": {
        "colab": {
          "base_uri": "https://localhost:8080/"
        },
        "id": "7tzlqgzw5TBa",
        "outputId": "536e1961-fe06-473b-eec5-54cb289839f9"
      },
      "execution_count": 15,
      "outputs": [
        {
          "output_type": "stream",
          "name": "stdout",
          "text": [
            "method 3\n",
            "error rate : 0.046666666666666634\n"
          ]
        }
      ]
    },
    {
      "cell_type": "markdown",
      "source": [
        "nous avons évalué notre modele sur le training set\n",
        "\n",
        "l'error sur le training set est de : 0.046"
      ],
      "metadata": {
        "id": "O5uYDn5j-vzM"
      }
    },
    {
      "cell_type": "code",
      "source": [
        "indexes = list(range(len(irisData.data)))\n",
        "random.shuffle(indexes)\n",
        "indexes"
      ],
      "metadata": {
        "colab": {
          "base_uri": "https://localhost:8080/"
        },
        "id": "5Q8nwhUWJWtR",
        "outputId": "4e09b713-da02-4dcb-8223-e3a4d1f4fa95"
      },
      "execution_count": 16,
      "outputs": [
        {
          "output_type": "execute_result",
          "data": {
            "text/plain": [
              "[87,\n",
              " 104,\n",
              " 92,\n",
              " 46,\n",
              " 126,\n",
              " 97,\n",
              " 129,\n",
              " 60,\n",
              " 128,\n",
              " 10,\n",
              " 99,\n",
              " 34,\n",
              " 143,\n",
              " 103,\n",
              " 88,\n",
              " 63,\n",
              " 26,\n",
              " 85,\n",
              " 43,\n",
              " 24,\n",
              " 82,\n",
              " 51,\n",
              " 95,\n",
              " 17,\n",
              " 2,\n",
              " 78,\n",
              " 105,\n",
              " 141,\n",
              " 117,\n",
              " 52,\n",
              " 119,\n",
              " 53,\n",
              " 86,\n",
              " 70,\n",
              " 79,\n",
              " 23,\n",
              " 136,\n",
              " 89,\n",
              " 77,\n",
              " 68,\n",
              " 38,\n",
              " 15,\n",
              " 16,\n",
              " 114,\n",
              " 62,\n",
              " 101,\n",
              " 65,\n",
              " 100,\n",
              " 139,\n",
              " 140,\n",
              " 127,\n",
              " 76,\n",
              " 145,\n",
              " 147,\n",
              " 8,\n",
              " 33,\n",
              " 39,\n",
              " 28,\n",
              " 36,\n",
              " 109,\n",
              " 18,\n",
              " 91,\n",
              " 69,\n",
              " 107,\n",
              " 138,\n",
              " 72,\n",
              " 12,\n",
              " 47,\n",
              " 90,\n",
              " 106,\n",
              " 120,\n",
              " 20,\n",
              " 67,\n",
              " 137,\n",
              " 0,\n",
              " 146,\n",
              " 115,\n",
              " 112,\n",
              " 59,\n",
              " 66,\n",
              " 64,\n",
              " 57,\n",
              " 142,\n",
              " 123,\n",
              " 56,\n",
              " 130,\n",
              " 31,\n",
              " 113,\n",
              " 19,\n",
              " 148,\n",
              " 81,\n",
              " 45,\n",
              " 13,\n",
              " 35,\n",
              " 41,\n",
              " 50,\n",
              " 9,\n",
              " 61,\n",
              " 74,\n",
              " 133,\n",
              " 98,\n",
              " 71,\n",
              " 21,\n",
              " 48,\n",
              " 131,\n",
              " 80,\n",
              " 29,\n",
              " 116,\n",
              " 58,\n",
              " 11,\n",
              " 7,\n",
              " 83,\n",
              " 121,\n",
              " 75,\n",
              " 1,\n",
              " 37,\n",
              " 27,\n",
              " 54,\n",
              " 30,\n",
              " 49,\n",
              " 102,\n",
              " 40,\n",
              " 111,\n",
              " 124,\n",
              " 144,\n",
              " 42,\n",
              " 93,\n",
              " 6,\n",
              " 5,\n",
              " 110,\n",
              " 3,\n",
              " 135,\n",
              " 44,\n",
              " 108,\n",
              " 22,\n",
              " 132,\n",
              " 125,\n",
              " 14,\n",
              " 122,\n",
              " 4,\n",
              " 134,\n",
              " 25,\n",
              " 96,\n",
              " 84,\n",
              " 118,\n",
              " 149,\n",
              " 73,\n",
              " 55,\n",
              " 32,\n",
              " 94]"
            ]
          },
          "metadata": {},
          "execution_count": 16
        }
      ]
    },
    {
      "cell_type": "code",
      "source": [
        "class_indices = {}\n",
        "for i, label in enumerate(irisData.target):\n",
        "      if label not in class_indices:\n",
        "          class_indices[label] = []\n",
        "      class_indices[label].append(indexes[i])\n",
        "train_size_per_class = {label: int(2/3 * len(indices)) for label, indices in class_indices.items()}\n",
        "print(class_indices[1])\n",
        "train_indices = []\n",
        "test_indices = []\n",
        "for label in class_indices.keys():\n",
        "  train_indices.extend(class_indices[label][:train_size_per_class[label]])\n",
        "  test_indices.extend(class_indices[label][train_size_per_class[label]:])\n",
        "print(len(train_indices))\n"
      ],
      "metadata": {
        "colab": {
          "base_uri": "https://localhost:8080/"
        },
        "id": "eRNsedp6KLTY",
        "outputId": "8ca07464-bca9-421c-f57f-c28af866df38"
      },
      "execution_count": 17,
      "outputs": [
        {
          "output_type": "stream",
          "name": "stdout",
          "text": [
            "[127, 76, 145, 147, 8, 33, 39, 28, 36, 109, 18, 91, 69, 107, 138, 72, 12, 47, 90, 106, 120, 20, 67, 137, 0, 146, 115, 112, 59, 66, 64, 57, 142, 123, 56, 130, 31, 113, 19, 148, 81, 45, 13, 35, 41, 50, 9, 61, 74, 133]\n",
            "99\n"
          ]
        }
      ]
    },
    {
      "cell_type": "markdown",
      "source": [
        "## **Performances en généralisation**"
      ],
      "metadata": {
        "id": "szjnA750_GZR"
      }
    },
    {
      "cell_type": "code",
      "source": [
        "#question 1:\n",
        "import random\n",
        "\n",
        "def split(S, random_state=None, train_split=2/3, stratify=True):\n",
        "    indexes = list(range(len(S.data)))\n",
        "\n",
        "    random.seed(random_state)\n",
        "    random.shuffle(indexes)\n",
        "\n",
        "    if stratify:\n",
        "        class_indices = {}\n",
        "        for i, label in enumerate(S.target):\n",
        "            if label not in class_indices:\n",
        "                class_indices[label] = []\n",
        "            class_indices[label].append(indexes[i])\n",
        "\n",
        "        train_size_per_class = {label: int(train_split * len(indices)) for label, indices in class_indices.items()}\n",
        "\n",
        "        train_indices = []\n",
        "        test_indices = []\n",
        "        for label in class_indices.keys():\n",
        "                train_indices.extend(class_indices[label][:train_size_per_class[label]])\n",
        "                test_indices.extend(class_indices[label][train_size_per_class[label]:])\n",
        "\n",
        "    else:\n",
        "        train_size = int(train_split * len(S.data))\n",
        "        train_indices = indexes[:train_size]\n",
        "        test_indices = indexes[train_size:]\n",
        "\n",
        "    X_train = S.data[train_indices]\n",
        "    y_train = S.target[train_indices]\n",
        "    X_test = S.data[test_indices]\n",
        "    y_test = S.target[test_indices]\n",
        "\n",
        "    return X_train, y_train, X_test, y_test\n",
        "\n"
      ],
      "metadata": {
        "id": "V2PDSqiv7_TK"
      },
      "execution_count": 18,
      "outputs": []
    },
    {
      "cell_type": "code",
      "source": [
        "X_train,y_train,X_test,y_test=split(irisData)\n",
        "\n",
        "print(f'size of X_train: {len(X_train)} with shape : {X_train.shape}')\n",
        "print(f'size of X_test : {len(X_test)} with shape : {X_test.shape}')\n",
        "print(f'size of y_train: {len(y_train)} with shape : {y_train.shape}')\n",
        "print(f'size of y_test : {len(y_test)} with shape : {y_test.shape}')\n"
      ],
      "metadata": {
        "colab": {
          "base_uri": "https://localhost:8080/"
        },
        "id": "oejn34KtAKXC",
        "outputId": "9a7969e4-b474-4d09-ab8c-b6d84ab63bfc"
      },
      "execution_count": 19,
      "outputs": [
        {
          "output_type": "stream",
          "name": "stdout",
          "text": [
            "size of X_train: 99 with shape : (99, 4)\n",
            "size of X_test : 51 with shape : (51, 4)\n",
            "size of y_train: 99 with shape : (99,)\n",
            "size of y_test : 51 with shape : (51,)\n"
          ]
        }
      ]
    },
    {
      "cell_type": "code",
      "source": [
        "#question 2\n",
        "def test(S,clf,train_split=2/3):\n",
        "  X_train,y_train,X_test,y_test=split(S,train_split=train_split)\n",
        "  clf.fit(X_train,y_train)\n",
        "\n",
        "  predictions=clf.predict(X_test)\n",
        "  error = len(np.nonzero(predictions-y_test)[0])/len(y_test)\n",
        "\n",
        "  return error"
      ],
      "metadata": {
        "id": "j6V6pRu_BgA1"
      },
      "execution_count": 20,
      "outputs": []
    },
    {
      "cell_type": "code",
      "source": [
        "def train_error(S,clf,train_split=2/3):\n",
        "  X_train,y_train,X_test,y_test=split(S,train_split=train_split)\n",
        "  clf.fit(X_train,y_train)\n",
        "\n",
        "  predictions=clf.predict(X_train)\n",
        "  train_error = len(np.nonzero(predictions-y_train)[0])/len(y_train)\n",
        "\n",
        "  return train_error"
      ],
      "metadata": {
        "id": "gzd6YFzOtZMX"
      },
      "execution_count": 34,
      "outputs": []
    },
    {
      "cell_type": "code",
      "source": [
        "clf = naive_bayes.MultinomialNB(fit_prior=True)\n",
        "error_rate = test(irisData, clf)\n",
        "train_error_rate = train_error(irisData,clf)\n",
        "print(\"Taux d'erreur estimé avec Naive Bayes en utilisant split:\", error_rate)\n",
        "print(\"Taux d'erreur estimé sur le training set avec Naive Bayes en utilisant split:\", train_error_rate)"
      ],
      "metadata": {
        "colab": {
          "base_uri": "https://localhost:8080/"
        },
        "id": "R6wAZPtPBjAU",
        "outputId": "ca0789ab-4465-4314-cc02-992af1da7cc5"
      },
      "execution_count": 22,
      "outputs": [
        {
          "output_type": "stream",
          "name": "stdout",
          "text": [
            "Taux d'erreur estimé avec Naive Bayes en utilisant split: 0.47058823529411764\n",
            "Taux d'erreur estimé sur le training set avec Naive Bayes en utilisant split: 0.2727272727272727\n"
          ]
        }
      ]
    },
    {
      "cell_type": "code",
      "source": [
        "#question 3\n",
        "def test_t(S, clf, t,train_split=2/3):\n",
        "    error_rates = []\n",
        "    for _ in range(t):\n",
        "        error_rate = test(S, clf,train_split=train_split)\n",
        "        error_rates.append(error_rate)\n",
        "    mean_error = np.mean(error_rates)\n",
        "    return mean_error, error_rates"
      ],
      "metadata": {
        "id": "85ZhOvMrJhb3"
      },
      "execution_count": 23,
      "outputs": []
    },
    {
      "cell_type": "code",
      "source": [
        "#question 4\n",
        "def train_error_t(S, clf, t,train_split=2/3):\n",
        "    error_rates = []\n",
        "    for _ in range(t):\n",
        "        error_rate = train_error(S, clf,train_split=train_split)\n",
        "        error_rates.append(error_rate)\n",
        "    mean_error = np.mean(error_rates)\n",
        "    return mean_error, error_rates"
      ],
      "metadata": {
        "id": "HH2bJv9XxM2N"
      },
      "execution_count": 24,
      "outputs": []
    },
    {
      "cell_type": "code",
      "source": [
        "print(\"error on the test set\")\n",
        "test_t(irisData,clf, 10,train_split=2/3)"
      ],
      "metadata": {
        "colab": {
          "base_uri": "https://localhost:8080/"
        },
        "id": "YlmR9qZ-P3be",
        "outputId": "2fe3a693-404f-4056-9e28-14e7bf10934a"
      },
      "execution_count": 25,
      "outputs": [
        {
          "output_type": "stream",
          "name": "stdout",
          "text": [
            "error on the test set\n"
          ]
        },
        {
          "output_type": "execute_result",
          "data": {
            "text/plain": [
              "(0.13529411764705884,\n",
              " [0.0784313725490196,\n",
              "  0.058823529411764705,\n",
              "  0.23529411764705882,\n",
              "  0.1568627450980392,\n",
              "  0.0,\n",
              "  0.13725490196078433,\n",
              "  0.29411764705882354,\n",
              "  0.2549019607843137,\n",
              "  0.0784313725490196,\n",
              "  0.058823529411764705])"
            ]
          },
          "metadata": {},
          "execution_count": 25
        }
      ]
    },
    {
      "cell_type": "code",
      "source": [
        "print(\"error on the train set : \\n\")\n",
        "train_error_t(irisData,clf, 10,train_split=2/3)"
      ],
      "metadata": {
        "colab": {
          "base_uri": "https://localhost:8080/"
        },
        "id": "3YQmZMXRz_CM",
        "outputId": "d84e2a01-ac11-4779-e04f-b33d2920de89"
      },
      "execution_count": 26,
      "outputs": [
        {
          "output_type": "stream",
          "name": "stdout",
          "text": [
            "error on the train set : \n",
            "\n"
          ]
        },
        {
          "output_type": "execute_result",
          "data": {
            "text/plain": [
              "(0.1202020202020202,\n",
              " [0.04040404040404041,\n",
              "  0.020202020202020204,\n",
              "  0.2828282828282828,\n",
              "  0.06060606060606061,\n",
              "  0.29292929292929293,\n",
              "  0.12121212121212122,\n",
              "  0.16161616161616163,\n",
              "  0.0707070707070707,\n",
              "  0.12121212121212122,\n",
              "  0.030303030303030304])"
            ]
          },
          "metadata": {},
          "execution_count": 26
        }
      ]
    },
    {
      "cell_type": "code",
      "source": [
        "ts = [10, 50, 100, 200, 500, 1000]\n",
        "repetitions = 20\n",
        "result_table2 = PrettyTable(['t', 'Mean Error on the testset','Mean Error on the training set'])\n",
        "\n",
        "for t in ts:\n",
        "    clf =  naive_bayes.MultinomialNB(fit_prior=True)\n",
        "    test_mean_errors = []\n",
        "    train_mean_errors=[]\n",
        "    for _ in range(repetitions):\n",
        "        test_mean_error, _ = test_t(irisData, clf, t)\n",
        "        train_mean_error,_=train_error_t(irisData, clf, t)\n",
        "        test_mean_errors.append(test_mean_error)\n",
        "        train_mean_errors.append(train_mean_error)\n",
        "    test_error_rate = np.mean(test_mean_errors)\n",
        "    train_error_rate = np.mean(train_mean_errors)\n",
        "    result_table2.add_row([t, f\"{test_error_rate:.4f}\",f\"{train_error_rate:.4f}\"])\n",
        "\n",
        "    print(f\"Taux d'erreur moyen sur le test set pour t={t}: {test_error_rate}\")\n",
        "    print(f\"Taux d'erreur moyen sur le train set pour t={t}: {train_error_rate}\")\n",
        "\n",
        "print(result_table2)"
      ],
      "metadata": {
        "colab": {
          "base_uri": "https://localhost:8080/"
        },
        "id": "F03CYWJUPSts",
        "outputId": "e04f16e9-e777-48ca-9e28-d1255fa08876"
      },
      "execution_count": 27,
      "outputs": [
        {
          "output_type": "stream",
          "name": "stdout",
          "text": [
            "Taux d'erreur moyen sur le test set pour t=10: 0.20421568627450978\n",
            "Taux d'erreur moyen sur le train set pour t=10: 0.1526767676767677\n",
            "Taux d'erreur moyen sur le test set pour t=50: 0.21007843137254906\n",
            "Taux d'erreur moyen sur le train set pour t=50: 0.15742424242424244\n",
            "Taux d'erreur moyen sur le test set pour t=100: 0.20461764705882352\n",
            "Taux d'erreur moyen sur le train set pour t=100: 0.1591767676767677\n",
            "Taux d'erreur moyen sur le test set pour t=200: 0.2002598039215686\n",
            "Taux d'erreur moyen sur le train set pour t=200: 0.1592222222222222\n",
            "Taux d'erreur moyen sur le test set pour t=500: 0.2028686274509804\n",
            "Taux d'erreur moyen sur le train set pour t=500: 0.15739999999999998\n",
            "Taux d'erreur moyen sur le test set pour t=1000: 0.20342745098039217\n",
            "Taux d'erreur moyen sur le train set pour t=1000: 0.15697222222222224\n",
            "+------+---------------------------+--------------------------------+\n",
            "|  t   | Mean Error on the testset | Mean Error on the training set |\n",
            "+------+---------------------------+--------------------------------+\n",
            "|  10  |           0.2042          |             0.1527             |\n",
            "|  50  |           0.2101          |             0.1574             |\n",
            "| 100  |           0.2046          |             0.1592             |\n",
            "| 200  |           0.2003          |             0.1592             |\n",
            "| 500  |           0.2029          |             0.1574             |\n",
            "| 1000 |           0.2034          |             0.1570             |\n",
            "+------+---------------------------+--------------------------------+\n"
          ]
        }
      ]
    },
    {
      "cell_type": "markdown",
      "source": [
        "plus t augmente , plus l'erreur est stable ce qui nous renseigne sur l'erreur dans le cas general"
      ],
      "metadata": {
        "id": "fiokFi1GP5ln"
      }
    },
    {
      "cell_type": "code",
      "source": [
        "#question 4\n",
        "ts = [10, 50, 100, 200, 500, 1000]\n",
        "repetitions = 20\n",
        "result_table1 = PrettyTable(['t', 'Mean Test Error', 'Mean Train Error'])\n",
        "\n",
        "for t in ts:\n",
        "    clf = naive_bayes.MultinomialNB(fit_prior=True)\n",
        "    test_mean_errors = []\n",
        "    train_mean_errors = []\n",
        "\n",
        "    for _ in range(repetitions):\n",
        "        test_mean_error, _ = test_t(irisData, clf, t, train_split=0.9)\n",
        "        train_mean_error, _ = train_error_t(irisData, clf, t)\n",
        "        test_mean_errors.append(test_mean_error)\n",
        "        train_mean_errors.append(train_mean_error)\n",
        "\n",
        "    test_error_rate = np.mean(test_mean_errors)\n",
        "    train_error_rate = np.mean(train_mean_errors)\n",
        "\n",
        "    result_table1.add_row([t, f\"{test_error_rate:.4f}\", f\"{train_error_rate:.4f}\"])\n",
        "    print(f\"Taux d'erreur moyen sur le test set pour t={t}: {test_error_rate}\")\n",
        "    print(f\"Taux d'erreur moyen sur le train set pour t={t}: {train_error_rate}\")\n",
        "\n",
        "print(result_table1)\n"
      ],
      "metadata": {
        "id": "6WUjp9OSPSwC",
        "colab": {
          "base_uri": "https://localhost:8080/"
        },
        "outputId": "3bdf734c-aa0e-44d0-c5e7-e04f147c705e"
      },
      "execution_count": 28,
      "outputs": [
        {
          "output_type": "stream",
          "name": "stdout",
          "text": [
            "Taux d'erreur moyen sur le test set pour t=10: 0.11399999999999999\n",
            "Taux d'erreur moyen sur le train set pour t=10: 0.16595959595959592\n",
            "Taux d'erreur moyen sur le test set pour t=50: 0.1274\n",
            "Taux d'erreur moyen sur le train set pour t=50: 0.16098989898989902\n",
            "Taux d'erreur moyen sur le test set pour t=100: 0.11763333333333334\n",
            "Taux d'erreur moyen sur le train set pour t=100: 0.15944949494949495\n",
            "Taux d'erreur moyen sur le test set pour t=200: 0.12458333333333334\n",
            "Taux d'erreur moyen sur le train set pour t=200: 0.15566161616161614\n",
            "Taux d'erreur moyen sur le test set pour t=500: 0.12168666666666665\n",
            "Taux d'erreur moyen sur le train set pour t=500: 0.15862727272727273\n",
            "Taux d'erreur moyen sur le test set pour t=1000: 0.12211666666666668\n",
            "Taux d'erreur moyen sur le train set pour t=1000: 0.15752323232323234\n",
            "+------+-----------------+------------------+\n",
            "|  t   | Mean Test Error | Mean Train Error |\n",
            "+------+-----------------+------------------+\n",
            "|  10  |      0.1140     |      0.1660      |\n",
            "|  50  |      0.1274     |      0.1610      |\n",
            "| 100  |      0.1176     |      0.1594      |\n",
            "| 200  |      0.1246     |      0.1557      |\n",
            "| 500  |      0.1217     |      0.1586      |\n",
            "| 1000 |      0.1221     |      0.1575      |\n",
            "+------+-----------------+------------------+\n"
          ]
        }
      ]
    },
    {
      "cell_type": "markdown",
      "source": [
        "on remarque que le taux d'error si on teste sur le 1/10 de l'echantillon diminue par rapport au cas ou on a testé le modele sur le 1/3 de notre jeu de données"
      ],
      "metadata": {
        "id": "iEiAaF1NRgiX"
      }
    },
    {
      "cell_type": "code",
      "source": [
        "#question 5\n",
        "from sklearn.metrics import accuracy_score\n",
        "import matplotlib.pyplot as plt\n",
        "\n",
        "test_sizes = [0.1,0.2, 0.25,0.3, 0.33, 0.4, 0.7]\n",
        "result_table = PrettyTable(['Test Size', 'Error Rate on test set','Error Rate on train set'])\n",
        "test_error_rates = []\n",
        "train_error_rates = []\n",
        "for test_size in test_sizes:\n",
        "    clf =  naive_bayes.MultinomialNB(fit_prior=True)\n",
        "    # Split the data into training and testing sets\n",
        "    X_train, X_test, y_train, y_test = train_test_split(\n",
        "        irisData.data, irisData.target, test_size=test_size\n",
        "    )\n",
        "    clf.fit(X_train, y_train)\n",
        "    train_predictions = clf.predict(X_train)\n",
        "    train_error_rate = 1 - accuracy_score(y_train, train_predictions)\n",
        "    test_predictions = clf.predict(X_test)\n",
        "    test_error_rate = 1 - accuracy_score(y_test, test_predictions)\n",
        "    test_error_rates.append(test_error_rate)\n",
        "    train_error_rates.append(train_error_rate)\n",
        "    result_table.add_row([test_size, f\"{test_error_rate:.4f}\", f\"{train_error_rate:.4f}\"])\n",
        "    print(f\"Test Size: {test_size}, error rate: {error_rate}\")\n",
        "print(result_table)\n",
        "\n",
        "# Tracé de la courbe\n",
        "plt.plot( train_error_rates,test_sizes, label='Error Rate on Train Set', marker='o')\n",
        "plt.plot(test_error_rates,test_sizes, label='Error Rate on Test Set', marker='o')\n",
        "\n",
        "# Ajout de légendes et de titres\n",
        "plt.ylabel('Test Size')\n",
        "plt.xlabel('Error Rate')\n",
        "plt.legend()\n",
        "\n",
        "# Affichage du graphique\n",
        "plt.show()"
      ],
      "metadata": {
        "id": "6FBsxDpOPSxy",
        "colab": {
          "base_uri": "https://localhost:8080/",
          "height": 761
        },
        "outputId": "721d9e38-42db-4d0e-a9d3-7f8c1d931045"
      },
      "execution_count": 35,
      "outputs": [
        {
          "output_type": "stream",
          "name": "stdout",
          "text": [
            "Test Size: 0.1, error rate: 0.47058823529411764\n",
            "Test Size: 0.2, error rate: 0.47058823529411764\n",
            "Test Size: 0.25, error rate: 0.47058823529411764\n",
            "Test Size: 0.3, error rate: 0.47058823529411764\n",
            "Test Size: 0.33, error rate: 0.47058823529411764\n",
            "Test Size: 0.4, error rate: 0.47058823529411764\n",
            "Test Size: 0.7, error rate: 0.47058823529411764\n",
            "+-----------+------------------------+-------------------------+\n",
            "| Test Size | Error Rate on test set | Error Rate on train set |\n",
            "+-----------+------------------------+-------------------------+\n",
            "|    0.1    |         0.1333         |          0.1481         |\n",
            "|    0.2    |         0.0667         |          0.1000         |\n",
            "|    0.25   |         0.1316         |          0.1250         |\n",
            "|    0.3    |         0.2889         |          0.2667         |\n",
            "|    0.33   |         0.2000         |          0.1000         |\n",
            "|    0.4    |         0.3167         |          0.2222         |\n",
            "|    0.7    |         0.0667         |          0.0667         |\n",
            "+-----------+------------------------+-------------------------+\n"
          ]
        },
        {
          "output_type": "display_data",
          "data": {
            "text/plain": [
              "<Figure size 640x480 with 1 Axes>"
            ],
            "image/png": "[encoded data removed]"
          },
          "metadata": {}
        }
      ]
    },
    {
      "cell_type": "markdown",
      "source": [
        "l'error rate augmente en proportion avec le test size\n",
        "\n",
        "on remarque que la meilleure valeur des test size est le 1/3 de la donnée"
      ],
      "metadata": {
        "id": "70ZEg5O5SY3z"
      }
    },
    {
      "cell_type": "markdown",
      "source": [
        "## **Cross Validation**"
      ],
      "metadata": {
        "id": "wW_0OFllTSKs"
      }
    },
    {
      "cell_type": "code",
      "source": [
        "clf =  naive_bayes.MultinomialNB(fit_prior=True)\n",
        "num_folds = [2, 3, 5, 8, 10]\n",
        "summary_table = PrettyTable(['Folds', 'Mean Test Error Rate'])\n",
        "error_rates=[]\n",
        "for folds in num_folds:\n",
        "    scores = cross_val_score(clf, irisData.data, irisData.target, cv=folds)\n",
        "    mean_error_rate = 1 - scores.mean()\n",
        "    error_rates.append(mean_error_rate)\n",
        "    summary_table.add_row([folds, f\"{mean_error_rate:.4f}\"])\n",
        "print(summary_table)\n"
      ],
      "metadata": {
        "id": "NgujvIJMS-S3",
        "colab": {
          "base_uri": "https://localhost:8080/"
        },
        "outputId": "963a2869-413e-413d-9203-8e23c3c3f7d1"
      },
      "execution_count": 37,
      "outputs": [
        {
          "output_type": "stream",
          "name": "stdout",
          "text": [
            "+-------+----------------------+\n",
            "| Folds | Mean Test Error Rate |\n",
            "+-------+----------------------+\n",
            "|   2   |        0.0467        |\n",
            "|   3   |        0.0533        |\n",
            "|   5   |        0.0467        |\n",
            "|   8   |        0.0526        |\n",
            "|   10  |        0.0467        |\n",
            "+-------+----------------------+\n"
          ]
        }
      ]
    },
    {
      "cell_type": "code",
      "source": [
        "import matplotlib.pyplot as plt\n",
        "\n",
        "plt.plot(num_folds, error_rates, marker='o')\n",
        "plt.title('Error Rate vs. Number of Folds')\n",
        "plt.xlabel('Number of Folds')\n",
        "plt.ylabel('Mean Error Rate')\n",
        "plt.show()"
      ],
      "metadata": {
        "id": "QiFH8h8m0I22",
        "colab": {
          "base_uri": "https://localhost:8080/",
          "height": 472
        },
        "outputId": "a4bc70c1-b33b-4cb8-c48b-ba1a6e59174a"
      },
      "execution_count": 38,
      "outputs": [
        {
          "output_type": "display_data",
          "data": {
            "text/plain": [
              "<Figure size 640x480 with 1 Axes>"
            ],
            "image/png": "[encoded data removed]"
          },
          "metadata": {}
        }
      ]
    },
    {
      "cell_type": "code",
      "source": [
        "pretty_tables=[summary_table,result_table,result_table1,result_table2]\n",
        "titles=[\"cross validation\",\"using train_test_split predefined method\",\"test_split=0.1 with repetition\",\"test_split=1/3 with repetition\"]\n",
        "for title,table in zip(titles,pretty_tables):\n",
        "  print('---',title,'---')\n",
        "  print(table)\n",
        "\n"
      ],
      "metadata": {
        "id": "yayOnqeDULbB",
        "colab": {
          "base_uri": "https://localhost:8080/"
        },
        "outputId": "a7150170-d08e-4cab-9433-d896d2b54b2e"
      },
      "execution_count": 39,
      "outputs": [
        {
          "output_type": "stream",
          "name": "stdout",
          "text": [
            "--- cross validation ---\n",
            "+-------+----------------------+\n",
            "| Folds | Mean Test Error Rate |\n",
            "+-------+----------------------+\n",
            "|   2   |        0.0467        |\n",
            "|   3   |        0.0533        |\n",
            "|   5   |        0.0467        |\n",
            "|   8   |        0.0526        |\n",
            "|   10  |        0.0467        |\n",
            "+-------+----------------------+\n",
            "--- using train_test_split predefined method ---\n",
            "+-----------+------------------------+-------------------------+\n",
            "| Test Size | Error Rate on test set | Error Rate on train set |\n",
            "+-----------+------------------------+-------------------------+\n",
            "|    0.1    |         0.1333         |          0.1481         |\n",
            "|    0.2    |         0.0667         |          0.1000         |\n",
            "|    0.25   |         0.1316         |          0.1250         |\n",
            "|    0.3    |         0.2889         |          0.2667         |\n",
            "|    0.33   |         0.2000         |          0.1000         |\n",
            "|    0.4    |         0.3167         |          0.2222         |\n",
            "|    0.7    |         0.0667         |          0.0667         |\n",
            "+-----------+------------------------+-------------------------+\n",
            "--- test_split=0.1 with repetition ---\n",
            "+------+-----------------+------------------+\n",
            "|  t   | Mean Test Error | Mean Train Error |\n",
            "+------+-----------------+------------------+\n",
            "|  10  |      0.1140     |      0.1660      |\n",
            "|  50  |      0.1274     |      0.1610      |\n",
            "| 100  |      0.1176     |      0.1594      |\n",
            "| 200  |      0.1246     |      0.1557      |\n",
            "| 500  |      0.1217     |      0.1586      |\n",
            "| 1000 |      0.1221     |      0.1575      |\n",
            "+------+-----------------+------------------+\n",
            "--- test_split=1/3 with repetition ---\n",
            "+------+---------------------------+--------------------------------+\n",
            "|  t   | Mean Error on the testset | Mean Error on the training set |\n",
            "+------+---------------------------+--------------------------------+\n",
            "|  10  |           0.2042          |             0.1527             |\n",
            "|  50  |           0.2101          |             0.1574             |\n",
            "| 100  |           0.2046          |             0.1592             |\n",
            "| 200  |           0.2003          |             0.1592             |\n",
            "| 500  |           0.2029          |             0.1574             |\n",
            "| 1000 |           0.2034          |             0.1570             |\n",
            "+------+---------------------------+--------------------------------+\n"
          ]
        }
      ]
    },
    {
      "cell_type": "markdown",
      "source": [
        "#**Decision Tree**"
      ],
      "metadata": {
        "id": "u5t1PAM26Io8"
      }
    },
    {
      "cell_type": "code",
      "source": [
        "model = DecisionTreeClassifier()# un algo d'apprentissage\n",
        "model.fit(irisData.data[:], irisData.target[:])"
      ],
      "metadata": {
        "id": "wFzdU5AoZw1F",
        "colab": {
          "base_uri": "https://localhost:8080/",
          "height": 75
        },
        "outputId": "63343eb4-62f1-4f9e-ec04-25bc60dd7b76"
      },
      "execution_count": 40,
      "outputs": [
        {
          "output_type": "execute_result",
          "data": {
            "text/plain": [
              "DecisionTreeClassifier()"
            ],
            "text/html": [
              "<style>#sk-container-id-2 {color: black;background-color: white;}#sk-container-id-2 pre{padding: 0;}#sk-container-id-2 div.sk-toggleable {background-color: white;}#sk-container-id-2 label.sk-toggleable__label {cursor: pointer;display: block;width: 100%;margin-bottom: 0;padding: 0.3em;box-sizing: border-box;text-align: center;}#sk-container-id-2 label.sk-toggleable__label-arrow:before {content: \"▸\";float: left;margin-right: 0.25em;color: #696969;}#sk-container-id-2 label.sk-toggleable__label-arrow:hover:before {color: black;}#sk-container-id-2 div.sk-estimator:hover label.sk-toggleable__label-arrow:before {color: black;}#sk-container-id-2 div.sk-toggleable__content {max-height: 0;max-width: 0;overflow: hidden;text-align: left;background-color: #f0f8ff;}#sk-container-id-2 div.sk-toggleable__content pre {margin: 0.2em;color: black;border-radius: 0.25em;background-color: #f0f8ff;}#sk-container-id-2 input.sk-toggleable__control:checked~div.sk-toggleable__content {max-height: 200px;max-width: 100%;overflow: auto;}#sk-container-id-2 input.sk-toggleable__control:checked~label.sk-toggleable__label-arrow:before {content: \"▾\";}#sk-container-id-2 div.sk-estimator input.sk-toggleable__control:checked~label.sk-toggleable__label {background-color: #d4ebff;}#sk-container-id-2 div.sk-label input.sk-toggleable__control:checked~label.sk-toggleable__label {background-color: #d4ebff;}#sk-container-id-2 input.sk-hidden--visually {border: 0;clip: rect(1px 1px 1px 1px);clip: rect(1px, 1px, 1px, 1px);height: 1px;margin: -1px;overflow: hidden;padding: 0;position: absolute;width: 1px;}#sk-container-id-2 div.sk-estimator {font-family: monospace;background-color: #f0f8ff;border: 1px dotted black;border-radius: 0.25em;box-sizing: border-box;margin-bottom: 0.5em;}#sk-container-id-2 div.sk-estimator:hover {background-color: #d4ebff;}#sk-container-id-2 div.sk-parallel-item::after {content: \"\";width: 100%;border-bottom: 1px solid gray;flex-grow: 1;}#sk-container-id-2 div.sk-label:hover label.sk-toggleable__label {background-color: #d4ebff;}#sk-container-id-2 div.sk-serial::before {content: \"\";position: absolute;border-left: 1px solid gray;box-sizing: border-box;top: 0;bottom: 0;left: 50%;z-index: 0;}#sk-container-id-2 div.sk-serial {display: flex;flex-direction: column;align-items: center;background-color: white;padding-right: 0.2em;padding-left: 0.2em;position: relative;}#sk-container-id-2 div.sk-item {position: relative;z-index: 1;}#sk-container-id-2 div.sk-parallel {display: flex;align-items: stretch;justify-content: center;background-color: white;position: relative;}#sk-container-id-2 div.sk-item::before, #sk-container-id-2 div.sk-parallel-item::before {content: \"\";position: absolute;border-left: 1px solid gray;box-sizing: border-box;top: 0;bottom: 0;left: 50%;z-index: -1;}#sk-container-id-2 div.sk-parallel-item {display: flex;flex-direction: column;z-index: 1;position: relative;background-color: white;}#sk-container-id-2 div.sk-parallel-item:first-child::after {align-self: flex-end;width: 50%;}#sk-container-id-2 div.sk-parallel-item:last-child::after {align-self: flex-start;width: 50%;}#sk-container-id-2 div.sk-parallel-item:only-child::after {width: 0;}#sk-container-id-2 div.sk-dashed-wrapped {border: 1px dashed gray;margin: 0 0.4em 0.5em 0.4em;box-sizing: border-box;padding-bottom: 0.4em;background-color: white;}#sk-container-id-2 div.sk-label label {font-family: monospace;font-weight: bold;display: inline-block;line-height: 1.2em;}#sk-container-id-2 div.sk-label-container {text-align: center;}#sk-container-id-2 div.sk-container {/* jupyter's `normalize.less` sets `[hidden] { display: none; }` but bootstrap.min.css set `[hidden] { display: none !important; }` so we also need the `!important` here to be able to override the default hidden behavior on the sphinx rendered scikit-learn.org. See: https://github.com/scikit-learn/scikit-learn/issues/21755 */display: inline-block !important;position: relative;}#sk-container-id-2 div.sk-text-repr-fallback {display: none;}</style><div id=\"sk-container-id-2\" class=\"sk-top-container\"><div class=\"sk-text-repr-fallback\"><pre>DecisionTreeClassifier()</pre><b>In a Jupyter environment, please rerun this cell to show the HTML representation or trust the notebook. <br />On GitHub, the HTML representation is unable to render, please try loading this page with nbviewer.org.</b></div><div class=\"sk-container\" hidden><div class=\"sk-item\"><div class=\"sk-estimator sk-toggleable\"><input class=\"sk-toggleable__control sk-hidden--visually\" id=\"sk-estimator-id-2\" type=\"checkbox\" checked><label for=\"sk-estimator-id-2\" class=\"sk-toggleable__label sk-toggleable__label-arrow\">DecisionTreeClassifier</label><div class=\"sk-toggleable__content\"><pre>DecisionTreeClassifier()</pre></div></div></div></div></div>"
            ]
          },
          "metadata": {},
          "execution_count": 40
        }
      ]
    },
    {
      "cell_type": "code",
      "source": [
        "p31 = model.predict(irisData.data[[31]])\n",
        "print (p31)\n",
        "plast = model.predict(irisData.data[[-1]])\n",
        "print (plast)\n",
        "p = model.predict(irisData.data[:])\n",
        "print (p)"
      ],
      "metadata": {
        "id": "eFD5zDLG6ySF",
        "colab": {
          "base_uri": "https://localhost:8080/"
        },
        "outputId": "2be904ee-aec4-43ad-9366-ff88e322b59b"
      },
      "execution_count": 41,
      "outputs": [
        {
          "output_type": "stream",
          "name": "stdout",
          "text": [
            "[0]\n",
            "[2]\n",
            "[0 0 0 0 0 0 0 0 0 0 0 0 0 0 0 0 0 0 0 0 0 0 0 0 0 0 0 0 0 0 0 0 0 0 0 0 0\n",
            " 0 0 0 0 0 0 0 0 0 0 0 0 0 1 1 1 1 1 1 1 1 1 1 1 1 1 1 1 1 1 1 1 1 1 1 1 1\n",
            " 1 1 1 1 1 1 1 1 1 1 1 1 1 1 1 1 1 1 1 1 1 1 1 1 1 1 2 2 2 2 2 2 2 2 2 2 2\n",
            " 2 2 2 2 2 2 2 2 2 2 2 2 2 2 2 2 2 2 2 2 2 2 2 2 2 2 2 2 2 2 2 2 2 2 2 2 2\n",
            " 2 2]\n"
          ]
        }
      ]
    },
    {
      "cell_type": "code",
      "source": [
        "model1 = DecisionTreeClassifier()\n",
        "model1.fit(irisData.data[:99], irisData.target[:99])\n",
        "model1.predict(irisData.data[100:149])"
      ],
      "metadata": {
        "id": "C9RrdCtL7G0g",
        "colab": {
          "base_uri": "https://localhost:8080/"
        },
        "outputId": "3c86167a-3628-4958-db2e-dd98bc9ce685"
      },
      "execution_count": 42,
      "outputs": [
        {
          "output_type": "execute_result",
          "data": {
            "text/plain": [
              "array([1, 1, 1, 1, 1, 1, 1, 1, 1, 1, 1, 1, 1, 1, 1, 1, 1, 1, 1, 1, 1, 1,\n",
              "       1, 1, 1, 1, 1, 1, 1, 1, 1, 1, 1, 1, 1, 1, 1, 1, 1, 1, 1, 1, 1, 1,\n",
              "       1, 1, 1, 1, 1])"
            ]
          },
          "metadata": {},
          "execution_count": 42
        }
      ]
    },
    {
      "cell_type": "markdown",
      "source": [
        "### **model evaluation**"
      ],
      "metadata": {
        "id": "0eYRWctS7YjY"
      }
    },
    {
      "cell_type": "code",
      "source": [
        "print(\"method 1\")\n",
        "ea = 0\n",
        "for i in range(len(irisData.data)):\n",
        "  if (p[i] !=irisData.target[i]):\n",
        "    ea = ea+1\n",
        "print(f'error rate: {ea/len(irisData.data)}')"
      ],
      "metadata": {
        "id": "Wd8zux6T7R54",
        "colab": {
          "base_uri": "https://localhost:8080/"
        },
        "outputId": "a8b4c92c-10e2-4566-b13c-3e300a938603"
      },
      "execution_count": 43,
      "outputs": [
        {
          "output_type": "stream",
          "name": "stdout",
          "text": [
            "method 1\n",
            "error rate: 0.0\n"
          ]
        }
      ]
    },
    {
      "cell_type": "code",
      "source": [
        "\n",
        "#Indice : pensez à exploiter le tableau P-Y : que représentent des valeurs non nulles ?\n",
        "# Comment compter (en une seule instruction) le nombre de valeurs non-nulles1\n",
        "# ?\n",
        "\n",
        "print(\"method 2\")\n",
        "print(f'number of non null values : {len(np.nonzero(p-irisData.target)[0])}')\n",
        "print(f'error rate : {len(np.nonzero(p-irisData.target)[0])/150}')"
      ],
      "metadata": {
        "id": "e2L5UVjZ7hy8",
        "colab": {
          "base_uri": "https://localhost:8080/"
        },
        "outputId": "bcfe2a16-7af7-4c63-cc92-1940fb50c2a2"
      },
      "execution_count": 44,
      "outputs": [
        {
          "output_type": "stream",
          "name": "stdout",
          "text": [
            "method 2\n",
            "number of non null values : 0\n",
            "error rate : 0.0\n"
          ]
        }
      ]
    },
    {
      "cell_type": "code",
      "source": [
        "print(\"method 3\")\n",
        "print(f'error rate : {1-model.score(irisData.data,irisData.target)}')"
      ],
      "metadata": {
        "id": "g7HjWv7W7nCy",
        "colab": {
          "base_uri": "https://localhost:8080/"
        },
        "outputId": "3c6d0d3e-55b0-40e7-f04f-c4b6d1f43eea"
      },
      "execution_count": 45,
      "outputs": [
        {
          "output_type": "stream",
          "name": "stdout",
          "text": [
            "method 3\n",
            "error rate : 0.0\n"
          ]
        }
      ]
    },
    {
      "cell_type": "markdown",
      "source": [
        "we have trained our model with 150 instances and we have evaluated the model on the same training data , which makes sense to have a very low test error_rate (in this case 0%) since the model have seen all the data"
      ],
      "metadata": {
        "id": "KS8hmp938U7u"
      }
    },
    {
      "cell_type": "markdown",
      "source": [
        "## **Performances en généralisation**"
      ],
      "metadata": {
        "id": "2D5RbB059Iy6"
      }
    },
    {
      "cell_type": "code",
      "source": [
        "model = DecisionTreeClassifier()\n",
        "error_rate = test(irisData, model)\n",
        "train_error_rate = train_error(irisData,model)\n",
        "print(\"Taux d'erreur estimé avec Decision Tree en utilisant split:\", error_rate)\n",
        "print(\"Taux d'erreur estimé sur le training set avec Decision Tree en utilisant split:\", train_error_rate)"
      ],
      "metadata": {
        "id": "LbT3y1dF7qw-",
        "colab": {
          "base_uri": "https://localhost:8080/"
        },
        "outputId": "6e662f6a-b7cc-4c0e-f67c-39c83b44e2a4"
      },
      "execution_count": 46,
      "outputs": [
        {
          "output_type": "stream",
          "name": "stdout",
          "text": [
            "Taux d'erreur estimé avec Decision Tree en utilisant split: 0.0784313725490196\n",
            "Taux d'erreur estimé sur le training set avec Decision Tree en utilisant split: 0.0\n"
          ]
        }
      ]
    },
    {
      "cell_type": "code",
      "source": [
        "ts = [10, 50, 100, 200, 500, 1000]\n",
        "repetitions = 20\n",
        "result_table2 = PrettyTable(['t', 'Mean Error on the testset','Mean Error on the training set'])\n",
        "\n",
        "for t in ts:\n",
        "    model = DecisionTreeClassifier()\n",
        "    test_mean_errors = []\n",
        "    train_mean_errors=[]\n",
        "    for _ in range(repetitions):\n",
        "        test_mean_error, _ = test_t(irisData, model, t)\n",
        "        train_mean_error,_=train_error_t(irisData, model, t)\n",
        "        test_mean_errors.append(test_mean_error)\n",
        "        train_mean_errors.append(train_mean_error)\n",
        "    test_error_rate = np.mean(test_mean_errors)\n",
        "    train_error_rate = np.mean(train_mean_errors)\n",
        "    result_table2.add_row([t, f\"{test_error_rate:.4f}\",f\"{train_error_rate:.4f}\"])\n",
        "\n",
        "    print(f\"Taux d'erreur moyen sur le test set pour t={t}: {test_error_rate}\")\n",
        "    print(f\"Taux d'erreur moyen sur le train set pour t={t}: {train_error_rate}\")\n",
        "\n",
        "print(result_table2)"
      ],
      "metadata": {
        "id": "y27Vts7K9go5",
        "colab": {
          "base_uri": "https://localhost:8080/"
        },
        "outputId": "a0927e9b-3ac5-4c15-f6e4-1e4d945269a9"
      },
      "execution_count": 47,
      "outputs": [
        {
          "output_type": "stream",
          "name": "stdout",
          "text": [
            "Taux d'erreur moyen sur le test set pour t=10: 0.05225490196078432\n",
            "Taux d'erreur moyen sur le train set pour t=10: 0.0\n",
            "Taux d'erreur moyen sur le test set pour t=50: 0.05486274509803921\n",
            "Taux d'erreur moyen sur le train set pour t=50: 0.0\n",
            "Taux d'erreur moyen sur le test set pour t=100: 0.05509803921568627\n",
            "Taux d'erreur moyen sur le train set pour t=100: 0.0\n",
            "Taux d'erreur moyen sur le test set pour t=200: 0.053848039215686275\n",
            "Taux d'erreur moyen sur le train set pour t=200: 0.0\n",
            "Taux d'erreur moyen sur le test set pour t=500: 0.05541764705882353\n",
            "Taux d'erreur moyen sur le train set pour t=500: 0.0\n",
            "Taux d'erreur moyen sur le test set pour t=1000: 0.05477843137254902\n",
            "Taux d'erreur moyen sur le train set pour t=1000: 0.0\n",
            "+------+---------------------------+--------------------------------+\n",
            "|  t   | Mean Error on the testset | Mean Error on the training set |\n",
            "+------+---------------------------+--------------------------------+\n",
            "|  10  |           0.0523          |             0.0000             |\n",
            "|  50  |           0.0549          |             0.0000             |\n",
            "| 100  |           0.0551          |             0.0000             |\n",
            "| 200  |           0.0538          |             0.0000             |\n",
            "| 500  |           0.0554          |             0.0000             |\n",
            "| 1000 |           0.0548          |             0.0000             |\n",
            "+------+---------------------------+--------------------------------+\n"
          ]
        }
      ]
    },
    {
      "cell_type": "markdown",
      "source": [
        "the error rate mean converges to 0.054 very quickly"
      ],
      "metadata": {
        "id": "6B1M0q9O_0uq"
      }
    },
    {
      "cell_type": "code",
      "source": [
        "#question 4\n",
        "ts = [10, 50, 100, 200, 500, 1000]\n",
        "repetitions = 20\n",
        "result_table1 = PrettyTable(['t', 'Mean Test Error', 'Mean Train Error'])\n",
        "\n",
        "for t in ts:\n",
        "    model = DecisionTreeClassifier()\n",
        "    test_mean_errors = []\n",
        "    train_mean_errors = []\n",
        "\n",
        "    for _ in range(repetitions):\n",
        "        test_mean_error, _ = test_t(irisData, model, t, train_split=0.9)\n",
        "        train_mean_error, _ = train_error_t(irisData, model, t)\n",
        "        test_mean_errors.append(test_mean_error)\n",
        "        train_mean_errors.append(train_mean_error)\n",
        "\n",
        "    test_error_rate = np.mean(test_mean_errors)\n",
        "    train_error_rate = np.mean(train_mean_errors)\n",
        "\n",
        "    result_table1.add_row([t, f\"{test_error_rate:.4f}\", f\"{train_error_rate:.4f}\"])\n",
        "    print(f\"Taux d'erreur moyen sur le test set pour t={t}: {test_error_rate}\")\n",
        "    print(f\"Taux d'erreur moyen sur le train set pour t={t}: {train_error_rate}\")\n",
        "\n",
        "print(result_table1)\n"
      ],
      "metadata": {
        "id": "rpsa46LB_u5s",
        "colab": {
          "base_uri": "https://localhost:8080/"
        },
        "outputId": "1178517e-8c7a-4c3d-9cf1-01c9c5f5aa19"
      },
      "execution_count": 48,
      "outputs": [
        {
          "output_type": "stream",
          "name": "stdout",
          "text": [
            "Taux d'erreur moyen sur le test set pour t=10: 0.06133333333333334\n",
            "Taux d'erreur moyen sur le train set pour t=10: 0.0\n",
            "Taux d'erreur moyen sur le test set pour t=50: 0.05026666666666667\n",
            "Taux d'erreur moyen sur le train set pour t=50: 0.0\n",
            "Taux d'erreur moyen sur le test set pour t=100: 0.053733333333333334\n",
            "Taux d'erreur moyen sur le train set pour t=100: 0.0\n",
            "Taux d'erreur moyen sur le test set pour t=200: 0.05281666666666666\n",
            "Taux d'erreur moyen sur le train set pour t=200: 0.0\n",
            "Taux d'erreur moyen sur le test set pour t=500: 0.05284666666666667\n",
            "Taux d'erreur moyen sur le train set pour t=500: 0.0\n",
            "Taux d'erreur moyen sur le test set pour t=1000: 0.05288999999999998\n",
            "Taux d'erreur moyen sur le train set pour t=1000: 0.0\n",
            "+------+-----------------+------------------+\n",
            "|  t   | Mean Test Error | Mean Train Error |\n",
            "+------+-----------------+------------------+\n",
            "|  10  |      0.0613     |      0.0000      |\n",
            "|  50  |      0.0503     |      0.0000      |\n",
            "| 100  |      0.0537     |      0.0000      |\n",
            "| 200  |      0.0528     |      0.0000      |\n",
            "| 500  |      0.0528     |      0.0000      |\n",
            "| 1000 |      0.0529     |      0.0000      |\n",
            "+------+-----------------+------------------+\n"
          ]
        }
      ]
    },
    {
      "cell_type": "code",
      "source": [
        "#question 5\n",
        "from sklearn.metrics import accuracy_score\n",
        "\n",
        "test_sizes = [0.1,0.2, 0.25,0.3, 0.33, 0.4, 0.7]\n",
        "result_table = PrettyTable(['Test Size', 'Error Rate on test set','Error Rate on train set'])\n",
        "test_error_rates = []\n",
        "train_error_rates = []\n",
        "for test_size in test_sizes:\n",
        "    model = DecisionTreeClassifier()\n",
        "    # Split the data into training and testing sets\n",
        "    X_train, X_test, y_train, y_test = train_test_split(\n",
        "        irisData.data, irisData.target, test_size=test_size\n",
        "    )\n",
        "    model.fit(X_train, y_train)\n",
        "    train_predictions = model.predict(X_train)\n",
        "    train_error_rate = 1 - accuracy_score(y_train, train_predictions)\n",
        "    test_predictions = model.predict(X_test)\n",
        "    test_error_rate = 1 - accuracy_score(y_test, test_predictions)\n",
        "    test_error_rates.append(test_error_rate)\n",
        "    train_error_rates.append(train_error_rate)\n",
        "    result_table.add_row([test_size, f\"{test_error_rate:.4f}\", f\"{train_error_rate:.4f}\"])\n",
        "    print(f\"Test Size: {test_size}, error rate on training set: {train_error_rate}, error rate on test set: {test_error_rate }\")\n",
        "print(result_table)\n",
        "\n",
        "# Tracé de la courbe\n",
        "plt.plot( train_error_rates,test_sizes, label='Error Rate on Train Set', marker='o')\n",
        "plt.plot(test_error_rates,test_sizes, label='Error Rate on Test Set', marker='o')\n",
        "\n",
        "# Ajout de légendes et de titres\n",
        "plt.ylabel('Test Size')\n",
        "plt.xlabel('Error Rate')\n",
        "plt.legend()\n",
        "\n",
        "# Affichage du graphique\n",
        "plt.show()"
      ],
      "metadata": {
        "id": "I4xgby36A_Wu",
        "colab": {
          "base_uri": "https://localhost:8080/",
          "height": 761
        },
        "outputId": "a936503c-4594-4205-9bfe-7ab604c551a8"
      },
      "execution_count": 49,
      "outputs": [
        {
          "output_type": "stream",
          "name": "stdout",
          "text": [
            "Test Size: 0.1, error rate on training set: 0.0, error rate on test set: 0.1333333333333333\n",
            "Test Size: 0.2, error rate on training set: 0.0, error rate on test set: 0.06666666666666665\n",
            "Test Size: 0.25, error rate on training set: 0.0, error rate on test set: 0.052631578947368474\n",
            "Test Size: 0.3, error rate on training set: 0.0, error rate on test set: 0.06666666666666665\n",
            "Test Size: 0.33, error rate on training set: 0.0, error rate on test set: 0.06000000000000005\n",
            "Test Size: 0.4, error rate on training set: 0.0, error rate on test set: 0.1333333333333333\n",
            "Test Size: 0.7, error rate on training set: 0.0, error rate on test set: 0.03809523809523807\n",
            "+-----------+------------------------+-------------------------+\n",
            "| Test Size | Error Rate on test set | Error Rate on train set |\n",
            "+-----------+------------------------+-------------------------+\n",
            "|    0.1    |         0.1333         |          0.0000         |\n",
            "|    0.2    |         0.0667         |          0.0000         |\n",
            "|    0.25   |         0.0526         |          0.0000         |\n",
            "|    0.3    |         0.0667         |          0.0000         |\n",
            "|    0.33   |         0.0600         |          0.0000         |\n",
            "|    0.4    |         0.1333         |          0.0000         |\n",
            "|    0.7    |         0.0381         |          0.0000         |\n",
            "+-----------+------------------------+-------------------------+\n"
          ]
        },
        {
          "output_type": "display_data",
          "data": {
            "text/plain": [
              "<Figure size 640x480 with 1 Axes>"
            ],
            "image/png": "[encoded data removed]"
          },
          "metadata": {}
        }
      ]
    },
    {
      "cell_type": "code",
      "source": [
        "import matplotlib.pyplot as plt\n",
        "\n",
        "plt.plot(test_sizes, test_error_rates, marker='o')\n",
        "plt.plot(test_sizes, train_error_rates, marker='o')\n",
        "\n",
        "plt.title('Error Rate vs. Test Size')\n",
        "plt.xlabel('Test Size')\n",
        "plt.ylabel('Error Rate')\n",
        "plt.show()"
      ],
      "metadata": {
        "id": "7Ej5RopyBeRb",
        "colab": {
          "base_uri": "https://localhost:8080/",
          "height": 472
        },
        "outputId": "02b9825b-49a3-4743-96b5-3ba667e7e7f1"
      },
      "execution_count": 50,
      "outputs": [
        {
          "output_type": "display_data",
          "data": {
            "text/plain": [
              "<Figure size 640x480 with 1 Axes>"
            ],
            "image/png": "[encoded data removed]"
          },
          "metadata": {}
        }
      ]
    },
    {
      "cell_type": "markdown",
      "source": [
        "## **Cross validation**"
      ],
      "metadata": {
        "id": "RtR9bB-0B65F"
      }
    },
    {
      "cell_type": "code",
      "source": [
        "model =  DecisionTreeClassifier()\n",
        "num_folds = [2, 3, 5, 8, 10]\n",
        "summary_table = PrettyTable(['Folds', 'Mean Error Rate'])\n",
        "error_rates=[]\n",
        "for folds in num_folds:\n",
        "    scores = cross_val_score(model, irisData.data, irisData.target, cv=folds)\n",
        "    mean_error_rate = 1 - scores.mean()\n",
        "    error_rates.append(mean_error_rate)\n",
        "    summary_table.add_row([folds, f\"{mean_error_rate:.4f}\"])\n",
        "print(summary_table)"
      ],
      "metadata": {
        "id": "MA-zFZBCBi2f",
        "colab": {
          "base_uri": "https://localhost:8080/"
        },
        "outputId": "be9f6497-4554-46b9-d6da-a9e7338f1931"
      },
      "execution_count": 51,
      "outputs": [
        {
          "output_type": "stream",
          "name": "stdout",
          "text": [
            "+-------+-----------------+\n",
            "| Folds | Mean Error Rate |\n",
            "+-------+-----------------+\n",
            "|   2   |      0.0467     |\n",
            "|   3   |      0.0400     |\n",
            "|   5   |      0.0400     |\n",
            "|   8   |      0.0464     |\n",
            "|   10  |      0.0467     |\n",
            "+-------+-----------------+\n"
          ]
        }
      ]
    },
    {
      "cell_type": "code",
      "source": [
        "pretty_tables=[summary_table,result_table,result_table1,result_table2]\n",
        "titles=[\"cross validation\",\"using train_test_split predefined method\",\"test_split=0.1 with repetition\",\"test_split=1/3 with repetition\"]\n",
        "for title,table in zip(titles,pretty_tables):\n",
        "  print('---',title,'---')\n",
        "  print(table)\n"
      ],
      "metadata": {
        "id": "Mo0wC278CQKv",
        "colab": {
          "base_uri": "https://localhost:8080/"
        },
        "outputId": "80571d32-58e8-4bf0-b940-7a2333e7f71c"
      },
      "execution_count": 53,
      "outputs": [
        {
          "output_type": "stream",
          "name": "stdout",
          "text": [
            "--- cross validation ---\n",
            "+-------+-----------------+\n",
            "| Folds | Mean Error Rate |\n",
            "+-------+-----------------+\n",
            "|   2   |      0.0467     |\n",
            "|   3   |      0.0400     |\n",
            "|   5   |      0.0400     |\n",
            "|   8   |      0.0464     |\n",
            "|   10  |      0.0467     |\n",
            "+-------+-----------------+\n",
            "--- using train_test_split predefined method ---\n",
            "+-----------+------------------------+-------------------------+\n",
            "| Test Size | Error Rate on test set | Error Rate on train set |\n",
            "+-----------+------------------------+-------------------------+\n",
            "|    0.1    |         0.1333         |          0.0000         |\n",
            "|    0.2    |         0.0667         |          0.0000         |\n",
            "|    0.25   |         0.0526         |          0.0000         |\n",
            "|    0.3    |         0.0667         |          0.0000         |\n",
            "|    0.33   |         0.0600         |          0.0000         |\n",
            "|    0.4    |         0.1333         |          0.0000         |\n",
            "|    0.7    |         0.0381         |          0.0000         |\n",
            "+-----------+------------------------+-------------------------+\n",
            "--- test_split=0.1 with repetition ---\n",
            "+------+-----------------+------------------+\n",
            "|  t   | Mean Test Error | Mean Train Error |\n",
            "+------+-----------------+------------------+\n",
            "|  10  |      0.0613     |      0.0000      |\n",
            "|  50  |      0.0503     |      0.0000      |\n",
            "| 100  |      0.0537     |      0.0000      |\n",
            "| 200  |      0.0528     |      0.0000      |\n",
            "| 500  |      0.0528     |      0.0000      |\n",
            "| 1000 |      0.0529     |      0.0000      |\n",
            "+------+-----------------+------------------+\n",
            "--- test_split=1/3 with repetition ---\n",
            "+------+---------------------------+--------------------------------+\n",
            "|  t   | Mean Error on the testset | Mean Error on the training set |\n",
            "+------+---------------------------+--------------------------------+\n",
            "|  10  |           0.0523          |             0.0000             |\n",
            "|  50  |           0.0549          |             0.0000             |\n",
            "| 100  |           0.0551          |             0.0000             |\n",
            "| 200  |           0.0538          |             0.0000             |\n",
            "| 500  |           0.0554          |             0.0000             |\n",
            "| 1000 |           0.0548          |             0.0000             |\n",
            "+------+---------------------------+--------------------------------+\n"
          ]
        }
      ]
    },
    {
      "cell_type": "code",
      "source": [],
      "metadata": {
        "id": "qEoLiLB-DQP0"
      },
      "execution_count": null,
      "outputs": []
    },
    {
      "cell_type": "markdown",
      "source": [
        "# **KNN**"
      ],
      "metadata": {
        "id": "vBxSsVi_VSep"
      }
    },
    {
      "cell_type": "code",
      "source": [
        "model = KNeighborsClassifier(n_neighbors=3)# un algo d'apprentissage\n",
        "model.fit(irisData.data[:], irisData.target[:])"
      ],
      "metadata": {
        "id": "UVgm6rNdCXel",
        "colab": {
          "base_uri": "https://localhost:8080/",
          "height": 75
        },
        "outputId": "0439fcb1-76d1-4f3f-d537-10df9c9b0d6e"
      },
      "execution_count": 63,
      "outputs": [
        {
          "output_type": "execute_result",
          "data": {
            "text/plain": [
              "KNeighborsClassifier(n_neighbors=3)"
            ],
            "text/html": [
              "<style>#sk-container-id-5 {color: black;background-color: white;}#sk-container-id-5 pre{padding: 0;}#sk-container-id-5 div.sk-toggleable {background-color: white;}#sk-container-id-5 label.sk-toggleable__label {cursor: pointer;display: block;width: 100%;margin-bottom: 0;padding: 0.3em;box-sizing: border-box;text-align: center;}#sk-container-id-5 label.sk-toggleable__label-arrow:before {content: \"▸\";float: left;margin-right: 0.25em;color: #696969;}#sk-container-id-5 label.sk-toggleable__label-arrow:hover:before {color: black;}#sk-container-id-5 div.sk-estimator:hover label.sk-toggleable__label-arrow:before {color: black;}#sk-container-id-5 div.sk-toggleable__content {max-height: 0;max-width: 0;overflow: hidden;text-align: left;background-color: #f0f8ff;}#sk-container-id-5 div.sk-toggleable__content pre {margin: 0.2em;color: black;border-radius: 0.25em;background-color: #f0f8ff;}#sk-container-id-5 input.sk-toggleable__control:checked~div.sk-toggleable__content {max-height: 200px;max-width: 100%;overflow: auto;}#sk-container-id-5 input.sk-toggleable__control:checked~label.sk-toggleable__label-arrow:before {content: \"▾\";}#sk-container-id-5 div.sk-estimator input.sk-toggleable__control:checked~label.sk-toggleable__label {background-color: #d4ebff;}#sk-container-id-5 div.sk-label input.sk-toggleable__control:checked~label.sk-toggleable__label {background-color: #d4ebff;}#sk-container-id-5 input.sk-hidden--visually {border: 0;clip: rect(1px 1px 1px 1px);clip: rect(1px, 1px, 1px, 1px);height: 1px;margin: -1px;overflow: hidden;padding: 0;position: absolute;width: 1px;}#sk-container-id-5 div.sk-estimator {font-family: monospace;background-color: #f0f8ff;border: 1px dotted black;border-radius: 0.25em;box-sizing: border-box;margin-bottom: 0.5em;}#sk-container-id-5 div.sk-estimator:hover {background-color: #d4ebff;}#sk-container-id-5 div.sk-parallel-item::after {content: \"\";width: 100%;border-bottom: 1px solid gray;flex-grow: 1;}#sk-container-id-5 div.sk-label:hover label.sk-toggleable__label {background-color: #d4ebff;}#sk-container-id-5 div.sk-serial::before {content: \"\";position: absolute;border-left: 1px solid gray;box-sizing: border-box;top: 0;bottom: 0;left: 50%;z-index: 0;}#sk-container-id-5 div.sk-serial {display: flex;flex-direction: column;align-items: center;background-color: white;padding-right: 0.2em;padding-left: 0.2em;position: relative;}#sk-container-id-5 div.sk-item {position: relative;z-index: 1;}#sk-container-id-5 div.sk-parallel {display: flex;align-items: stretch;justify-content: center;background-color: white;position: relative;}#sk-container-id-5 div.sk-item::before, #sk-container-id-5 div.sk-parallel-item::before {content: \"\";position: absolute;border-left: 1px solid gray;box-sizing: border-box;top: 0;bottom: 0;left: 50%;z-index: -1;}#sk-container-id-5 div.sk-parallel-item {display: flex;flex-direction: column;z-index: 1;position: relative;background-color: white;}#sk-container-id-5 div.sk-parallel-item:first-child::after {align-self: flex-end;width: 50%;}#sk-container-id-5 div.sk-parallel-item:last-child::after {align-self: flex-start;width: 50%;}#sk-container-id-5 div.sk-parallel-item:only-child::after {width: 0;}#sk-container-id-5 div.sk-dashed-wrapped {border: 1px dashed gray;margin: 0 0.4em 0.5em 0.4em;box-sizing: border-box;padding-bottom: 0.4em;background-color: white;}#sk-container-id-5 div.sk-label label {font-family: monospace;font-weight: bold;display: inline-block;line-height: 1.2em;}#sk-container-id-5 div.sk-label-container {text-align: center;}#sk-container-id-5 div.sk-container {/* jupyter's `normalize.less` sets `[hidden] { display: none; }` but bootstrap.min.css set `[hidden] { display: none !important; }` so we also need the `!important` here to be able to override the default hidden behavior on the sphinx rendered scikit-learn.org. See: https://github.com/scikit-learn/scikit-learn/issues/21755 */display: inline-block !important;position: relative;}#sk-container-id-5 div.sk-text-repr-fallback {display: none;}</style><div id=\"sk-container-id-5\" class=\"sk-top-container\"><div class=\"sk-text-repr-fallback\"><pre>KNeighborsClassifier(n_neighbors=3)</pre><b>In a Jupyter environment, please rerun this cell to show the HTML representation or trust the notebook. <br />On GitHub, the HTML representation is unable to render, please try loading this page with nbviewer.org.</b></div><div class=\"sk-container\" hidden><div class=\"sk-item\"><div class=\"sk-estimator sk-toggleable\"><input class=\"sk-toggleable__control sk-hidden--visually\" id=\"sk-estimator-id-5\" type=\"checkbox\" checked><label for=\"sk-estimator-id-5\" class=\"sk-toggleable__label sk-toggleable__label-arrow\">KNeighborsClassifier</label><div class=\"sk-toggleable__content\"><pre>KNeighborsClassifier(n_neighbors=3)</pre></div></div></div></div></div>"
            ]
          },
          "metadata": {},
          "execution_count": 63
        }
      ]
    },
    {
      "cell_type": "code",
      "source": [
        "p31 = model.predict(irisData.data[[31]])\n",
        "print (p31)\n",
        "plast = model.predict(irisData.data[[-1]])\n",
        "print (plast)\n",
        "p = model.predict(irisData.data[:])\n",
        "print (p)"
      ],
      "metadata": {
        "id": "0QzyCuScWGwy",
        "colab": {
          "base_uri": "https://localhost:8080/"
        },
        "outputId": "11867c36-6162-42f5-8e86-c0fc222f1a12"
      },
      "execution_count": 64,
      "outputs": [
        {
          "output_type": "stream",
          "name": "stdout",
          "text": [
            "[0]\n",
            "[2]\n",
            "[0 0 0 0 0 0 0 0 0 0 0 0 0 0 0 0 0 0 0 0 0 0 0 0 0 0 0 0 0 0 0 0 0 0 0 0 0\n",
            " 0 0 0 0 0 0 0 0 0 0 0 0 0 1 1 1 1 1 1 1 1 1 1 1 1 1 1 1 1 1 1 1 1 2 1 2 1\n",
            " 1 1 1 1 1 1 1 1 1 2 1 1 1 1 1 1 1 1 1 1 1 1 1 1 1 1 2 2 2 2 2 2 1 2 2 2 2\n",
            " 2 2 2 2 2 2 2 2 1 2 2 2 2 2 2 2 2 2 2 2 2 2 1 2 2 2 2 2 2 2 2 2 2 2 2 2 2\n",
            " 2 2]\n"
          ]
        }
      ]
    },
    {
      "cell_type": "code",
      "source": [
        "model1 = KNeighborsClassifier(n_neighbors=3)\n",
        "model1.fit(irisData.data[:99], irisData.target[:99])\n",
        "model1.predict(irisData.data[100:149])"
      ],
      "metadata": {
        "id": "KiEE8_GhWKde",
        "colab": {
          "base_uri": "https://localhost:8080/"
        },
        "outputId": "b4eb8a1a-b5c2-43a4-f3c8-0f2ecd37d228"
      },
      "execution_count": 65,
      "outputs": [
        {
          "output_type": "execute_result",
          "data": {
            "text/plain": [
              "array([1, 1, 1, 1, 1, 1, 1, 1, 1, 1, 1, 1, 1, 1, 1, 1, 1, 1, 1, 1, 1, 1,\n",
              "       1, 1, 1, 1, 1, 1, 1, 1, 1, 1, 1, 1, 1, 1, 1, 1, 1, 1, 1, 1, 1, 1,\n",
              "       1, 1, 1, 1, 1])"
            ]
          },
          "metadata": {},
          "execution_count": 65
        }
      ]
    },
    {
      "cell_type": "markdown",
      "source": [
        "## **model evaluation**"
      ],
      "metadata": {
        "id": "ijj2_oalhy5q"
      }
    },
    {
      "cell_type": "code",
      "source": [
        "print(\"method 1\")\n",
        "ea = 0\n",
        "for i in range(len(irisData.data)):\n",
        "  if (p[i] !=irisData.target[i]):\n",
        "    ea = ea+1\n",
        "print(f'error rate: {ea/len(irisData.data)}')"
      ],
      "metadata": {
        "id": "_FazBfnah8u1",
        "colab": {
          "base_uri": "https://localhost:8080/"
        },
        "outputId": "e3c9a734-e569-41f8-e2bf-4e3b06b516f7"
      },
      "execution_count": 66,
      "outputs": [
        {
          "output_type": "stream",
          "name": "stdout",
          "text": [
            "method 1\n",
            "error rate: 0.04\n"
          ]
        }
      ]
    },
    {
      "cell_type": "code",
      "source": [
        "#Indice : pensez à exploiter le tableau P-Y : que représentent des valeurs non nulles ?\n",
        "# Comment compter (en une seule instruction) le nombre de valeurs non-nulles1\n",
        "# ?\n",
        "\n",
        "print(\"method 2\")\n",
        "print(f'number of non null values : {len(np.nonzero(p-irisData.target)[0])}')\n",
        "print(f'error rate : {len(np.nonzero(p-irisData.target)[0])/150}')"
      ],
      "metadata": {
        "id": "h2tff3rfh88l",
        "colab": {
          "base_uri": "https://localhost:8080/"
        },
        "outputId": "c832a7c8-8dc0-4235-d94f-fa6660af0b4e"
      },
      "execution_count": 67,
      "outputs": [
        {
          "output_type": "stream",
          "name": "stdout",
          "text": [
            "method 2\n",
            "number of non null values : 6\n",
            "error rate : 0.04\n"
          ]
        }
      ]
    },
    {
      "cell_type": "code",
      "source": [
        "print(\"method 3\")\n",
        "print(f'error rate : {1-model.score(irisData.data,irisData.target)}')"
      ],
      "metadata": {
        "id": "KKnTg7sSh9Gg",
        "colab": {
          "base_uri": "https://localhost:8080/"
        },
        "outputId": "141f1160-258c-417f-af29-ebac5b0b9b3d"
      },
      "execution_count": 68,
      "outputs": [
        {
          "output_type": "stream",
          "name": "stdout",
          "text": [
            "method 3\n",
            "error rate : 0.040000000000000036\n"
          ]
        }
      ]
    },
    {
      "cell_type": "markdown",
      "source": [
        "## **Performances en généralisation**"
      ],
      "metadata": {
        "id": "1Gsklp_ciEgl"
      }
    },
    {
      "cell_type": "code",
      "source": [
        "model = KNeighborsClassifier(n_neighbors=3)\n",
        "error_rate = test(irisData, model)\n",
        "train_error_rate = train_error(irisData,model)\n",
        "print(\"Taux d'erreur estimé avec Decision Tree en utilisant split:\", error_rate)\n",
        "print(\"Taux d'erreur estimé sur le training set avec Decision Tree en utilisant split:\", train_error_rate)"
      ],
      "metadata": {
        "id": "VZmzcam3iQRU",
        "colab": {
          "base_uri": "https://localhost:8080/"
        },
        "outputId": "857ef2f0-bee4-4f86-cd34-271b7d452747"
      },
      "execution_count": 70,
      "outputs": [
        {
          "output_type": "stream",
          "name": "stdout",
          "text": [
            "Taux d'erreur estimé avec Decision Tree en utilisant split: 0.0196078431372549\n",
            "Taux d'erreur estimé sur le training set avec Decision Tree en utilisant split: 0.020202020202020204\n"
          ]
        }
      ]
    },
    {
      "cell_type": "code",
      "source": [
        "ts = [10, 50, 100, 200, 500, 1000]\n",
        "repetitions = 20\n",
        "result_table2 = PrettyTable(['t', 'Mean Error on the testset','Mean Error on the training set'])\n",
        "\n",
        "for t in ts:\n",
        "    model = KNeighborsClassifier(n_neighbors=3)\n",
        "    test_mean_errors = []\n",
        "    train_mean_errors=[]\n",
        "    for _ in range(repetitions):\n",
        "        test_mean_error, _ = test_t(irisData, model, t)\n",
        "        train_mean_error,_=train_error_t(irisData, model, t)\n",
        "        test_mean_errors.append(test_mean_error)\n",
        "        train_mean_errors.append(train_mean_error)\n",
        "    test_error_rate = np.mean(test_mean_errors)\n",
        "    train_error_rate = np.mean(train_mean_errors)\n",
        "    result_table2.add_row([t, f\"{test_error_rate:.4f}\",f\"{train_error_rate:.4f}\"])\n",
        "\n",
        "    print(f\"Taux d'erreur moyen sur le test set pour t={t}: {test_error_rate}\")\n",
        "    print(f\"Taux d'erreur moyen sur le train set pour t={t}: {train_error_rate}\")\n",
        "\n",
        "print(result_table2)"
      ],
      "metadata": {
        "id": "S3zEdZHYiQ2z",
        "colab": {
          "base_uri": "https://localhost:8080/"
        },
        "outputId": "c2f8881d-a940-4d51-b54d-0dc8700560b6"
      },
      "execution_count": 72,
      "outputs": [
        {
          "output_type": "stream",
          "name": "stdout",
          "text": [
            "Taux d'erreur moyen sur le test set pour t=10: 0.038725490196078426\n",
            "Taux d'erreur moyen sur le train set pour t=10: 0.03101010101010101\n",
            "Taux d'erreur moyen sur le test set pour t=50: 0.03917647058823529\n",
            "Taux d'erreur moyen sur le train set pour t=50: 0.03188888888888889\n",
            "Taux d'erreur moyen sur le test set pour t=100: 0.039666666666666656\n",
            "Taux d'erreur moyen sur le train set pour t=100: 0.03242929292929293\n",
            "Taux d'erreur moyen sur le test set pour t=200: 0.03950980392156863\n",
            "Taux d'erreur moyen sur le train set pour t=200: 0.03231565656565657\n",
            "Taux d'erreur moyen sur le test set pour t=500: 0.039829411764705884\n",
            "Taux d'erreur moyen sur le train set pour t=500: 0.03226060606060606\n",
            "Taux d'erreur moyen sur le test set pour t=1000: 0.039714705882352944\n",
            "Taux d'erreur moyen sur le train set pour t=1000: 0.03217828282828283\n",
            "+------+---------------------------+--------------------------------+\n",
            "|  t   | Mean Error on the testset | Mean Error on the training set |\n",
            "+------+---------------------------+--------------------------------+\n",
            "|  10  |           0.0387          |             0.0310             |\n",
            "|  50  |           0.0392          |             0.0319             |\n",
            "| 100  |           0.0397          |             0.0324             |\n",
            "| 200  |           0.0395          |             0.0323             |\n",
            "| 500  |           0.0398          |             0.0323             |\n",
            "| 1000 |           0.0397          |             0.0322             |\n",
            "+------+---------------------------+--------------------------------+\n"
          ]
        }
      ]
    },
    {
      "cell_type": "code",
      "source": [
        "print(result_table2)"
      ],
      "metadata": {
        "id": "8FIripPViRBu",
        "colab": {
          "base_uri": "https://localhost:8080/"
        },
        "outputId": "1af16a82-e5e4-497e-a46b-f2d927456c1c"
      },
      "execution_count": 73,
      "outputs": [
        {
          "output_type": "stream",
          "name": "stdout",
          "text": [
            "+------+---------------------------+--------------------------------+\n",
            "|  t   | Mean Error on the testset | Mean Error on the training set |\n",
            "+------+---------------------------+--------------------------------+\n",
            "|  10  |           0.0387          |             0.0310             |\n",
            "|  50  |           0.0392          |             0.0319             |\n",
            "| 100  |           0.0397          |             0.0324             |\n",
            "| 200  |           0.0395          |             0.0323             |\n",
            "| 500  |           0.0398          |             0.0323             |\n",
            "| 1000 |           0.0397          |             0.0322             |\n",
            "+------+---------------------------+--------------------------------+\n"
          ]
        }
      ]
    },
    {
      "cell_type": "code",
      "source": [
        "#question 4\n",
        "ts = [10, 50, 100, 200, 500, 1000]\n",
        "repetitions = 20\n",
        "result_table1 = PrettyTable(['t', 'Mean Test Error', 'Mean Train Error'])\n",
        "\n",
        "for t in ts:\n",
        "    model = KNeighborsClassifier(n_neighbors=3)\n",
        "    test_mean_errors = []\n",
        "    train_mean_errors = []\n",
        "\n",
        "    for _ in range(repetitions):\n",
        "        test_mean_error, _ = test_t(irisData, model, t, train_split=0.9)\n",
        "        train_mean_error, _ = train_error_t(irisData, model, t)\n",
        "        test_mean_errors.append(test_mean_error)\n",
        "        train_mean_errors.append(train_mean_error)\n",
        "\n",
        "    test_error_rate = np.mean(test_mean_errors)\n",
        "    train_error_rate = np.mean(train_mean_errors)\n",
        "\n",
        "    result_table1.add_row([t, f\"{test_error_rate:.4f}\", f\"{train_error_rate:.4f}\"])\n",
        "    print(f\"Taux d'erreur moyen sur le test set pour t={t}: {test_error_rate}\")\n",
        "    print(f\"Taux d'erreur moyen sur le train set pour t={t}: {train_error_rate}\")\n",
        "\n",
        "print(result_table1)\n"
      ],
      "metadata": {
        "id": "nH7dYi9riRNL",
        "colab": {
          "base_uri": "https://localhost:8080/"
        },
        "outputId": "b09d6c46-7f43-4c9d-db67-b7f14691d5d7"
      },
      "execution_count": 75,
      "outputs": [
        {
          "output_type": "stream",
          "name": "stdout",
          "text": [
            "Taux d'erreur moyen sur le test set pour t=10: 0.043\n",
            "Taux d'erreur moyen sur le train set pour t=10: 0.03262626262626263\n",
            "Taux d'erreur moyen sur le test set pour t=50: 0.03886666666666667\n",
            "Taux d'erreur moyen sur le train set pour t=50: 0.031939393939393934\n",
            "Taux d'erreur moyen sur le test set pour t=100: 0.03873333333333333\n",
            "Taux d'erreur moyen sur le train set pour t=100: 0.03243939393939394\n",
            "Taux d'erreur moyen sur le test set pour t=200: 0.0392\n",
            "Taux d'erreur moyen sur le train set pour t=200: 0.032345959595959595\n",
            "Taux d'erreur moyen sur le test set pour t=500: 0.03918\n",
            "Taux d'erreur moyen sur le train set pour t=500: 0.03195858585858586\n",
            "Taux d'erreur moyen sur le test set pour t=1000: 0.039536666666666664\n",
            "Taux d'erreur moyen sur le train set pour t=1000: 0.03217828282828283\n",
            "+------+-----------------+------------------+\n",
            "|  t   | Mean Test Error | Mean Train Error |\n",
            "+------+-----------------+------------------+\n",
            "|  10  |      0.0430     |      0.0326      |\n",
            "|  50  |      0.0389     |      0.0319      |\n",
            "| 100  |      0.0387     |      0.0324      |\n",
            "| 200  |      0.0392     |      0.0323      |\n",
            "| 500  |      0.0392     |      0.0320      |\n",
            "| 1000 |      0.0395     |      0.0322      |\n",
            "+------+-----------------+------------------+\n"
          ]
        }
      ]
    },
    {
      "cell_type": "code",
      "source": [
        "#question 5\n",
        "from sklearn.metrics import accuracy_score\n",
        "\n",
        "test_sizes = [0.1,0.2, 0.25,0.3, 0.33, 0.4, 0.7]\n",
        "result_table = PrettyTable(['Test Size', 'Error Rate on test set','Error Rate on train set'])\n",
        "test_error_rates = []\n",
        "train_error_rates = []\n",
        "for test_size in test_sizes:\n",
        "    model = KNeighborsClassifier(n_neighbors=3)\n",
        "    # Split the data into training and testing sets\n",
        "    X_train, X_test, y_train, y_test = train_test_split(\n",
        "        irisData.data, irisData.target, test_size=test_size\n",
        "    )\n",
        "    model.fit(X_train, y_train)\n",
        "    train_predictions = model.predict(X_train)\n",
        "    train_error_rate = 1 - accuracy_score(y_train, train_predictions)\n",
        "    test_predictions = model.predict(X_test)\n",
        "    test_error_rate = 1 - accuracy_score(y_test, test_predictions)\n",
        "    test_error_rates.append(test_error_rate)\n",
        "    train_error_rates.append(train_error_rate)\n",
        "    result_table.add_row([test_size, f\"{test_error_rate:.4f}\", f\"{train_error_rate:.4f}\"])\n",
        "    print(f\"Test Size: {test_size}, error rate on training set: {train_error_rate}, error rate on test set: {test_error_rate }\")\n",
        "print(result_table)\n",
        "\n",
        "# Tracé de la courbe\n",
        "plt.plot( train_error_rates,test_sizes, label='Error Rate on Train Set', marker='o')\n",
        "plt.plot(test_error_rates,test_sizes, label='Error Rate on Test Set', marker='o')\n",
        "\n",
        "# Ajout de légendes et de titres\n",
        "plt.ylabel('Test Size')\n",
        "plt.xlabel('Error Rate')\n",
        "plt.legend()\n",
        "\n",
        "# Affichage du graphique\n",
        "plt.show()"
      ],
      "metadata": {
        "id": "2p1kVNfwiRX9",
        "colab": {
          "base_uri": "https://localhost:8080/",
          "height": 761
        },
        "outputId": "b4c1a391-bec7-45d4-edc2-8798d5e30629"
      },
      "execution_count": 76,
      "outputs": [
        {
          "output_type": "stream",
          "name": "stdout",
          "text": [
            "Test Size: 0.1, error rate on training set: 0.029629629629629672, error rate on test set: 0.06666666666666665\n",
            "Test Size: 0.2, error rate on training set: 0.033333333333333326, error rate on test set: 0.06666666666666665\n",
            "Test Size: 0.25, error rate on training set: 0.0267857142857143, error rate on test set: 0.052631578947368474\n",
            "Test Size: 0.3, error rate on training set: 0.02857142857142858, error rate on test set: 0.022222222222222254\n",
            "Test Size: 0.33, error rate on training set: 0.010000000000000009, error rate on test set: 0.07999999999999996\n",
            "Test Size: 0.4, error rate on training set: 0.033333333333333326, error rate on test set: 0.01666666666666672\n",
            "Test Size: 0.7, error rate on training set: 0.0, error rate on test set: 0.07619047619047614\n",
            "+-----------+------------------------+-------------------------+\n",
            "| Test Size | Error Rate on test set | Error Rate on train set |\n",
            "+-----------+------------------------+-------------------------+\n",
            "|    0.1    |         0.0667         |          0.0296         |\n",
            "|    0.2    |         0.0667         |          0.0333         |\n",
            "|    0.25   |         0.0526         |          0.0268         |\n",
            "|    0.3    |         0.0222         |          0.0286         |\n",
            "|    0.33   |         0.0800         |          0.0100         |\n",
            "|    0.4    |         0.0167         |          0.0333         |\n",
            "|    0.7    |         0.0762         |          0.0000         |\n",
            "+-----------+------------------------+-------------------------+\n"
          ]
        },
        {
          "output_type": "display_data",
          "data": {
            "text/plain": [
              "<Figure size 640x480 with 1 Axes>"
            ],
            "image/png": "[encoded data removed]"
          },
          "metadata": {}
        }
      ]
    },
    {
      "cell_type": "code",
      "source": [
        "import matplotlib.pyplot as plt\n",
        "\n",
        "plt.plot(test_sizes, test_error_rates, marker='o')\n",
        "plt.plot(test_sizes, train_error_rates, marker='o')\n",
        "\n",
        "plt.title('Error Rate vs. Test Size')\n",
        "plt.xlabel('Test Size')\n",
        "plt.ylabel('Error Rate')\n",
        "plt.show()"
      ],
      "metadata": {
        "id": "S9R9oPnXiRjz",
        "colab": {
          "base_uri": "https://localhost:8080/",
          "height": 472
        },
        "outputId": "157dcdd8-328d-46c3-86fe-0d453b4903b5"
      },
      "execution_count": 77,
      "outputs": [
        {
          "output_type": "display_data",
          "data": {
            "text/plain": [
              "<Figure size 640x480 with 1 Axes>"
            ],
            "image/png": "[encoded data removed]"
          },
          "metadata": {}
        }
      ]
    },
    {
      "cell_type": "markdown",
      "source": [
        "## **Cross validation**"
      ],
      "metadata": {
        "id": "J_z7E5RFilhJ"
      }
    },
    {
      "cell_type": "code",
      "source": [
        "model =  KNeighborsClassifier(n_neighbors=3)\n",
        "num_folds = [2, 3, 5, 8, 10]\n",
        "summary_table = PrettyTable(['Folds', 'Mean Error Rate'])\n",
        "error_rates=[]\n",
        "for folds in num_folds:\n",
        "    scores = cross_val_score(model, irisData.data, irisData.target, cv=folds)\n",
        "    mean_error_rate = 1 - scores.mean()\n",
        "    error_rates.append(mean_error_rate)\n",
        "    summary_table.add_row([folds, f\"{mean_error_rate:.4f}\"])\n",
        "print(summary_table)"
      ],
      "metadata": {
        "id": "G7Vtpka8iSXN",
        "colab": {
          "base_uri": "https://localhost:8080/"
        },
        "outputId": "f4421ded-1a12-4c43-cba3-75708d701451"
      },
      "execution_count": 79,
      "outputs": [
        {
          "output_type": "stream",
          "name": "stdout",
          "text": [
            "+-------+-----------------+\n",
            "| Folds | Mean Error Rate |\n",
            "+-------+-----------------+\n",
            "|   2   |      0.0600     |\n",
            "|   3   |      0.0267     |\n",
            "|   5   |      0.0333     |\n",
            "|   8   |      0.0329     |\n",
            "|   10  |      0.0333     |\n",
            "+-------+-----------------+\n"
          ]
        }
      ]
    },
    {
      "cell_type": "code",
      "source": [
        "pretty_tables=[summary_table,result_table,result_table1,result_table2]\n",
        "titles=[\"cross validation\",\"using train_test_split predefined method\",\"test_split=0.1 with repetition\",\"test_split=1/3 with repetition\"]\n",
        "for title,table in zip(titles,pretty_tables):\n",
        "  print('---',title,'---')\n",
        "  print(table)"
      ],
      "metadata": {
        "id": "zAkh7qQeisoT",
        "colab": {
          "base_uri": "https://localhost:8080/"
        },
        "outputId": "3f9e6201-e7e4-483d-f774-3e413caf2e43"
      },
      "execution_count": 80,
      "outputs": [
        {
          "output_type": "stream",
          "name": "stdout",
          "text": [
            "--- cross validation ---\n",
            "+-------+-----------------+\n",
            "| Folds | Mean Error Rate |\n",
            "+-------+-----------------+\n",
            "|   2   |      0.0600     |\n",
            "|   3   |      0.0267     |\n",
            "|   5   |      0.0333     |\n",
            "|   8   |      0.0329     |\n",
            "|   10  |      0.0333     |\n",
            "+-------+-----------------+\n",
            "--- using train_test_split predefined method ---\n",
            "+-----------+------------------------+-------------------------+\n",
            "| Test Size | Error Rate on test set | Error Rate on train set |\n",
            "+-----------+------------------------+-------------------------+\n",
            "|    0.1    |         0.0667         |          0.0296         |\n",
            "|    0.2    |         0.0667         |          0.0333         |\n",
            "|    0.25   |         0.0526         |          0.0268         |\n",
            "|    0.3    |         0.0222         |          0.0286         |\n",
            "|    0.33   |         0.0800         |          0.0100         |\n",
            "|    0.4    |         0.0167         |          0.0333         |\n",
            "|    0.7    |         0.0762         |          0.0000         |\n",
            "+-----------+------------------------+-------------------------+\n",
            "--- test_split=0.1 with repetition ---\n",
            "+------+-----------------+------------------+\n",
            "|  t   | Mean Test Error | Mean Train Error |\n",
            "+------+-----------------+------------------+\n",
            "|  10  |      0.0430     |      0.0326      |\n",
            "|  50  |      0.0389     |      0.0319      |\n",
            "| 100  |      0.0387     |      0.0324      |\n",
            "| 200  |      0.0392     |      0.0323      |\n",
            "| 500  |      0.0392     |      0.0320      |\n",
            "| 1000 |      0.0395     |      0.0322      |\n",
            "+------+-----------------+------------------+\n",
            "--- test_split=1/3 with repetition ---\n",
            "+------+---------------------------+--------------------------------+\n",
            "|  t   | Mean Error on the testset | Mean Error on the training set |\n",
            "+------+---------------------------+--------------------------------+\n",
            "|  10  |           0.0387          |             0.0310             |\n",
            "|  50  |           0.0392          |             0.0319             |\n",
            "| 100  |           0.0397          |             0.0324             |\n",
            "| 200  |           0.0395          |             0.0323             |\n",
            "| 500  |           0.0398          |             0.0323             |\n",
            "| 1000 |           0.0397          |             0.0322             |\n",
            "+------+---------------------------+--------------------------------+\n"
          ]
        }
      ]
    },
    {
      "cell_type": "markdown",
      "source": [
        "# **Random Forest**"
      ],
      "metadata": {
        "id": "JnXORw36XO5T"
      }
    },
    {
      "cell_type": "code",
      "source": [
        "model = RandomForestClassifier(n_estimators=100, random_state=42)# un algo d'apprentissage\n",
        "model.fit(irisData.data[:], irisData.target[:])"
      ],
      "metadata": {
        "id": "cNj9o0Q9lpda",
        "colab": {
          "base_uri": "https://localhost:8080/",
          "height": 75
        },
        "outputId": "6ea53222-631b-40a4-fd59-568a8c861622"
      },
      "execution_count": 81,
      "outputs": [
        {
          "output_type": "execute_result",
          "data": {
            "text/plain": [
              "RandomForestClassifier(random_state=42)"
            ],
            "text/html": [
              "<style>#sk-container-id-6 {color: black;background-color: white;}#sk-container-id-6 pre{padding: 0;}#sk-container-id-6 div.sk-toggleable {background-color: white;}#sk-container-id-6 label.sk-toggleable__label {cursor: pointer;display: block;width: 100%;margin-bottom: 0;padding: 0.3em;box-sizing: border-box;text-align: center;}#sk-container-id-6 label.sk-toggleable__label-arrow:before {content: \"▸\";float: left;margin-right: 0.25em;color: #696969;}#sk-container-id-6 label.sk-toggleable__label-arrow:hover:before {color: black;}#sk-container-id-6 div.sk-estimator:hover label.sk-toggleable__label-arrow:before {color: black;}#sk-container-id-6 div.sk-toggleable__content {max-height: 0;max-width: 0;overflow: hidden;text-align: left;background-color: #f0f8ff;}#sk-container-id-6 div.sk-toggleable__content pre {margin: 0.2em;color: black;border-radius: 0.25em;background-color: #f0f8ff;}#sk-container-id-6 input.sk-toggleable__control:checked~div.sk-toggleable__content {max-height: 200px;max-width: 100%;overflow: auto;}#sk-container-id-6 input.sk-toggleable__control:checked~label.sk-toggleable__label-arrow:before {content: \"▾\";}#sk-container-id-6 div.sk-estimator input.sk-toggleable__control:checked~label.sk-toggleable__label {background-color: #d4ebff;}#sk-container-id-6 div.sk-label input.sk-toggleable__control:checked~label.sk-toggleable__label {background-color: #d4ebff;}#sk-container-id-6 input.sk-hidden--visually {border: 0;clip: rect(1px 1px 1px 1px);clip: rect(1px, 1px, 1px, 1px);height: 1px;margin: -1px;overflow: hidden;padding: 0;position: absolute;width: 1px;}#sk-container-id-6 div.sk-estimator {font-family: monospace;background-color: #f0f8ff;border: 1px dotted black;border-radius: 0.25em;box-sizing: border-box;margin-bottom: 0.5em;}#sk-container-id-6 div.sk-estimator:hover {background-color: #d4ebff;}#sk-container-id-6 div.sk-parallel-item::after {content: \"\";width: 100%;border-bottom: 1px solid gray;flex-grow: 1;}#sk-container-id-6 div.sk-label:hover label.sk-toggleable__label {background-color: #d4ebff;}#sk-container-id-6 div.sk-serial::before {content: \"\";position: absolute;border-left: 1px solid gray;box-sizing: border-box;top: 0;bottom: 0;left: 50%;z-index: 0;}#sk-container-id-6 div.sk-serial {display: flex;flex-direction: column;align-items: center;background-color: white;padding-right: 0.2em;padding-left: 0.2em;position: relative;}#sk-container-id-6 div.sk-item {position: relative;z-index: 1;}#sk-container-id-6 div.sk-parallel {display: flex;align-items: stretch;justify-content: center;background-color: white;position: relative;}#sk-container-id-6 div.sk-item::before, #sk-container-id-6 div.sk-parallel-item::before {content: \"\";position: absolute;border-left: 1px solid gray;box-sizing: border-box;top: 0;bottom: 0;left: 50%;z-index: -1;}#sk-container-id-6 div.sk-parallel-item {display: flex;flex-direction: column;z-index: 1;position: relative;background-color: white;}#sk-container-id-6 div.sk-parallel-item:first-child::after {align-self: flex-end;width: 50%;}#sk-container-id-6 div.sk-parallel-item:last-child::after {align-self: flex-start;width: 50%;}#sk-container-id-6 div.sk-parallel-item:only-child::after {width: 0;}#sk-container-id-6 div.sk-dashed-wrapped {border: 1px dashed gray;margin: 0 0.4em 0.5em 0.4em;box-sizing: border-box;padding-bottom: 0.4em;background-color: white;}#sk-container-id-6 div.sk-label label {font-family: monospace;font-weight: bold;display: inline-block;line-height: 1.2em;}#sk-container-id-6 div.sk-label-container {text-align: center;}#sk-container-id-6 div.sk-container {/* jupyter's `normalize.less` sets `[hidden] { display: none; }` but bootstrap.min.css set `[hidden] { display: none !important; }` so we also need the `!important` here to be able to override the default hidden behavior on the sphinx rendered scikit-learn.org. See: https://github.com/scikit-learn/scikit-learn/issues/21755 */display: inline-block !important;position: relative;}#sk-container-id-6 div.sk-text-repr-fallback {display: none;}</style><div id=\"sk-container-id-6\" class=\"sk-top-container\"><div class=\"sk-text-repr-fallback\"><pre>RandomForestClassifier(random_state=42)</pre><b>In a Jupyter environment, please rerun this cell to show the HTML representation or trust the notebook. <br />On GitHub, the HTML representation is unable to render, please try loading this page with nbviewer.org.</b></div><div class=\"sk-container\" hidden><div class=\"sk-item\"><div class=\"sk-estimator sk-toggleable\"><input class=\"sk-toggleable__control sk-hidden--visually\" id=\"sk-estimator-id-6\" type=\"checkbox\" checked><label for=\"sk-estimator-id-6\" class=\"sk-toggleable__label sk-toggleable__label-arrow\">RandomForestClassifier</label><div class=\"sk-toggleable__content\"><pre>RandomForestClassifier(random_state=42)</pre></div></div></div></div></div>"
            ]
          },
          "metadata": {},
          "execution_count": 81
        }
      ]
    },
    {
      "cell_type": "code",
      "source": [
        "p31 = model.predict(irisData.data[[31]])\n",
        "print (p31)\n",
        "plast = model.predict(irisData.data[[-1]])\n",
        "print (plast)\n",
        "p = model.predict(irisData.data[:])\n",
        "print (p)"
      ],
      "metadata": {
        "id": "Ty5EYxVulpgx",
        "colab": {
          "base_uri": "https://localhost:8080/"
        },
        "outputId": "18e52450-1e0a-4475-9d87-9f967088c3f8"
      },
      "execution_count": 82,
      "outputs": [
        {
          "output_type": "stream",
          "name": "stdout",
          "text": [
            "[0]\n",
            "[2]\n",
            "[0 0 0 0 0 0 0 0 0 0 0 0 0 0 0 0 0 0 0 0 0 0 0 0 0 0 0 0 0 0 0 0 0 0 0 0 0\n",
            " 0 0 0 0 0 0 0 0 0 0 0 0 0 1 1 1 1 1 1 1 1 1 1 1 1 1 1 1 1 1 1 1 1 1 1 1 1\n",
            " 1 1 1 1 1 1 1 1 1 1 1 1 1 1 1 1 1 1 1 1 1 1 1 1 1 1 2 2 2 2 2 2 2 2 2 2 2\n",
            " 2 2 2 2 2 2 2 2 2 2 2 2 2 2 2 2 2 2 2 2 2 2 2 2 2 2 2 2 2 2 2 2 2 2 2 2 2\n",
            " 2 2]\n"
          ]
        }
      ]
    },
    {
      "cell_type": "code",
      "source": [
        "model1 = RandomForestClassifier(n_estimators=100, random_state=42)\n",
        "model1.fit(irisData.data[:99], irisData.target[:99])\n",
        "model1.predict(irisData.data[100:149])"
      ],
      "metadata": {
        "id": "vItyCrsilpnP",
        "colab": {
          "base_uri": "https://localhost:8080/"
        },
        "outputId": "bf3e1d38-94de-4051-89c7-4c5c301f4f2e"
      },
      "execution_count": 83,
      "outputs": [
        {
          "output_type": "execute_result",
          "data": {
            "text/plain": [
              "array([1, 1, 1, 1, 1, 1, 1, 1, 1, 1, 1, 1, 1, 1, 1, 1, 1, 1, 1, 1, 1, 1,\n",
              "       1, 1, 1, 1, 1, 1, 1, 1, 1, 1, 1, 1, 1, 1, 1, 1, 1, 1, 1, 1, 1, 1,\n",
              "       1, 1, 1, 1, 1])"
            ]
          },
          "metadata": {},
          "execution_count": 83
        }
      ]
    },
    {
      "cell_type": "markdown",
      "source": [
        "## **model evaluation**"
      ],
      "metadata": {
        "id": "HhUTDr5ul4CW"
      }
    },
    {
      "cell_type": "code",
      "source": [
        "print(\"method 1\")\n",
        "ea = 0\n",
        "for i in range(len(irisData.data)):\n",
        "  if (p[i] !=irisData.target[i]):\n",
        "    ea = ea+1\n",
        "print(f'error rate: {ea/len(irisData.data)}')"
      ],
      "metadata": {
        "id": "I2uTsuajmBD5",
        "colab": {
          "base_uri": "https://localhost:8080/"
        },
        "outputId": "931bfad5-6075-423a-e9f0-bccadae9c720"
      },
      "execution_count": 84,
      "outputs": [
        {
          "output_type": "stream",
          "name": "stdout",
          "text": [
            "method 1\n",
            "error rate: 0.0\n"
          ]
        }
      ]
    },
    {
      "cell_type": "code",
      "source": [
        "#Indice : pensez à exploiter le tableau P-Y : que représentent des valeurs non nulles ?\n",
        "# Comment compter (en une seule instruction) le nombre de valeurs non-nulles1\n",
        "# ?\n",
        "\n",
        "print(\"method 2\")\n",
        "print(f'number of non null values : {len(np.nonzero(p-irisData.target)[0])}')\n",
        "print(f'error rate : {len(np.nonzero(p-irisData.target)[0])/150}')"
      ],
      "metadata": {
        "id": "JaiwT0tgmBM0",
        "colab": {
          "base_uri": "https://localhost:8080/"
        },
        "outputId": "9ed7778e-791d-4d5f-f297-12e7b0c08bf8"
      },
      "execution_count": 85,
      "outputs": [
        {
          "output_type": "stream",
          "name": "stdout",
          "text": [
            "method 2\n",
            "number of non null values : 0\n",
            "error rate : 0.0\n"
          ]
        }
      ]
    },
    {
      "cell_type": "code",
      "source": [
        "print(\"method 3\")\n",
        "print(f'error rate : {1-model.score(irisData.data,irisData.target)}')"
      ],
      "metadata": {
        "id": "O_LWdG4nmBX7",
        "colab": {
          "base_uri": "https://localhost:8080/"
        },
        "outputId": "3e37b5ab-a71b-440a-c220-e41ccb31f976"
      },
      "execution_count": 86,
      "outputs": [
        {
          "output_type": "stream",
          "name": "stdout",
          "text": [
            "method 3\n",
            "error rate : 0.0\n"
          ]
        }
      ]
    },
    {
      "cell_type": "markdown",
      "source": [
        "## **Performances en généralisation**"
      ],
      "metadata": {
        "id": "ljx4UtCBmIOn"
      }
    },
    {
      "cell_type": "code",
      "source": [
        "model = RandomForestClassifier(n_estimators=100, random_state=42)\n",
        "error_rate = test(irisData, model)\n",
        "\n",
        "print(\"Taux d'erreur estimé avec Naive Bayes en utilisant split:\", error_rate)"
      ],
      "metadata": {
        "id": "30meZiaxmVha",
        "colab": {
          "base_uri": "https://localhost:8080/"
        },
        "outputId": "f7931f92-4258-4658-b4eb-c1664b4d075c"
      },
      "execution_count": 87,
      "outputs": [
        {
          "output_type": "stream",
          "name": "stdout",
          "text": [
            "Taux d'erreur estimé avec Naive Bayes en utilisant split: 0.0196078431372549\n"
          ]
        }
      ]
    },
    {
      "cell_type": "code",
      "source": [
        "ts = [10, 50, 100, 200, 500, 1000]\n",
        "repetitions = 20\n",
        "result_table2 = PrettyTable(['t', 'Mean Error'])\n",
        "\n",
        "for t in ts:\n",
        "    model =  RandomForestClassifier(n_estimators=100, random_state=42)\n",
        "    mean_errors = []\n",
        "    for _ in range(repetitions):\n",
        "        mean_error, _ = test_t(irisData, model, t)\n",
        "        mean_errors.append(mean_error)\n",
        "    error_rate = np.mean(mean_errors)\n",
        "    result_table2.add_row([t, f\"{error_rate:.4f}\"])\n",
        "\n",
        "    print(f\"Taux d'erreur moyen pour t={t}: {error_rate}\")"
      ],
      "metadata": {
        "id": "yaHbIEeZmVp7",
        "colab": {
          "base_uri": "https://localhost:8080/"
        },
        "outputId": "16fafa91-19c9-4426-81a0-3a12236bda5a"
      },
      "execution_count": 88,
      "outputs": [
        {
          "output_type": "stream",
          "name": "stdout",
          "text": [
            "Taux d'erreur moyen pour t=10: 0.049019607843137254\n",
            "Taux d'erreur moyen pour t=50: 0.049607843137254894\n",
            "Taux d'erreur moyen pour t=100: 0.04972549019607843\n",
            "Taux d'erreur moyen pour t=200: 0.048024509803921575\n",
            "Taux d'erreur moyen pour t=500: 0.04834117647058823\n",
            "Taux d'erreur moyen pour t=1000: 0.049313725490196074\n"
          ]
        }
      ]
    },
    {
      "cell_type": "code",
      "source": [
        "print(result_table2)"
      ],
      "metadata": {
        "id": "PuZbuD0DmVzK",
        "colab": {
          "base_uri": "https://localhost:8080/"
        },
        "outputId": "00ba6f25-f4ea-45d3-de58-010c7ec704fa"
      },
      "execution_count": 89,
      "outputs": [
        {
          "metadata": {
            "tags": null
          },
          "name": "stdout",
          "output_type": "stream",
          "text": [
            "+------+------------+\n",
            "|  t   | Mean Error |\n",
            "+------+------------+\n",
            "|  10  |   0.0490   |\n",
            "|  50  |   0.0496   |\n",
            "| 100  |   0.0497   |\n",
            "| 200  |   0.0480   |\n",
            "| 500  |   0.0483   |\n",
            "| 1000 |   0.0493   |\n",
            "+------+------------+\n"
          ]
        }
      ]
    },
    {
      "cell_type": "code",
      "source": [
        "#question 4\n",
        "ts = [10, 50, 100, 200, 500, 1000]\n",
        "repetitions = 20\n",
        "result_table1 = PrettyTable(['t', 'Mean Error'])\n",
        "\n",
        "for t in ts:\n",
        "    model =  RandomForestClassifier(n_estimators=100, random_state=42)\n",
        "    mean_errors = []\n",
        "    for _ in range(repetitions):\n",
        "        mean_error, _ = test_t(irisData, model, t,train_split=0.9)\n",
        "        mean_errors.append(mean_error)\n",
        "    error_rate = np.mean(mean_errors)\n",
        "    result_table1.add_row([t, f\"{error_rate:.4f}\"])\n",
        "    print(f\"Taux d'erreur moyen pour t={t}: {error_rate}\")\n",
        "print(result_table1)"
      ],
      "metadata": {
        "id": "xOQbXB5AmV82",
        "colab": {
          "base_uri": "https://localhost:8080/"
        },
        "outputId": "2c4ceace-53b3-4f80-e2c2-3c980f88ed30"
      },
      "execution_count": null,
      "outputs": [
        {
          "metadata": {
            "tags": null
          },
          "name": "stdout",
          "output_type": "stream",
          "text": [
            "Taux d'erreur moyen pour t=10: 0.043000000000000003\n",
            "Taux d'erreur moyen pour t=50: 0.046733333333333335\n",
            "Taux d'erreur moyen pour t=100: 0.047233333333333336\n",
            "Taux d'erreur moyen pour t=200: 0.046716666666666656\n",
            "Taux d'erreur moyen pour t=500: 0.04678666666666666\n"
          ]
        }
      ]
    },
    {
      "cell_type": "code",
      "source": [
        "#question 5\n",
        "from sklearn.metrics import accuracy_score\n",
        "\n",
        "test_sizes = [0.1,0.2, 0.25,0.3, 0.33, 0.4, 0.7]\n",
        "result_table = PrettyTable(['Test Size', 'Error Rate'])\n",
        "error_rates = []\n",
        "for test_size in test_sizes:\n",
        "    model =  RandomForestClassifier(n_estimators=100, random_state=42)\n",
        "    # Split the data into training and testing sets\n",
        "    X_train, X_test, y_train, y_test = train_test_split(\n",
        "        irisData.data, irisData.target, test_size=test_size\n",
        "    )\n",
        "    model.fit(X_train, y_train)\n",
        "    predictions = model.predict(X_test)\n",
        "    error_rate = 1 - accuracy_score(y_test, predictions)\n",
        "    error_rates.append(error_rate)\n",
        "    result_table.add_row([test_size, f\"{error_rate:.4f}\"])\n",
        "    print(f\"Test Size: {test_size}, error rate: {error_rate}\")\n",
        "print(result_table)\n",
        "\n",
        "# Tracé de la courbe\n",
        "plt.plot( train_error_rates,test_sizes, label='Error Rate on Train Set', marker='o')\n",
        "plt.plot(test_error_rates,test_sizes, label='Error Rate on Test Set', marker='o')\n",
        "\n",
        "# Ajout de légendes et de titres\n",
        "plt.ylabel('Test Size')\n",
        "plt.xlabel('Error Rate')\n",
        "plt.legend()\n",
        "\n",
        "# Affichage du graphique\n",
        "plt.show()"
      ],
      "metadata": {
        "id": "Fliy0j3smWHO"
      },
      "execution_count": null,
      "outputs": []
    },
    {
      "cell_type": "code",
      "source": [
        "import matplotlib.pyplot as plt\n",
        "\n",
        "plt.plot(test_sizes, error_rates, marker='o')\n",
        "plt.title('Error Rate vs. Test Size')\n",
        "plt.xlabel('Test Size')\n",
        "plt.ylabel('Error Rate')\n",
        "plt.show()"
      ],
      "metadata": {
        "id": "GGl93hPgmWQa"
      },
      "execution_count": null,
      "outputs": []
    },
    {
      "cell_type": "markdown",
      "source": [
        "## **Cross validation**"
      ],
      "metadata": {
        "id": "PT3MPJK4meNo"
      }
    },
    {
      "cell_type": "code",
      "source": [
        "model =  KNeighborsClassifier(n_neighbors=3)\n",
        "num_folds = [2, 3, 5, 8, 10]\n",
        "summary_table = PrettyTable(['Folds', 'Mean Error Rate'])\n",
        "error_rates=[]\n",
        "for folds in num_folds:\n",
        "    scores = cross_val_score(model, irisData.data, irisData.target, cv=folds)\n",
        "    mean_error_rate = 1 - scores.mean()\n",
        "    error_rates.append(mean_error_rate)\n",
        "    summary_table.add_row([folds, f\"{mean_error_rate:.4f}\"])\n",
        "print(summary_table)"
      ],
      "metadata": {
        "id": "M5Qseo0hmWbA"
      },
      "execution_count": null,
      "outputs": []
    },
    {
      "cell_type": "code",
      "source": [
        "pretty_tables=[summary_table,result_table,result_table1,result_table2]\n",
        "titles=[\"cross validation\",\"using train_test_split predefined method\",\"test_split=0.1 with repetition\",\"test_split=1/3 with repetition\"]\n",
        "for title,table in zip(titles,pretty_tables):\n",
        "  print('---',title,'---')\n",
        "  print(table)"
      ],
      "metadata": {
        "id": "CGghVC2DmmVr"
      },
      "execution_count": null,
      "outputs": []
    },
    {
      "cell_type": "markdown",
      "source": [
        "# **Bagging**"
      ],
      "metadata": {
        "id": "EieE25EypEq8"
      }
    },
    {
      "cell_type": "code",
      "source": [
        "base_classifier = KNeighborsClassifier(n_neighbors=3)\n",
        "model = BaggingClassifier(base_classifier, n_estimators=100, random_state=42)\n",
        "# un algo d'apprentissage\n",
        "model.fit(irisData.data[:], irisData.target[:])"
      ],
      "metadata": {
        "id": "20ROJDo5p8Ad"
      },
      "execution_count": null,
      "outputs": []
    },
    {
      "cell_type": "code",
      "source": [
        "p31 = model.predict(irisData.data[[31]])\n",
        "print (p31)\n",
        "plast = model.predict(irisData.data[[-1]])\n",
        "print (plast)\n",
        "p = model.predict(irisData.data[:])\n",
        "print (p)"
      ],
      "metadata": {
        "id": "0-lljw6Xp8I_"
      },
      "execution_count": null,
      "outputs": []
    },
    {
      "cell_type": "code",
      "source": [
        "model1 = BaggingClassifier(base_classifier, n_estimators=100, random_state=42)\n",
        "model1.fit(irisData.data[:99], irisData.target[:99])\n",
        "model1.predict(irisData.data[100:149])"
      ],
      "metadata": {
        "id": "glj_2_Oyp8Sb"
      },
      "execution_count": null,
      "outputs": []
    },
    {
      "cell_type": "markdown",
      "source": [
        "## **model evaluation**"
      ],
      "metadata": {
        "id": "o8ncO6X3pKGQ"
      }
    },
    {
      "cell_type": "code",
      "source": [
        "print(\"method 1\")\n",
        "ea = 0\n",
        "for i in range(len(irisData.data)):\n",
        "  if (p[i] !=irisData.target[i]):\n",
        "    ea = ea+1\n",
        "print(f'error rate: {ea/len(irisData.data)}')"
      ],
      "metadata": {
        "id": "83tqmJ4Yr_Vo"
      },
      "execution_count": null,
      "outputs": []
    },
    {
      "cell_type": "code",
      "source": [
        "#Indice : pensez à exploiter le tableau P-Y : que représentent des valeurs non nulles ?\n",
        "# Comment compter (en une seule instruction) le nombre de valeurs non-nulles1\n",
        "# ?\n",
        "\n",
        "print(\"method 2\")\n",
        "print(f'number of non null values : {len(np.nonzero(p-irisData.target)[0])}')\n",
        "print(f'error rate : {len(np.nonzero(p-irisData.target)[0])/150}')"
      ],
      "metadata": {
        "id": "gWPJSawnr_gW"
      },
      "execution_count": null,
      "outputs": []
    },
    {
      "cell_type": "code",
      "source": [
        "print(\"method 3\")\n",
        "print(f'error rate : {1-model.score(irisData.data,irisData.target)}')"
      ],
      "metadata": {
        "id": "0wWmkdfur_rQ"
      },
      "execution_count": null,
      "outputs": []
    },
    {
      "cell_type": "markdown",
      "source": [
        "## **Performance en généralisation**"
      ],
      "metadata": {
        "id": "xMmJb9k9pRNb"
      }
    },
    {
      "cell_type": "code",
      "source": [
        "base_classifier = KNeighborsClassifier(n_neighbors=3)\n",
        "model = BaggingClassifier(base_classifier, n_estimators=100, random_state=42)\n",
        "error_rate = test(irisData, model)\n",
        "train_error_rate = train_error(irisData,model)\n",
        "print(\"Taux d'erreur estimé avec Decision Tree en utilisant split:\", error_rate)\n",
        "print(\"Taux d'erreur estimé sur le training set avec Decision Tree en utilisant split:\", train_error_rate)"
      ],
      "metadata": {
        "id": "MJZRgB_fqu2_"
      },
      "execution_count": null,
      "outputs": []
    },
    {
      "cell_type": "code",
      "source": [
        "ts = [10, 50, 100, 200, 500, 1000]\n",
        "repetitions = 20\n",
        "result_table2 = PrettyTable(['t', 'Mean Error on the testset','Mean Error on the training set'])\n",
        "\n",
        "for t in ts:\n",
        "    base_classifier = KNeighborsClassifier(n_neighbors=3)\n",
        "    model = BaggingClassifier(base_classifier, n_estimators=100, random_state=42)\n",
        "    test_mean_errors = []\n",
        "    train_mean_errors=[]\n",
        "    for _ in range(repetitions):\n",
        "        test_mean_error, _ = test_t(irisData, model, t)\n",
        "        train_mean_error,_=train_error_t(irisData, model, t)\n",
        "        test_mean_errors.append(test_mean_error)\n",
        "        train_mean_errors.append(train_mean_error)\n",
        "    test_error_rate = np.mean(test_mean_errors)\n",
        "    train_error_rate = np.mean(train_mean_errors)\n",
        "    result_table2.add_row([t, f\"{test_error_rate:.4f}\",f\"{train_error_rate:.4f}\"])\n",
        "\n",
        "    print(f\"Taux d'erreur moyen sur le test set pour t={t}: {test_error_rate}\")\n",
        "    print(f\"Taux d'erreur moyen sur le train set pour t={t}: {train_error_rate}\")\n",
        "\n",
        "print(result_table2)"
      ],
      "metadata": {
        "id": "AQdkAb8cqu_-"
      },
      "execution_count": null,
      "outputs": []
    },
    {
      "cell_type": "code",
      "source": [
        "print(result_table2)"
      ],
      "metadata": {
        "id": "xx6SnsnhqvJe"
      },
      "execution_count": null,
      "outputs": []
    },
    {
      "cell_type": "code",
      "source": [
        "#question 4\n",
        "ts = [10, 50, 100, 200, 500, 1000]\n",
        "repetitions = 20\n",
        "result_table1 = PrettyTable(['t', 'Mean Test Error', 'Mean Train Error'])\n",
        "\n",
        "for t in ts:\n",
        "    base_classifier = KNeighborsClassifier(n_neighbors=3)\n",
        "    model = BaggingClassifier(base_classifier, n_estimators=100, random_state=42)\n",
        "    test_mean_errors = []\n",
        "    train_mean_errors = []\n",
        "\n",
        "    for _ in range(repetitions):\n",
        "        test_mean_error, _ = test_t(irisData, model, t, train_split=0.9)\n",
        "        train_mean_error, _ = train_error_t(irisData, model, t)\n",
        "        test_mean_errors.append(test_mean_error)\n",
        "        train_mean_errors.append(train_mean_error)\n",
        "\n",
        "    test_error_rate = np.mean(test_mean_errors)\n",
        "    train_error_rate = np.mean(train_mean_errors)\n",
        "\n",
        "    result_table1.add_row([t, f\"{test_error_rate:.4f}\", f\"{train_error_rate:.4f}\"])\n",
        "    print(f\"Taux d'erreur moyen sur le test set pour t={t}: {test_error_rate}\")\n",
        "    print(f\"Taux d'erreur moyen sur le train set pour t={t}: {train_error_rate}\")\n",
        "\n",
        "print(result_table1)\n"
      ],
      "metadata": {
        "id": "1GjRhz2lqvTv"
      },
      "execution_count": null,
      "outputs": []
    },
    {
      "cell_type": "code",
      "source": [
        "#question 5\n",
        "from sklearn.metrics import accuracy_score\n",
        "\n",
        "test_sizes = [0.1,0.2, 0.25,0.3, 0.33, 0.4, 0.7]\n",
        "result_table = PrettyTable(['Test Size', 'Error Rate on test set','Error Rate on train set'])\n",
        "test_error_rates = []\n",
        "train_error_rates = []\n",
        "for test_size in test_sizes:\n",
        "    base_classifier = KNeighborsClassifier(n_neighbors=3)\n",
        "    model = BaggingClassifier(base_classifier, n_estimators=100, random_state=42)\n",
        "    # Split the data into training and testing sets\n",
        "    X_train, X_test, y_train, y_test = train_test_split(\n",
        "        irisData.data, irisData.target, test_size=test_size\n",
        "    )\n",
        "    model.fit(X_train, y_train)\n",
        "    train_predictions = model.predict(X_train)\n",
        "    train_error_rate = 1 - accuracy_score(y_train, train_predictions)\n",
        "    test_predictions = model.predict(X_test)\n",
        "    test_error_rate = 1 - accuracy_score(y_test, test_predictions)\n",
        "    test_error_rates.append(test_error_rate)\n",
        "    train_error_rates.append(train_error_rate)\n",
        "    result_table.add_row([test_size, f\"{test_error_rate:.4f}\", f\"{train_error_rate:.4f}\"])\n",
        "    print(f\"Test Size: {test_size}, error rate on training set: {train_error_rate}, error rate on test set: {test_error_rate }\")\n",
        "print(result_table)\n",
        "\n",
        "# Tracé de la courbe\n",
        "plt.plot( train_error_rates,test_sizes, label='Error Rate on Train Set', marker='o')\n",
        "plt.plot(test_error_rates,test_sizes, label='Error Rate on Test Set', marker='o')\n",
        "\n",
        "# Ajout de légendes et de titres\n",
        "plt.ylabel('Test Size')\n",
        "plt.xlabel('Error Rate')\n",
        "plt.legend()\n",
        "\n",
        "# Affichage du graphique\n",
        "plt.show()"
      ],
      "metadata": {
        "id": "cfRhcUoIqvea"
      },
      "execution_count": null,
      "outputs": []
    },
    {
      "cell_type": "code",
      "source": [
        "import matplotlib.pyplot as plt\n",
        "\n",
        "plt.plot(test_sizes, test_error_rates, marker='o')\n",
        "plt.plot(test_sizes, train_error_rates, marker='o')\n",
        "\n",
        "plt.title('Error Rate vs. Test Size')\n",
        "plt.xlabel('Test Size')\n",
        "plt.ylabel('Error Rate')\n",
        "plt.show()"
      ],
      "metadata": {
        "id": "ailuFqMiqvn7"
      },
      "execution_count": null,
      "outputs": []
    },
    {
      "cell_type": "markdown",
      "source": [
        "## **Cross validation**"
      ],
      "metadata": {
        "id": "oLayRfYapUj5"
      }
    },
    {
      "cell_type": "code",
      "source": [
        "base_classifier = KNeighborsClassifier(n_neighbors=3)\n",
        "model = BaggingClassifier(base_classifier, n_estimators=100, random_state=42)\n",
        "num_folds = [2, 3, 5, 8, 10]\n",
        "summary_table = PrettyTable(['Folds', 'Mean Error Rate'])\n",
        "error_rates=[]\n",
        "for folds in num_folds:\n",
        "    scores = cross_val_score(model, irisData.data, irisData.target, cv=folds)\n",
        "    mean_error_rate = 1 - scores.mean()\n",
        "    error_rates.append(mean_error_rate)\n",
        "    summary_table.add_row([folds, f\"{mean_error_rate:.4f}\"])\n",
        "print(summary_table)"
      ],
      "metadata": {
        "id": "7uSEga2FrJv3"
      },
      "execution_count": null,
      "outputs": []
    },
    {
      "cell_type": "code",
      "source": [
        "pretty_tables=[summary_table,result_table,result_table1,result_table2]\n",
        "titles=[\"cross validation\",\"using train_test_split predefined method\",\"test_split=0.1 with repetition\",\"test_split=1/3 with repetition\"]\n",
        "for title,table in zip(titles,pretty_tables):\n",
        "  print('---',title,'---')\n",
        "  print(table)"
      ],
      "metadata": {
        "id": "2ZNkP7wnrJ1s"
      },
      "execution_count": null,
      "outputs": []
    },
    {
      "cell_type": "code",
      "source": [],
      "metadata": {
        "id": "rSdZEG9e2BAY"
      },
      "execution_count": null,
      "outputs": []
    }
  ]
}