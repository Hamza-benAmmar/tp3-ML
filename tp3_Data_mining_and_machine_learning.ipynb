{
  "nbformat": 4,
  "nbformat_minor": 0,
  "metadata": {
    "colab": {
      "provenance": [],
      "authorship_tag": "ABX9TyNOEyvWp1DbRwrqmoV0AHW0",
      "include_colab_link": true
    },
    "kernelspec": {
      "name": "python3",
      "display_name": "Python 3"
    },
    "language_info": {
      "name": "python"
    }
  },
  "cells": [
    {
      "cell_type": "markdown",
      "metadata": {
        "id": "view-in-github",
        "colab_type": "text"
      },
      "source": [
        "<a href=\"https://colab.research.google.com/github/Hamza-benAmmar/tp3-ML/blob/main/tp3_Data_mining_and_machine_learning.ipynb\" target=\"_parent\"><img src=\"https://colab.research.google.com/assets/colab-badge.svg\" alt=\"Open In Colab\"/></a>"
      ]
    },
    {
      "cell_type": "markdown",
      "source": [
        "**Imports**"
      ],
      "metadata": {
        "id": "l4MQebDMnieM"
      }
    },
    {
      "cell_type": "code",
      "source": [
        "from sklearn import datasets,naive_bayes\n",
        "from collections import Counter\n",
        "import numpy as np\n",
        "import pandas as pd\n",
        "import random\n",
        "import matplotlib\n",
        "import pylab as pl\n",
        "from itertools import cycle\n",
        "from sklearn.model_selection import train_test_split,cross_val_score\n",
        "from prettytable import PrettyTable\n"
      ],
      "metadata": {
        "id": "PWhIo0M5ng5g"
      },
      "execution_count": 193,
      "outputs": []
    },
    {
      "cell_type": "markdown",
      "source": [
        "**DEA**"
      ],
      "metadata": {
        "id": "qiiDcqjspaqv"
      }
    },
    {
      "cell_type": "code",
      "source": [
        "irisData = datasets.load_iris()\n",
        "print (irisData.feature_names)\n",
        "print (irisData.data)\n",
        "print (irisData.target_names)\n",
        "print (irisData.target)"
      ],
      "metadata": {
        "colab": {
          "base_uri": "https://localhost:8080/"
        },
        "id": "bZIHs66bpWuH",
        "outputId": "3cf3fbef-9f98-46ec-8c0f-e2bc03d8f3bc"
      },
      "execution_count": 2,
      "outputs": [
        {
          "output_type": "stream",
          "name": "stdout",
          "text": [
            "['sepal length (cm)', 'sepal width (cm)', 'petal length (cm)', 'petal width (cm)']\n",
            "[[5.1 3.5 1.4 0.2]\n",
            " [4.9 3.  1.4 0.2]\n",
            " [4.7 3.2 1.3 0.2]\n",
            " [4.6 3.1 1.5 0.2]\n",
            " [5.  3.6 1.4 0.2]\n",
            " [5.4 3.9 1.7 0.4]\n",
            " [4.6 3.4 1.4 0.3]\n",
            " [5.  3.4 1.5 0.2]\n",
            " [4.4 2.9 1.4 0.2]\n",
            " [4.9 3.1 1.5 0.1]\n",
            " [5.4 3.7 1.5 0.2]\n",
            " [4.8 3.4 1.6 0.2]\n",
            " [4.8 3.  1.4 0.1]\n",
            " [4.3 3.  1.1 0.1]\n",
            " [5.8 4.  1.2 0.2]\n",
            " [5.7 4.4 1.5 0.4]\n",
            " [5.4 3.9 1.3 0.4]\n",
            " [5.1 3.5 1.4 0.3]\n",
            " [5.7 3.8 1.7 0.3]\n",
            " [5.1 3.8 1.5 0.3]\n",
            " [5.4 3.4 1.7 0.2]\n",
            " [5.1 3.7 1.5 0.4]\n",
            " [4.6 3.6 1.  0.2]\n",
            " [5.1 3.3 1.7 0.5]\n",
            " [4.8 3.4 1.9 0.2]\n",
            " [5.  3.  1.6 0.2]\n",
            " [5.  3.4 1.6 0.4]\n",
            " [5.2 3.5 1.5 0.2]\n",
            " [5.2 3.4 1.4 0.2]\n",
            " [4.7 3.2 1.6 0.2]\n",
            " [4.8 3.1 1.6 0.2]\n",
            " [5.4 3.4 1.5 0.4]\n",
            " [5.2 4.1 1.5 0.1]\n",
            " [5.5 4.2 1.4 0.2]\n",
            " [4.9 3.1 1.5 0.2]\n",
            " [5.  3.2 1.2 0.2]\n",
            " [5.5 3.5 1.3 0.2]\n",
            " [4.9 3.6 1.4 0.1]\n",
            " [4.4 3.  1.3 0.2]\n",
            " [5.1 3.4 1.5 0.2]\n",
            " [5.  3.5 1.3 0.3]\n",
            " [4.5 2.3 1.3 0.3]\n",
            " [4.4 3.2 1.3 0.2]\n",
            " [5.  3.5 1.6 0.6]\n",
            " [5.1 3.8 1.9 0.4]\n",
            " [4.8 3.  1.4 0.3]\n",
            " [5.1 3.8 1.6 0.2]\n",
            " [4.6 3.2 1.4 0.2]\n",
            " [5.3 3.7 1.5 0.2]\n",
            " [5.  3.3 1.4 0.2]\n",
            " [7.  3.2 4.7 1.4]\n",
            " [6.4 3.2 4.5 1.5]\n",
            " [6.9 3.1 4.9 1.5]\n",
            " [5.5 2.3 4.  1.3]\n",
            " [6.5 2.8 4.6 1.5]\n",
            " [5.7 2.8 4.5 1.3]\n",
            " [6.3 3.3 4.7 1.6]\n",
            " [4.9 2.4 3.3 1. ]\n",
            " [6.6 2.9 4.6 1.3]\n",
            " [5.2 2.7 3.9 1.4]\n",
            " [5.  2.  3.5 1. ]\n",
            " [5.9 3.  4.2 1.5]\n",
            " [6.  2.2 4.  1. ]\n",
            " [6.1 2.9 4.7 1.4]\n",
            " [5.6 2.9 3.6 1.3]\n",
            " [6.7 3.1 4.4 1.4]\n",
            " [5.6 3.  4.5 1.5]\n",
            " [5.8 2.7 4.1 1. ]\n",
            " [6.2 2.2 4.5 1.5]\n",
            " [5.6 2.5 3.9 1.1]\n",
            " [5.9 3.2 4.8 1.8]\n",
            " [6.1 2.8 4.  1.3]\n",
            " [6.3 2.5 4.9 1.5]\n",
            " [6.1 2.8 4.7 1.2]\n",
            " [6.4 2.9 4.3 1.3]\n",
            " [6.6 3.  4.4 1.4]\n",
            " [6.8 2.8 4.8 1.4]\n",
            " [6.7 3.  5.  1.7]\n",
            " [6.  2.9 4.5 1.5]\n",
            " [5.7 2.6 3.5 1. ]\n",
            " [5.5 2.4 3.8 1.1]\n",
            " [5.5 2.4 3.7 1. ]\n",
            " [5.8 2.7 3.9 1.2]\n",
            " [6.  2.7 5.1 1.6]\n",
            " [5.4 3.  4.5 1.5]\n",
            " [6.  3.4 4.5 1.6]\n",
            " [6.7 3.1 4.7 1.5]\n",
            " [6.3 2.3 4.4 1.3]\n",
            " [5.6 3.  4.1 1.3]\n",
            " [5.5 2.5 4.  1.3]\n",
            " [5.5 2.6 4.4 1.2]\n",
            " [6.1 3.  4.6 1.4]\n",
            " [5.8 2.6 4.  1.2]\n",
            " [5.  2.3 3.3 1. ]\n",
            " [5.6 2.7 4.2 1.3]\n",
            " [5.7 3.  4.2 1.2]\n",
            " [5.7 2.9 4.2 1.3]\n",
            " [6.2 2.9 4.3 1.3]\n",
            " [5.1 2.5 3.  1.1]\n",
            " [5.7 2.8 4.1 1.3]\n",
            " [6.3 3.3 6.  2.5]\n",
            " [5.8 2.7 5.1 1.9]\n",
            " [7.1 3.  5.9 2.1]\n",
            " [6.3 2.9 5.6 1.8]\n",
            " [6.5 3.  5.8 2.2]\n",
            " [7.6 3.  6.6 2.1]\n",
            " [4.9 2.5 4.5 1.7]\n",
            " [7.3 2.9 6.3 1.8]\n",
            " [6.7 2.5 5.8 1.8]\n",
            " [7.2 3.6 6.1 2.5]\n",
            " [6.5 3.2 5.1 2. ]\n",
            " [6.4 2.7 5.3 1.9]\n",
            " [6.8 3.  5.5 2.1]\n",
            " [5.7 2.5 5.  2. ]\n",
            " [5.8 2.8 5.1 2.4]\n",
            " [6.4 3.2 5.3 2.3]\n",
            " [6.5 3.  5.5 1.8]\n",
            " [7.7 3.8 6.7 2.2]\n",
            " [7.7 2.6 6.9 2.3]\n",
            " [6.  2.2 5.  1.5]\n",
            " [6.9 3.2 5.7 2.3]\n",
            " [5.6 2.8 4.9 2. ]\n",
            " [7.7 2.8 6.7 2. ]\n",
            " [6.3 2.7 4.9 1.8]\n",
            " [6.7 3.3 5.7 2.1]\n",
            " [7.2 3.2 6.  1.8]\n",
            " [6.2 2.8 4.8 1.8]\n",
            " [6.1 3.  4.9 1.8]\n",
            " [6.4 2.8 5.6 2.1]\n",
            " [7.2 3.  5.8 1.6]\n",
            " [7.4 2.8 6.1 1.9]\n",
            " [7.9 3.8 6.4 2. ]\n",
            " [6.4 2.8 5.6 2.2]\n",
            " [6.3 2.8 5.1 1.5]\n",
            " [6.1 2.6 5.6 1.4]\n",
            " [7.7 3.  6.1 2.3]\n",
            " [6.3 3.4 5.6 2.4]\n",
            " [6.4 3.1 5.5 1.8]\n",
            " [6.  3.  4.8 1.8]\n",
            " [6.9 3.1 5.4 2.1]\n",
            " [6.7 3.1 5.6 2.4]\n",
            " [6.9 3.1 5.1 2.3]\n",
            " [5.8 2.7 5.1 1.9]\n",
            " [6.8 3.2 5.9 2.3]\n",
            " [6.7 3.3 5.7 2.5]\n",
            " [6.7 3.  5.2 2.3]\n",
            " [6.3 2.5 5.  1.9]\n",
            " [6.5 3.  5.2 2. ]\n",
            " [6.2 3.4 5.4 2.3]\n",
            " [5.9 3.  5.1 1.8]]\n",
            "['setosa' 'versicolor' 'virginica']\n",
            "[0 0 0 0 0 0 0 0 0 0 0 0 0 0 0 0 0 0 0 0 0 0 0 0 0 0 0 0 0 0 0 0 0 0 0 0 0\n",
            " 0 0 0 0 0 0 0 0 0 0 0 0 0 1 1 1 1 1 1 1 1 1 1 1 1 1 1 1 1 1 1 1 1 1 1 1 1\n",
            " 1 1 1 1 1 1 1 1 1 1 1 1 1 1 1 1 1 1 1 1 1 1 1 1 1 1 2 2 2 2 2 2 2 2 2 2 2\n",
            " 2 2 2 2 2 2 2 2 2 2 2 2 2 2 2 2 2 2 2 2 2 2 2 2 2 2 2 2 2 2 2 2 2 2 2 2 2\n",
            " 2 2]\n"
          ]
        }
      ]
    },
    {
      "cell_type": "code",
      "source": [
        "iris_df = pd.DataFrame(data=irisData.data, columns=irisData.feature_names)\n",
        "iris_df['target'] = irisData.target\n",
        "iris_df['target_names'] = iris_df['target'].map({0: irisData.target_names[0],\n",
        "                                                 1: irisData.target_names[1],\n",
        "                                                 2: irisData.target_names[2]})"
      ],
      "metadata": {
        "id": "Brx6MaARppIf"
      },
      "execution_count": 7,
      "outputs": []
    },
    {
      "cell_type": "code",
      "source": [
        "iris_df.head()"
      ],
      "metadata": {
        "colab": {
          "base_uri": "https://localhost:8080/",
          "height": 206
        },
        "id": "oMnrrkobqC0h",
        "outputId": "cbc5c339-2841-4b51-ba1c-8f5ca512c852"
      },
      "execution_count": 37,
      "outputs": [
        {
          "output_type": "execute_result",
          "data": {
            "text/plain": [
              "   sepal length (cm)  sepal width (cm)  petal length (cm)  petal width (cm)  \\\n",
              "0                5.1               3.5                1.4               0.2   \n",
              "1                4.9               3.0                1.4               0.2   \n",
              "2                4.7               3.2                1.3               0.2   \n",
              "3                4.6               3.1                1.5               0.2   \n",
              "4                5.0               3.6                1.4               0.2   \n",
              "\n",
              "   target target_names  \n",
              "0       0       setosa  \n",
              "1       0       setosa  \n",
              "2       0       setosa  \n",
              "3       0       setosa  \n",
              "4       0       setosa  "
            ],
            "text/html": [
              "\n",
              "  <div id=\"df-0d00f52c-b61d-4794-91a1-9efea960d511\" class=\"colab-df-container\">\n",
              "    <div>\n",
              "<style scoped>\n",
              "    .dataframe tbody tr th:only-of-type {\n",
              "        vertical-align: middle;\n",
              "    }\n",
              "\n",
              "    .dataframe tbody tr th {\n",
              "        vertical-align: top;\n",
              "    }\n",
              "\n",
              "    .dataframe thead th {\n",
              "        text-align: right;\n",
              "    }\n",
              "</style>\n",
              "<table border=\"1\" class=\"dataframe\">\n",
              "  <thead>\n",
              "    <tr style=\"text-align: right;\">\n",
              "      <th></th>\n",
              "      <th>sepal length (cm)</th>\n",
              "      <th>sepal width (cm)</th>\n",
              "      <th>petal length (cm)</th>\n",
              "      <th>petal width (cm)</th>\n",
              "      <th>target</th>\n",
              "      <th>target_names</th>\n",
              "    </tr>\n",
              "  </thead>\n",
              "  <tbody>\n",
              "    <tr>\n",
              "      <th>0</th>\n",
              "      <td>5.1</td>\n",
              "      <td>3.5</td>\n",
              "      <td>1.4</td>\n",
              "      <td>0.2</td>\n",
              "      <td>0</td>\n",
              "      <td>setosa</td>\n",
              "    </tr>\n",
              "    <tr>\n",
              "      <th>1</th>\n",
              "      <td>4.9</td>\n",
              "      <td>3.0</td>\n",
              "      <td>1.4</td>\n",
              "      <td>0.2</td>\n",
              "      <td>0</td>\n",
              "      <td>setosa</td>\n",
              "    </tr>\n",
              "    <tr>\n",
              "      <th>2</th>\n",
              "      <td>4.7</td>\n",
              "      <td>3.2</td>\n",
              "      <td>1.3</td>\n",
              "      <td>0.2</td>\n",
              "      <td>0</td>\n",
              "      <td>setosa</td>\n",
              "    </tr>\n",
              "    <tr>\n",
              "      <th>3</th>\n",
              "      <td>4.6</td>\n",
              "      <td>3.1</td>\n",
              "      <td>1.5</td>\n",
              "      <td>0.2</td>\n",
              "      <td>0</td>\n",
              "      <td>setosa</td>\n",
              "    </tr>\n",
              "    <tr>\n",
              "      <th>4</th>\n",
              "      <td>5.0</td>\n",
              "      <td>3.6</td>\n",
              "      <td>1.4</td>\n",
              "      <td>0.2</td>\n",
              "      <td>0</td>\n",
              "      <td>setosa</td>\n",
              "    </tr>\n",
              "  </tbody>\n",
              "</table>\n",
              "</div>\n",
              "    <div class=\"colab-df-buttons\">\n",
              "\n",
              "  <div class=\"colab-df-container\">\n",
              "    <button class=\"colab-df-convert\" onclick=\"convertToInteractive('df-0d00f52c-b61d-4794-91a1-9efea960d511')\"\n",
              "            title=\"Convert this dataframe to an interactive table.\"\n",
              "            style=\"display:none;\">\n",
              "\n",
              "  <svg xmlns=\"http://www.w3.org/2000/svg\" height=\"24px\" viewBox=\"0 -960 960 960\">\n",
              "    <path d=\"M120-120v-720h720v720H120Zm60-500h600v-160H180v160Zm220 220h160v-160H400v160Zm0 220h160v-160H400v160ZM180-400h160v-160H180v160Zm440 0h160v-160H620v160ZM180-180h160v-160H180v160Zm440 0h160v-160H620v160Z\"/>\n",
              "  </svg>\n",
              "    </button>\n",
              "\n",
              "  <style>\n",
              "    .colab-df-container {\n",
              "      display:flex;\n",
              "      gap: 12px;\n",
              "    }\n",
              "\n",
              "    .colab-df-convert {\n",
              "      background-color: #E8F0FE;\n",
              "      border: none;\n",
              "      border-radius: 50%;\n",
              "      cursor: pointer;\n",
              "      display: none;\n",
              "      fill: #1967D2;\n",
              "      height: 32px;\n",
              "      padding: 0 0 0 0;\n",
              "      width: 32px;\n",
              "    }\n",
              "\n",
              "    .colab-df-convert:hover {\n",
              "      background-color: #E2EBFA;\n",
              "      box-shadow: 0px 1px 2px rgba(60, 64, 67, 0.3), 0px 1px 3px 1px rgba(60, 64, 67, 0.15);\n",
              "      fill: #174EA6;\n",
              "    }\n",
              "\n",
              "    .colab-df-buttons div {\n",
              "      margin-bottom: 4px;\n",
              "    }\n",
              "\n",
              "    [theme=dark] .colab-df-convert {\n",
              "      background-color: #3B4455;\n",
              "      fill: #D2E3FC;\n",
              "    }\n",
              "\n",
              "    [theme=dark] .colab-df-convert:hover {\n",
              "      background-color: #434B5C;\n",
              "      box-shadow: 0px 1px 3px 1px rgba(0, 0, 0, 0.15);\n",
              "      filter: drop-shadow(0px 1px 2px rgba(0, 0, 0, 0.3));\n",
              "      fill: #FFFFFF;\n",
              "    }\n",
              "  </style>\n",
              "\n",
              "    <script>\n",
              "      const buttonEl =\n",
              "        document.querySelector('#df-0d00f52c-b61d-4794-91a1-9efea960d511 button.colab-df-convert');\n",
              "      buttonEl.style.display =\n",
              "        google.colab.kernel.accessAllowed ? 'block' : 'none';\n",
              "\n",
              "      async function convertToInteractive(key) {\n",
              "        const element = document.querySelector('#df-0d00f52c-b61d-4794-91a1-9efea960d511');\n",
              "        const dataTable =\n",
              "          await google.colab.kernel.invokeFunction('convertToInteractive',\n",
              "                                                    [key], {});\n",
              "        if (!dataTable) return;\n",
              "\n",
              "        const docLinkHtml = 'Like what you see? Visit the ' +\n",
              "          '<a target=\"_blank\" href=https://colab.research.google.com/notebooks/data_table.ipynb>data table notebook</a>'\n",
              "          + ' to learn more about interactive tables.';\n",
              "        element.innerHTML = '';\n",
              "        dataTable['output_type'] = 'display_data';\n",
              "        await google.colab.output.renderOutput(dataTable, element);\n",
              "        const docLink = document.createElement('div');\n",
              "        docLink.innerHTML = docLinkHtml;\n",
              "        element.appendChild(docLink);\n",
              "      }\n",
              "    </script>\n",
              "  </div>\n",
              "\n",
              "\n",
              "<div id=\"df-990cee23-823f-4a5a-bdce-c57b47c664a3\">\n",
              "  <button class=\"colab-df-quickchart\" onclick=\"quickchart('df-990cee23-823f-4a5a-bdce-c57b47c664a3')\"\n",
              "            title=\"Suggest charts\"\n",
              "            style=\"display:none;\">\n",
              "\n",
              "<svg xmlns=\"http://www.w3.org/2000/svg\" height=\"24px\"viewBox=\"0 0 24 24\"\n",
              "     width=\"24px\">\n",
              "    <g>\n",
              "        <path d=\"M19 3H5c-1.1 0-2 .9-2 2v14c0 1.1.9 2 2 2h14c1.1 0 2-.9 2-2V5c0-1.1-.9-2-2-2zM9 17H7v-7h2v7zm4 0h-2V7h2v10zm4 0h-2v-4h2v4z\"/>\n",
              "    </g>\n",
              "</svg>\n",
              "  </button>\n",
              "\n",
              "<style>\n",
              "  .colab-df-quickchart {\n",
              "      --bg-color: #E8F0FE;\n",
              "      --fill-color: #1967D2;\n",
              "      --hover-bg-color: #E2EBFA;\n",
              "      --hover-fill-color: #174EA6;\n",
              "      --disabled-fill-color: #AAA;\n",
              "      --disabled-bg-color: #DDD;\n",
              "  }\n",
              "\n",
              "  [theme=dark] .colab-df-quickchart {\n",
              "      --bg-color: #3B4455;\n",
              "      --fill-color: #D2E3FC;\n",
              "      --hover-bg-color: #434B5C;\n",
              "      --hover-fill-color: #FFFFFF;\n",
              "      --disabled-bg-color: #3B4455;\n",
              "      --disabled-fill-color: #666;\n",
              "  }\n",
              "\n",
              "  .colab-df-quickchart {\n",
              "    background-color: var(--bg-color);\n",
              "    border: none;\n",
              "    border-radius: 50%;\n",
              "    cursor: pointer;\n",
              "    display: none;\n",
              "    fill: var(--fill-color);\n",
              "    height: 32px;\n",
              "    padding: 0;\n",
              "    width: 32px;\n",
              "  }\n",
              "\n",
              "  .colab-df-quickchart:hover {\n",
              "    background-color: var(--hover-bg-color);\n",
              "    box-shadow: 0 1px 2px rgba(60, 64, 67, 0.3), 0 1px 3px 1px rgba(60, 64, 67, 0.15);\n",
              "    fill: var(--button-hover-fill-color);\n",
              "  }\n",
              "\n",
              "  .colab-df-quickchart-complete:disabled,\n",
              "  .colab-df-quickchart-complete:disabled:hover {\n",
              "    background-color: var(--disabled-bg-color);\n",
              "    fill: var(--disabled-fill-color);\n",
              "    box-shadow: none;\n",
              "  }\n",
              "\n",
              "  .colab-df-spinner {\n",
              "    border: 2px solid var(--fill-color);\n",
              "    border-color: transparent;\n",
              "    border-bottom-color: var(--fill-color);\n",
              "    animation:\n",
              "      spin 1s steps(1) infinite;\n",
              "  }\n",
              "\n",
              "  @keyframes spin {\n",
              "    0% {\n",
              "      border-color: transparent;\n",
              "      border-bottom-color: var(--fill-color);\n",
              "      border-left-color: var(--fill-color);\n",
              "    }\n",
              "    20% {\n",
              "      border-color: transparent;\n",
              "      border-left-color: var(--fill-color);\n",
              "      border-top-color: var(--fill-color);\n",
              "    }\n",
              "    30% {\n",
              "      border-color: transparent;\n",
              "      border-left-color: var(--fill-color);\n",
              "      border-top-color: var(--fill-color);\n",
              "      border-right-color: var(--fill-color);\n",
              "    }\n",
              "    40% {\n",
              "      border-color: transparent;\n",
              "      border-right-color: var(--fill-color);\n",
              "      border-top-color: var(--fill-color);\n",
              "    }\n",
              "    60% {\n",
              "      border-color: transparent;\n",
              "      border-right-color: var(--fill-color);\n",
              "    }\n",
              "    80% {\n",
              "      border-color: transparent;\n",
              "      border-right-color: var(--fill-color);\n",
              "      border-bottom-color: var(--fill-color);\n",
              "    }\n",
              "    90% {\n",
              "      border-color: transparent;\n",
              "      border-bottom-color: var(--fill-color);\n",
              "    }\n",
              "  }\n",
              "</style>\n",
              "\n",
              "  <script>\n",
              "    async function quickchart(key) {\n",
              "      const quickchartButtonEl =\n",
              "        document.querySelector('#' + key + ' button');\n",
              "      quickchartButtonEl.disabled = true;  // To prevent multiple clicks.\n",
              "      quickchartButtonEl.classList.add('colab-df-spinner');\n",
              "      try {\n",
              "        const charts = await google.colab.kernel.invokeFunction(\n",
              "            'suggestCharts', [key], {});\n",
              "      } catch (error) {\n",
              "        console.error('Error during call to suggestCharts:', error);\n",
              "      }\n",
              "      quickchartButtonEl.classList.remove('colab-df-spinner');\n",
              "      quickchartButtonEl.classList.add('colab-df-quickchart-complete');\n",
              "    }\n",
              "    (() => {\n",
              "      let quickchartButtonEl =\n",
              "        document.querySelector('#df-990cee23-823f-4a5a-bdce-c57b47c664a3 button');\n",
              "      quickchartButtonEl.style.display =\n",
              "        google.colab.kernel.accessAllowed ? 'block' : 'none';\n",
              "    })();\n",
              "  </script>\n",
              "</div>\n",
              "    </div>\n",
              "  </div>\n"
            ]
          },
          "metadata": {},
          "execution_count": 37
        }
      ]
    },
    {
      "cell_type": "code",
      "source": [
        "Counter(irisData.target)"
      ],
      "metadata": {
        "colab": {
          "base_uri": "https://localhost:8080/"
        },
        "id": "2AX8erbDredP",
        "outputId": "f3ae4dec-252b-4473-9361-4de4200c0a63"
      },
      "execution_count": 20,
      "outputs": [
        {
          "output_type": "stream",
          "name": "stdout",
          "text": [
            "Counter({0: 50, 1: 50, 2: 50})\n"
          ]
        }
      ]
    },
    {
      "cell_type": "code",
      "source": [
        "irisData.data.shape"
      ],
      "metadata": {
        "colab": {
          "base_uri": "https://localhost:8080/"
        },
        "id": "yTUkuYuLryN5",
        "outputId": "a30e234c-ba93-4b5b-ec9d-3c8f1dcefa75"
      },
      "execution_count": 24,
      "outputs": [
        {
          "output_type": "execute_result",
          "data": {
            "text/plain": [
              "(150, 4)"
            ]
          },
          "metadata": {},
          "execution_count": 24
        }
      ]
    },
    {
      "cell_type": "code",
      "source": [
        "def plot_2D(data=irisData.data, target=irisData.target, target_names=irisData.target_names):\n",
        "    colors = cycle('rgbcmykw')\n",
        "    target_ids = range(len(target_names))\n",
        "    pl.figure()\n",
        "    for i, c, label in zip(target_ids, colors, target_names):\n",
        "        pl.scatter(data[target == i, 2], data[target == i, 3], c=c, label=label)\n",
        "\n",
        "    pl.plot([2.5, 2.5], [0, 3])\n",
        "    pl.plot([0.75, 7], [0.75, 0.75])\n",
        "    pl.legend()\n",
        "\n",
        "    # Set labels for x and y axes\n",
        "    pl.xlabel('Petal Length')\n",
        "    pl.ylabel('Petal Width')\n",
        "\n",
        "    pl.show()"
      ],
      "metadata": {
        "id": "h2F1GpfnqQYI"
      },
      "execution_count": 65,
      "outputs": []
    },
    {
      "cell_type": "code",
      "source": [
        "plot_2D()"
      ],
      "metadata": {
        "colab": {
          "base_uri": "https://localhost:8080/",
          "height": 449
        },
        "id": "Ig7Ezr5gqsdU",
        "outputId": "96ad90af-bf88-4f2a-8c1a-159943521b1e"
      },
      "execution_count": 66,
      "outputs": [
        {
          "output_type": "display_data",
          "data": {
            "text/plain": [
              "<Figure size 640x480 with 1 Axes>"
            ],
            "image/png": "[encoded data removed]"
          },
          "metadata": {}
        }
      ]
    },
    {
      "cell_type": "markdown",
      "source": [
        "**Naive bayes**"
      ],
      "metadata": {
        "id": "WVAcDFQszIgo"
      }
    },
    {
      "cell_type": "code",
      "source": [
        "nb = naive_bayes.MultinomialNB(fit_prior=True)# un algo d'apprentissage\n",
        "nb.fit(irisData.data[:], irisData.target[:])"
      ],
      "metadata": {
        "colab": {
          "base_uri": "https://localhost:8080/",
          "height": 74
        },
        "id": "45QwMqsiutyC",
        "outputId": "cad9c479-1546-4111-b9dc-66d36df862cf"
      },
      "execution_count": 81,
      "outputs": [
        {
          "output_type": "execute_result",
          "data": {
            "text/plain": [
              "MultinomialNB()"
            ],
            "text/html": [
              "<style>#sk-container-id-2 {color: black;background-color: white;}#sk-container-id-2 pre{padding: 0;}#sk-container-id-2 div.sk-toggleable {background-color: white;}#sk-container-id-2 label.sk-toggleable__label {cursor: pointer;display: block;width: 100%;margin-bottom: 0;padding: 0.3em;box-sizing: border-box;text-align: center;}#sk-container-id-2 label.sk-toggleable__label-arrow:before {content: \"▸\";float: left;margin-right: 0.25em;color: #696969;}#sk-container-id-2 label.sk-toggleable__label-arrow:hover:before {color: black;}#sk-container-id-2 div.sk-estimator:hover label.sk-toggleable__label-arrow:before {color: black;}#sk-container-id-2 div.sk-toggleable__content {max-height: 0;max-width: 0;overflow: hidden;text-align: left;background-color: #f0f8ff;}#sk-container-id-2 div.sk-toggleable__content pre {margin: 0.2em;color: black;border-radius: 0.25em;background-color: #f0f8ff;}#sk-container-id-2 input.sk-toggleable__control:checked~div.sk-toggleable__content {max-height: 200px;max-width: 100%;overflow: auto;}#sk-container-id-2 input.sk-toggleable__control:checked~label.sk-toggleable__label-arrow:before {content: \"▾\";}#sk-container-id-2 div.sk-estimator input.sk-toggleable__control:checked~label.sk-toggleable__label {background-color: #d4ebff;}#sk-container-id-2 div.sk-label input.sk-toggleable__control:checked~label.sk-toggleable__label {background-color: #d4ebff;}#sk-container-id-2 input.sk-hidden--visually {border: 0;clip: rect(1px 1px 1px 1px);clip: rect(1px, 1px, 1px, 1px);height: 1px;margin: -1px;overflow: hidden;padding: 0;position: absolute;width: 1px;}#sk-container-id-2 div.sk-estimator {font-family: monospace;background-color: #f0f8ff;border: 1px dotted black;border-radius: 0.25em;box-sizing: border-box;margin-bottom: 0.5em;}#sk-container-id-2 div.sk-estimator:hover {background-color: #d4ebff;}#sk-container-id-2 div.sk-parallel-item::after {content: \"\";width: 100%;border-bottom: 1px solid gray;flex-grow: 1;}#sk-container-id-2 div.sk-label:hover label.sk-toggleable__label {background-color: #d4ebff;}#sk-container-id-2 div.sk-serial::before {content: \"\";position: absolute;border-left: 1px solid gray;box-sizing: border-box;top: 0;bottom: 0;left: 50%;z-index: 0;}#sk-container-id-2 div.sk-serial {display: flex;flex-direction: column;align-items: center;background-color: white;padding-right: 0.2em;padding-left: 0.2em;position: relative;}#sk-container-id-2 div.sk-item {position: relative;z-index: 1;}#sk-container-id-2 div.sk-parallel {display: flex;align-items: stretch;justify-content: center;background-color: white;position: relative;}#sk-container-id-2 div.sk-item::before, #sk-container-id-2 div.sk-parallel-item::before {content: \"\";position: absolute;border-left: 1px solid gray;box-sizing: border-box;top: 0;bottom: 0;left: 50%;z-index: -1;}#sk-container-id-2 div.sk-parallel-item {display: flex;flex-direction: column;z-index: 1;position: relative;background-color: white;}#sk-container-id-2 div.sk-parallel-item:first-child::after {align-self: flex-end;width: 50%;}#sk-container-id-2 div.sk-parallel-item:last-child::after {align-self: flex-start;width: 50%;}#sk-container-id-2 div.sk-parallel-item:only-child::after {width: 0;}#sk-container-id-2 div.sk-dashed-wrapped {border: 1px dashed gray;margin: 0 0.4em 0.5em 0.4em;box-sizing: border-box;padding-bottom: 0.4em;background-color: white;}#sk-container-id-2 div.sk-label label {font-family: monospace;font-weight: bold;display: inline-block;line-height: 1.2em;}#sk-container-id-2 div.sk-label-container {text-align: center;}#sk-container-id-2 div.sk-container {/* jupyter's `normalize.less` sets `[hidden] { display: none; }` but bootstrap.min.css set `[hidden] { display: none !important; }` so we also need the `!important` here to be able to override the default hidden behavior on the sphinx rendered scikit-learn.org. See: https://github.com/scikit-learn/scikit-learn/issues/21755 */display: inline-block !important;position: relative;}#sk-container-id-2 div.sk-text-repr-fallback {display: none;}</style><div id=\"sk-container-id-2\" class=\"sk-top-container\"><div class=\"sk-text-repr-fallback\"><pre>MultinomialNB()</pre><b>In a Jupyter environment, please rerun this cell to show the HTML representation or trust the notebook. <br />On GitHub, the HTML representation is unable to render, please try loading this page with nbviewer.org.</b></div><div class=\"sk-container\" hidden><div class=\"sk-item\"><div class=\"sk-estimator sk-toggleable\"><input class=\"sk-toggleable__control sk-hidden--visually\" id=\"sk-estimator-id-2\" type=\"checkbox\" checked><label for=\"sk-estimator-id-2\" class=\"sk-toggleable__label sk-toggleable__label-arrow\">MultinomialNB</label><div class=\"sk-toggleable__content\"><pre>MultinomialNB()</pre></div></div></div></div></div>"
            ]
          },
          "metadata": {},
          "execution_count": 81
        }
      ]
    },
    {
      "cell_type": "code",
      "source": [
        "p31 = nb.predict(irisData.data[[31]])\n",
        "print (p31)\n",
        "plast = nb.predict(irisData.data[[-1]])\n",
        "print (plast)\n",
        "p = nb.predict(irisData.data[:])\n",
        "print (p)"
      ],
      "metadata": {
        "colab": {
          "base_uri": "https://localhost:8080/"
        },
        "id": "5BoJ9rdBzbgI",
        "outputId": "a8c3042e-7e22-4780-cd25-92d0deeeb621"
      },
      "execution_count": 82,
      "outputs": [
        {
          "output_type": "stream",
          "name": "stdout",
          "text": [
            "[0]\n",
            "[2]\n",
            "[0 0 0 0 0 0 0 0 0 0 0 0 0 0 0 0 0 0 0 0 0 0 0 0 0 0 0 0 0 0 0 0 0 0 0 0 0\n",
            " 0 0 0 0 0 0 0 0 0 0 0 0 0 1 1 1 1 1 1 1 1 1 1 1 1 1 1 1 1 1 1 2 1 2 1 2 1\n",
            " 1 1 1 1 1 1 1 1 1 2 1 1 1 1 1 1 1 1 1 1 1 1 1 1 1 1 2 2 2 2 2 2 2 2 2 2 2\n",
            " 2 2 2 2 2 2 2 2 2 2 2 2 2 2 2 2 2 2 1 2 1 2 1 2 2 2 2 2 2 2 2 2 2 2 2 2 2\n",
            " 2 2]\n"
          ]
        }
      ]
    },
    {
      "cell_type": "code",
      "source": [
        "nb1 = naive_bayes.MultinomialNB(fit_prior=True)\n",
        "nb1.fit(irisData.data[:99], irisData.target[:99])\n",
        "nb1.predict(irisData.data[100:149])\n"
      ],
      "metadata": {
        "colab": {
          "base_uri": "https://localhost:8080/"
        },
        "id": "LYzXn2xRzh02",
        "outputId": "7d31f745-4b22-451e-f4fd-6efa21d9898a"
      },
      "execution_count": 83,
      "outputs": [
        {
          "output_type": "execute_result",
          "data": {
            "text/plain": [
              "array([1, 1, 1, 1, 1, 1, 1, 1, 1, 1, 1, 1, 1, 1, 1, 1, 1, 1, 1, 1, 1, 1,\n",
              "       1, 1, 1, 1, 1, 1, 1, 1, 1, 1, 1, 1, 1, 1, 1, 1, 1, 1, 1, 1, 1, 1,\n",
              "       1, 1, 1, 1, 1])"
            ]
          },
          "metadata": {},
          "execution_count": 83
        }
      ]
    },
    {
      "cell_type": "markdown",
      "source": [
        "## ***model evaluation***"
      ],
      "metadata": {
        "id": "LrtQ0A5p4P4U"
      }
    },
    {
      "cell_type": "markdown",
      "source": [
        "#### Performances sur l'ensemble d'apprentissage"
      ],
      "metadata": {
        "id": "iDKBVvEk53Ua"
      }
    },
    {
      "cell_type": "code",
      "source": [
        "print(\"method 1\")\n",
        "ea = 0\n",
        "for i in range(len(irisData.data)):\n",
        "  if (p[i] !=irisData.target[i]):\n",
        "    ea = ea+1\n",
        "print(f'error rate: {ea/len(irisData.data)}')"
      ],
      "metadata": {
        "colab": {
          "base_uri": "https://localhost:8080/"
        },
        "id": "sIQjO5_d38sp",
        "outputId": "84ffa1b6-2b8b-45a5-8002-632c1c6ef4f8"
      },
      "execution_count": 87,
      "outputs": [
        {
          "output_type": "stream",
          "name": "stdout",
          "text": [
            "method 1\n",
            "error rate: 0.04666666666666667\n"
          ]
        }
      ]
    },
    {
      "cell_type": "code",
      "source": [
        "#Indice : pensez à exploiter le tableau P-Y : que représentent des valeurs non nulles ?\n",
        "# Comment compter (en une seule instruction) le nombre de valeurs non-nulles1\n",
        "# ?\n",
        "\n",
        "print(\"method 2\")\n",
        "print(f'number of non null values : {len(np.nonzero(p-irisData.target)[0])}')\n",
        "print(f'error rate : {len(np.nonzero(p-irisData.target)[0])/150}')"
      ],
      "metadata": {
        "colab": {
          "base_uri": "https://localhost:8080/"
        },
        "id": "0vWMlFdA6ZPZ",
        "outputId": "740884d5-dda2-480b-9be7-31c9fbfbec6e"
      },
      "execution_count": 88,
      "outputs": [
        {
          "output_type": "stream",
          "name": "stdout",
          "text": [
            "method 2\n",
            "number of non null values : 7\n",
            "error rate : 0.04666666666666667\n"
          ]
        }
      ]
    },
    {
      "cell_type": "code",
      "source": [
        "print(\"method 3\")\n",
        "print(f'error rate : {1-nb.score(irisData.data,irisData.target)}')"
      ],
      "metadata": {
        "colab": {
          "base_uri": "https://localhost:8080/"
        },
        "id": "7tzlqgzw5TBa",
        "outputId": "3f6cadff-a7c8-4c7c-c895-bfaa62a5dca0"
      },
      "execution_count": 89,
      "outputs": [
        {
          "output_type": "stream",
          "name": "stdout",
          "text": [
            "method 3\n",
            "error rate : 0.046666666666666634\n"
          ]
        }
      ]
    },
    {
      "cell_type": "markdown",
      "source": [
        "nous avons évalué notre modele sur le training set\n",
        "\n",
        "l'error sur le training set est de : 0.046"
      ],
      "metadata": {
        "id": "O5uYDn5j-vzM"
      }
    },
    {
      "cell_type": "markdown",
      "source": [
        "## **Performances en généralisation**"
      ],
      "metadata": {
        "id": "szjnA750_GZR"
      }
    },
    {
      "cell_type": "code",
      "source": [
        "#question 1:\n",
        "def split(S, random_state=None,train_split=2/3):\n",
        "    indexes = list(range(len(S.data)))\n",
        "\n",
        "    # Use the provided random_state for reproducibility\n",
        "    random.seed(random_state)\n",
        "    random.shuffle(indexes)\n",
        "\n",
        "    train_size = int(train_split * len(S.data))\n",
        "\n",
        "    indexes_train = indexes[:train_size]\n",
        "    indexes_test = indexes[train_size:]\n",
        "\n",
        "    X_train = S.data[indexes_train]\n",
        "    y_train = S.target[indexes_train]\n",
        "    X_test = S.data[indexes_test]\n",
        "    y_test = S.target[indexes_test]\n",
        "\n",
        "    return X_train, y_train, X_test, y_test\n"
      ],
      "metadata": {
        "id": "V2PDSqiv7_TK"
      },
      "execution_count": 175,
      "outputs": []
    },
    {
      "cell_type": "code",
      "source": [
        "X_train,y_train,X_test,y_test=split(irisData)\n",
        "\n",
        "print(f'size of X_train: {len(X_train)} with shape : {X_train.shape}')\n",
        "print(f'size of X_test : {len(X_test)} with shape : {X_test.shape}')\n",
        "print(f'size of y_train: {len(y_train)} with shape : {y_train.shape}')\n",
        "print(f'size of y_test : {len(y_test)} with shape : {y_test.shape}')\n"
      ],
      "metadata": {
        "colab": {
          "base_uri": "https://localhost:8080/"
        },
        "id": "oejn34KtAKXC",
        "outputId": "ac98ebc6-1878-4249-9573-61e7aa86ec83"
      },
      "execution_count": 176,
      "outputs": [
        {
          "output_type": "stream",
          "name": "stdout",
          "text": [
            "size of X_train: 100 with shape : (100, 4)\n",
            "size of X_test : 50 with shape : (50, 4)\n",
            "size of y_train: 100 with shape : (100,)\n",
            "size of y_test : 50 with shape : (50,)\n"
          ]
        }
      ]
    },
    {
      "cell_type": "code",
      "source": [
        "#question 2\n",
        "def test(S,clf,train_split=2/3):\n",
        "  X_train,y_train,X_test,y_test=split(S,train_split=train_split)\n",
        "  clf.fit(X_train,y_train)\n",
        "\n",
        "  predictions=clf.predict(X_test)\n",
        "  error = len(np.nonzero(predictions-y_test)[0])/len(y_test)\n",
        "\n",
        "  return error"
      ],
      "metadata": {
        "id": "j6V6pRu_BgA1"
      },
      "execution_count": 177,
      "outputs": []
    },
    {
      "cell_type": "code",
      "source": [
        "clf = naive_bayes.MultinomialNB(fit_prior=True)\n",
        "error_rate = test(irisData, clf)\n",
        "\n",
        "print(\"Taux d'erreur estimé avec Naive Bayes en utilisant split:\", error_rate)"
      ],
      "metadata": {
        "colab": {
          "base_uri": "https://localhost:8080/"
        },
        "id": "R6wAZPtPBjAU",
        "outputId": "ce27b0c3-1e7a-4fe7-b7b8-3b794782c5f1"
      },
      "execution_count": 178,
      "outputs": [
        {
          "output_type": "stream",
          "name": "stdout",
          "text": [
            "Taux d'erreur estimé avec Naive Bayes en utilisant split: 0.26\n"
          ]
        }
      ]
    },
    {
      "cell_type": "code",
      "source": [
        "#question 3\n",
        "def test_t(S, clf, t,train_split=2/3):\n",
        "    error_rates = []\n",
        "    for _ in range(t):\n",
        "        error_rate = test(S, clf,train_split=train_split)\n",
        "        error_rates.append(error_rate)\n",
        "    mean_error = np.mean(error_rates)\n",
        "    return mean_error, error_rates"
      ],
      "metadata": {
        "id": "85ZhOvMrJhb3"
      },
      "execution_count": 182,
      "outputs": []
    },
    {
      "cell_type": "code",
      "source": [
        "ts = [10, 50, 100, 200, 500, 1000]\n",
        "repetitions = 20\n",
        "result_table2 = PrettyTable(['t', 'Mean Error'])\n",
        "\n",
        "for t in ts:\n",
        "    clf =  naive_bayes.MultinomialNB(fit_prior=True)\n",
        "    mean_errors = []\n",
        "    for _ in range(repetitions):\n",
        "        mean_error, _ = test_t(irisData, clf, t)\n",
        "        mean_errors.append(mean_error)\n",
        "    error_rate = np.mean(mean_errors)\n",
        "    result_table2.add_row([t, f\"{error_rate:.4f}\"])\n",
        "\n",
        "    print(f\"Taux d'erreur moyen pour t={t}: {error_rate}\")"
      ],
      "metadata": {
        "colab": {
          "base_uri": "https://localhost:8080/"
        },
        "id": "F03CYWJUPSts",
        "outputId": "07e968ee-0998-45e6-b00a-9a9b63ff7cce"
      },
      "execution_count": 197,
      "outputs": [
        {
          "output_type": "stream",
          "name": "stdout",
          "text": [
            "Taux d'erreur moyen pour t=10: 0.2111\n",
            "Taux d'erreur moyen pour t=50: 0.19666\n",
            "Taux d'erreur moyen pour t=100: 0.19703\n",
            "Taux d'erreur moyen pour t=200: 0.19685000000000002\n",
            "Taux d'erreur moyen pour t=500: 0.20287800000000003\n",
            "Taux d'erreur moyen pour t=1000: 0.20111000000000004\n"
          ]
        }
      ]
    },
    {
      "cell_type": "code",
      "source": [
        "print(result_table2)"
      ],
      "metadata": {
        "colab": {
          "base_uri": "https://localhost:8080/"
        },
        "id": "t8bQQza9ZZFb",
        "outputId": "3f467233-1756-4b0f-bf39-c5bed4663db2"
      },
      "execution_count": 199,
      "outputs": [
        {
          "output_type": "stream",
          "name": "stdout",
          "text": [
            "+------+------------+\n",
            "|  t   | Mean Error |\n",
            "+------+------------+\n",
            "|  10  |   0.2111   |\n",
            "|  50  |   0.1967   |\n",
            "| 100  |   0.1970   |\n",
            "| 200  |   0.1969   |\n",
            "| 500  |   0.2029   |\n",
            "| 1000 |   0.2011   |\n",
            "+------+------------+\n"
          ]
        }
      ]
    },
    {
      "cell_type": "markdown",
      "source": [
        "plus t augmente , plus l'erreur est stable ce qui nous renseigne sur l'erreur dans le cas general"
      ],
      "metadata": {
        "id": "fiokFi1GP5ln"
      }
    },
    {
      "cell_type": "code",
      "source": [
        "#question 4\n",
        "ts = [10, 50, 100, 200, 500, 1000]\n",
        "repetitions = 20\n",
        "result_table1 = PrettyTable(['t', 'Mean Error'])\n",
        "\n",
        "for t in ts:\n",
        "    clf =  naive_bayes.MultinomialNB(fit_prior=True)\n",
        "    mean_errors = []\n",
        "    for _ in range(repetitions):\n",
        "        mean_error, _ = test_t(irisData, clf, t,train_split=0.9)\n",
        "        mean_errors.append(mean_error)\n",
        "    error_rate = np.mean(mean_errors)\n",
        "    result_table1.add_row([t, f\"{error_rate:.4f}\"])\n",
        "    print(f\"Taux d'erreur moyen pour t={t}: {error_rate}\")\n",
        "print(result_table1)"
      ],
      "metadata": {
        "colab": {
          "base_uri": "https://localhost:8080/"
        },
        "id": "6WUjp9OSPSwC",
        "outputId": "b0d5ae7a-638c-408c-8fed-94e59822ee32"
      },
      "execution_count": 198,
      "outputs": [
        {
          "output_type": "stream",
          "name": "stdout",
          "text": [
            "Taux d'erreur moyen pour t=10: 0.12933333333333333\n",
            "Taux d'erreur moyen pour t=50: 0.11446666666666665\n",
            "Taux d'erreur moyen pour t=100: 0.12563333333333332\n",
            "Taux d'erreur moyen pour t=200: 0.12241666666666665\n",
            "Taux d'erreur moyen pour t=500: 0.12206666666666668\n",
            "Taux d'erreur moyen pour t=1000: 0.12342999999999997\n",
            "+------+------------+\n",
            "|  t   | Mean Error |\n",
            "+------+------------+\n",
            "|  10  |   0.1293   |\n",
            "|  50  |   0.1145   |\n",
            "| 100  |   0.1256   |\n",
            "| 200  |   0.1224   |\n",
            "| 500  |   0.1221   |\n",
            "| 1000 |   0.1234   |\n",
            "+------+------------+\n"
          ]
        }
      ]
    },
    {
      "cell_type": "markdown",
      "source": [
        "on remarque que le taux d'error si on teste sur le 1/10 de l'echantillon diminue"
      ],
      "metadata": {
        "id": "iEiAaF1NRgiX"
      }
    },
    {
      "cell_type": "code",
      "source": [
        "#question 5\n",
        "test_sizes = [0.1,0.2, 0.25,0.3, 0.33, 0.4, 0.7]\n",
        "result_table = PrettyTable(['Test Size', 'Error Rate'])\n",
        "\n",
        "for test_size in test_sizes:\n",
        "    # Split the data into training and testing sets\n",
        "    X_train, X_test, y_train, y_test = train_test_split(\n",
        "        irisData.data, irisData.target, test_size=test_size\n",
        "    )\n",
        "    clf.fit(X_train, y_train)\n",
        "    predictions = clf.predict(X_test)\n",
        "    error = len(np.nonzero(predictions-y_test)[0])/len(y_test)\n",
        "    result_table.add_row([test_size, f\"{error_rate:.4f}\"])\n",
        "    print(f\"Test Size: {test_size}, error rate: {error}\")\n",
        "print(result_table)"
      ],
      "metadata": {
        "colab": {
          "base_uri": "https://localhost:8080/"
        },
        "id": "6FBsxDpOPSxy",
        "outputId": "d2f4ef4c-0eb8-4f9a-da67-da5ee9f26750"
      },
      "execution_count": 196,
      "outputs": [
        {
          "output_type": "stream",
          "name": "stdout",
          "text": [
            "Test Size: 0.1, error rate: 0.13333333333333333\n",
            "Test Size: 0.2, error rate: 0.1\n",
            "Test Size: 0.25, error rate: 0.05263157894736842\n",
            "Test Size: 0.3, error rate: 0.022222222222222223\n",
            "Test Size: 0.33, error rate: 0.1\n",
            "Test Size: 0.4, error rate: 0.06666666666666667\n",
            "Test Size: 0.7, error rate: 0.05714285714285714\n",
            "+-----------+------------+\n",
            "| Test Size | Error Rate |\n",
            "+-----------+------------+\n",
            "|    0.1    |   0.2600   |\n",
            "|    0.2    |   0.2600   |\n",
            "|    0.25   |   0.2600   |\n",
            "|    0.3    |   0.2600   |\n",
            "|    0.33   |   0.2600   |\n",
            "|    0.4    |   0.2600   |\n",
            "|    0.7    |   0.2600   |\n",
            "+-----------+------------+\n"
          ]
        }
      ]
    },
    {
      "cell_type": "markdown",
      "source": [
        "## **Cross Validation**"
      ],
      "metadata": {
        "id": "wW_0OFllTSKs"
      }
    },
    {
      "cell_type": "code",
      "source": [
        "clf =  naive_bayes.MultinomialNB(fit_prior=True)\n",
        "num_folds = [2, 3, 5, 8, 10]\n",
        "summary_table = PrettyTable(['Folds', 'Mean Error Rate'])\n",
        "\n",
        "for folds in num_folds:\n",
        "    scores = cross_val_score(clf, irisData.data, irisData.target, cv=folds)\n",
        "    mean_error_rate = 1 - scores.mean()\n",
        "    summary_table.add_row([folds, f\"{mean_error_rate:.4f}\"])\n",
        "print(summary_table)\n"
      ],
      "metadata": {
        "colab": {
          "base_uri": "https://localhost:8080/"
        },
        "id": "NgujvIJMS-S3",
        "outputId": "5a031b23-a318-4146-b509-7e9c639780a4"
      },
      "execution_count": 195,
      "outputs": [
        {
          "output_type": "stream",
          "name": "stdout",
          "text": [
            "+-------+-----------------+\n",
            "| Folds | Mean Error Rate |\n",
            "+-------+-----------------+\n",
            "|   2   |      0.0467     |\n",
            "|   3   |      0.0533     |\n",
            "|   5   |      0.0467     |\n",
            "|   8   |      0.0526     |\n",
            "|   10  |      0.0467     |\n",
            "+-------+-----------------+\n"
          ]
        }
      ]
    },
    {
      "cell_type": "code",
      "source": [
        "pretty_tables=[summary_table,result_table,result_table1,result_table2]\n",
        "titles=[\"cross validation\",\"using train_test_split predefined method\",\"test_split=0.1 with repetition\",\"test_split=1/3 with repetition\"]\n",
        "for title,table in zip(titles,pretty_tables):\n",
        "  print('---',title,'---')\n",
        "  print(table)"
      ],
      "metadata": {
        "colab": {
          "base_uri": "https://localhost:8080/"
        },
        "id": "yayOnqeDULbB",
        "outputId": "f710ecf1-3f57-4c78-9b2d-03df593f7ab3"
      },
      "execution_count": 204,
      "outputs": [
        {
          "output_type": "stream",
          "name": "stdout",
          "text": [
            "--- cross validation ---\n",
            "+-------+-----------------+\n",
            "| Folds | Mean Error Rate |\n",
            "+-------+-----------------+\n",
            "|   2   |      0.0467     |\n",
            "|   3   |      0.0533     |\n",
            "|   5   |      0.0467     |\n",
            "|   8   |      0.0526     |\n",
            "|   10  |      0.0467     |\n",
            "+-------+-----------------+\n",
            "--- using train_test_split predefined method ---\n",
            "+-----------+------------+\n",
            "| Test Size | Error Rate |\n",
            "+-----------+------------+\n",
            "|    0.1    |   0.2600   |\n",
            "|    0.2    |   0.2600   |\n",
            "|    0.25   |   0.2600   |\n",
            "|    0.3    |   0.2600   |\n",
            "|    0.33   |   0.2600   |\n",
            "|    0.4    |   0.2600   |\n",
            "|    0.7    |   0.2600   |\n",
            "+-----------+------------+\n",
            "--- test_split=0.1 with repetition ---\n",
            "+------+------------+\n",
            "|  t   | Mean Error |\n",
            "+------+------------+\n",
            "|  10  |   0.1293   |\n",
            "|  50  |   0.1145   |\n",
            "| 100  |   0.1256   |\n",
            "| 200  |   0.1224   |\n",
            "| 500  |   0.1221   |\n",
            "| 1000 |   0.1234   |\n",
            "+------+------------+\n",
            "--- test_split=1/3 with repetition ---\n",
            "+------+------------+\n",
            "|  t   | Mean Error |\n",
            "+------+------------+\n",
            "|  10  |   0.2111   |\n",
            "|  50  |   0.1967   |\n",
            "| 100  |   0.1970   |\n",
            "| 200  |   0.1969   |\n",
            "| 500  |   0.2029   |\n",
            "| 1000 |   0.2011   |\n",
            "+------+------------+\n"
          ]
        }
      ]
    },
    {
      "cell_type": "code",
      "source": [],
      "metadata": {
        "id": "wFzdU5AoZw1F"
      },
      "execution_count": null,
      "outputs": []
    }
  ]
}