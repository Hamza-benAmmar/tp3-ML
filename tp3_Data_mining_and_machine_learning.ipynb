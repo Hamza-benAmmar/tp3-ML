{
  "nbformat": 4,
  "nbformat_minor": 0,
  "metadata": {
    "colab": {
      "provenance": [],
      "authorship_tag": "ABX9TyP2huawrooaAjIKsW5XfP8t",
      "include_colab_link": true
    },
    "kernelspec": {
      "name": "python3",
      "display_name": "Python 3"
    },
    "language_info": {
      "name": "python"
    }
  },
  "cells": [
    {
      "cell_type": "markdown",
      "metadata": {
        "id": "view-in-github",
        "colab_type": "text"
      },
      "source": [
        "<a href=\"https://colab.research.google.com/github/Hamza-benAmmar/tp3-ML/blob/main/tp3_Data_mining_and_machine_learning.ipynb\" target=\"_parent\"><img src=\"https://colab.research.google.com/assets/colab-badge.svg\" alt=\"Open In Colab\"/></a>"
      ]
    },
    {
      "cell_type": "markdown",
      "source": [
        "**Imports**"
      ],
      "metadata": {
        "id": "l4MQebDMnieM"
      }
    },
    {
      "cell_type": "code",
      "source": [
        "from sklearn import datasets,naive_bayes\n",
        "from collections import Counter\n",
        "import numpy as np\n",
        "import pandas as pd\n",
        "import random\n",
        "import matplotlib\n",
        "import pylab as pl\n",
        "from itertools import cycle\n",
        "from sklearn.model_selection import train_test_split,cross_val_score\n",
        "from prettytable import PrettyTable\n",
        "from sklearn.tree import DecisionTreeClassifier\n"
      ],
      "metadata": {
        "id": "PWhIo0M5ng5g"
      },
      "execution_count": 40,
      "outputs": []
    },
    {
      "cell_type": "markdown",
      "source": [
        "**DEA**"
      ],
      "metadata": {
        "id": "qiiDcqjspaqv"
      }
    },
    {
      "cell_type": "code",
      "source": [
        "irisData = datasets.load_iris()\n",
        "print (irisData.feature_names)\n",
        "print (irisData.data)\n",
        "print (irisData.target_names)\n",
        "print (irisData.target)"
      ],
      "metadata": {
        "colab": {
          "base_uri": "https://localhost:8080/"
        },
        "id": "bZIHs66bpWuH",
        "outputId": "b71b3cb3-2902-4813-d7a5-cf19447c9e9d"
      },
      "execution_count": 41,
      "outputs": [
        {
          "output_type": "stream",
          "name": "stdout",
          "text": [
            "['sepal length (cm)', 'sepal width (cm)', 'petal length (cm)', 'petal width (cm)']\n",
            "[[5.1 3.5 1.4 0.2]\n",
            " [4.9 3.  1.4 0.2]\n",
            " [4.7 3.2 1.3 0.2]\n",
            " [4.6 3.1 1.5 0.2]\n",
            " [5.  3.6 1.4 0.2]\n",
            " [5.4 3.9 1.7 0.4]\n",
            " [4.6 3.4 1.4 0.3]\n",
            " [5.  3.4 1.5 0.2]\n",
            " [4.4 2.9 1.4 0.2]\n",
            " [4.9 3.1 1.5 0.1]\n",
            " [5.4 3.7 1.5 0.2]\n",
            " [4.8 3.4 1.6 0.2]\n",
            " [4.8 3.  1.4 0.1]\n",
            " [4.3 3.  1.1 0.1]\n",
            " [5.8 4.  1.2 0.2]\n",
            " [5.7 4.4 1.5 0.4]\n",
            " [5.4 3.9 1.3 0.4]\n",
            " [5.1 3.5 1.4 0.3]\n",
            " [5.7 3.8 1.7 0.3]\n",
            " [5.1 3.8 1.5 0.3]\n",
            " [5.4 3.4 1.7 0.2]\n",
            " [5.1 3.7 1.5 0.4]\n",
            " [4.6 3.6 1.  0.2]\n",
            " [5.1 3.3 1.7 0.5]\n",
            " [4.8 3.4 1.9 0.2]\n",
            " [5.  3.  1.6 0.2]\n",
            " [5.  3.4 1.6 0.4]\n",
            " [5.2 3.5 1.5 0.2]\n",
            " [5.2 3.4 1.4 0.2]\n",
            " [4.7 3.2 1.6 0.2]\n",
            " [4.8 3.1 1.6 0.2]\n",
            " [5.4 3.4 1.5 0.4]\n",
            " [5.2 4.1 1.5 0.1]\n",
            " [5.5 4.2 1.4 0.2]\n",
            " [4.9 3.1 1.5 0.2]\n",
            " [5.  3.2 1.2 0.2]\n",
            " [5.5 3.5 1.3 0.2]\n",
            " [4.9 3.6 1.4 0.1]\n",
            " [4.4 3.  1.3 0.2]\n",
            " [5.1 3.4 1.5 0.2]\n",
            " [5.  3.5 1.3 0.3]\n",
            " [4.5 2.3 1.3 0.3]\n",
            " [4.4 3.2 1.3 0.2]\n",
            " [5.  3.5 1.6 0.6]\n",
            " [5.1 3.8 1.9 0.4]\n",
            " [4.8 3.  1.4 0.3]\n",
            " [5.1 3.8 1.6 0.2]\n",
            " [4.6 3.2 1.4 0.2]\n",
            " [5.3 3.7 1.5 0.2]\n",
            " [5.  3.3 1.4 0.2]\n",
            " [7.  3.2 4.7 1.4]\n",
            " [6.4 3.2 4.5 1.5]\n",
            " [6.9 3.1 4.9 1.5]\n",
            " [5.5 2.3 4.  1.3]\n",
            " [6.5 2.8 4.6 1.5]\n",
            " [5.7 2.8 4.5 1.3]\n",
            " [6.3 3.3 4.7 1.6]\n",
            " [4.9 2.4 3.3 1. ]\n",
            " [6.6 2.9 4.6 1.3]\n",
            " [5.2 2.7 3.9 1.4]\n",
            " [5.  2.  3.5 1. ]\n",
            " [5.9 3.  4.2 1.5]\n",
            " [6.  2.2 4.  1. ]\n",
            " [6.1 2.9 4.7 1.4]\n",
            " [5.6 2.9 3.6 1.3]\n",
            " [6.7 3.1 4.4 1.4]\n",
            " [5.6 3.  4.5 1.5]\n",
            " [5.8 2.7 4.1 1. ]\n",
            " [6.2 2.2 4.5 1.5]\n",
            " [5.6 2.5 3.9 1.1]\n",
            " [5.9 3.2 4.8 1.8]\n",
            " [6.1 2.8 4.  1.3]\n",
            " [6.3 2.5 4.9 1.5]\n",
            " [6.1 2.8 4.7 1.2]\n",
            " [6.4 2.9 4.3 1.3]\n",
            " [6.6 3.  4.4 1.4]\n",
            " [6.8 2.8 4.8 1.4]\n",
            " [6.7 3.  5.  1.7]\n",
            " [6.  2.9 4.5 1.5]\n",
            " [5.7 2.6 3.5 1. ]\n",
            " [5.5 2.4 3.8 1.1]\n",
            " [5.5 2.4 3.7 1. ]\n",
            " [5.8 2.7 3.9 1.2]\n",
            " [6.  2.7 5.1 1.6]\n",
            " [5.4 3.  4.5 1.5]\n",
            " [6.  3.4 4.5 1.6]\n",
            " [6.7 3.1 4.7 1.5]\n",
            " [6.3 2.3 4.4 1.3]\n",
            " [5.6 3.  4.1 1.3]\n",
            " [5.5 2.5 4.  1.3]\n",
            " [5.5 2.6 4.4 1.2]\n",
            " [6.1 3.  4.6 1.4]\n",
            " [5.8 2.6 4.  1.2]\n",
            " [5.  2.3 3.3 1. ]\n",
            " [5.6 2.7 4.2 1.3]\n",
            " [5.7 3.  4.2 1.2]\n",
            " [5.7 2.9 4.2 1.3]\n",
            " [6.2 2.9 4.3 1.3]\n",
            " [5.1 2.5 3.  1.1]\n",
            " [5.7 2.8 4.1 1.3]\n",
            " [6.3 3.3 6.  2.5]\n",
            " [5.8 2.7 5.1 1.9]\n",
            " [7.1 3.  5.9 2.1]\n",
            " [6.3 2.9 5.6 1.8]\n",
            " [6.5 3.  5.8 2.2]\n",
            " [7.6 3.  6.6 2.1]\n",
            " [4.9 2.5 4.5 1.7]\n",
            " [7.3 2.9 6.3 1.8]\n",
            " [6.7 2.5 5.8 1.8]\n",
            " [7.2 3.6 6.1 2.5]\n",
            " [6.5 3.2 5.1 2. ]\n",
            " [6.4 2.7 5.3 1.9]\n",
            " [6.8 3.  5.5 2.1]\n",
            " [5.7 2.5 5.  2. ]\n",
            " [5.8 2.8 5.1 2.4]\n",
            " [6.4 3.2 5.3 2.3]\n",
            " [6.5 3.  5.5 1.8]\n",
            " [7.7 3.8 6.7 2.2]\n",
            " [7.7 2.6 6.9 2.3]\n",
            " [6.  2.2 5.  1.5]\n",
            " [6.9 3.2 5.7 2.3]\n",
            " [5.6 2.8 4.9 2. ]\n",
            " [7.7 2.8 6.7 2. ]\n",
            " [6.3 2.7 4.9 1.8]\n",
            " [6.7 3.3 5.7 2.1]\n",
            " [7.2 3.2 6.  1.8]\n",
            " [6.2 2.8 4.8 1.8]\n",
            " [6.1 3.  4.9 1.8]\n",
            " [6.4 2.8 5.6 2.1]\n",
            " [7.2 3.  5.8 1.6]\n",
            " [7.4 2.8 6.1 1.9]\n",
            " [7.9 3.8 6.4 2. ]\n",
            " [6.4 2.8 5.6 2.2]\n",
            " [6.3 2.8 5.1 1.5]\n",
            " [6.1 2.6 5.6 1.4]\n",
            " [7.7 3.  6.1 2.3]\n",
            " [6.3 3.4 5.6 2.4]\n",
            " [6.4 3.1 5.5 1.8]\n",
            " [6.  3.  4.8 1.8]\n",
            " [6.9 3.1 5.4 2.1]\n",
            " [6.7 3.1 5.6 2.4]\n",
            " [6.9 3.1 5.1 2.3]\n",
            " [5.8 2.7 5.1 1.9]\n",
            " [6.8 3.2 5.9 2.3]\n",
            " [6.7 3.3 5.7 2.5]\n",
            " [6.7 3.  5.2 2.3]\n",
            " [6.3 2.5 5.  1.9]\n",
            " [6.5 3.  5.2 2. ]\n",
            " [6.2 3.4 5.4 2.3]\n",
            " [5.9 3.  5.1 1.8]]\n",
            "['setosa' 'versicolor' 'virginica']\n",
            "[0 0 0 0 0 0 0 0 0 0 0 0 0 0 0 0 0 0 0 0 0 0 0 0 0 0 0 0 0 0 0 0 0 0 0 0 0\n",
            " 0 0 0 0 0 0 0 0 0 0 0 0 0 1 1 1 1 1 1 1 1 1 1 1 1 1 1 1 1 1 1 1 1 1 1 1 1\n",
            " 1 1 1 1 1 1 1 1 1 1 1 1 1 1 1 1 1 1 1 1 1 1 1 1 1 1 2 2 2 2 2 2 2 2 2 2 2\n",
            " 2 2 2 2 2 2 2 2 2 2 2 2 2 2 2 2 2 2 2 2 2 2 2 2 2 2 2 2 2 2 2 2 2 2 2 2 2\n",
            " 2 2]\n"
          ]
        }
      ]
    },
    {
      "cell_type": "code",
      "source": [
        "iris_df = pd.DataFrame(data=irisData.data, columns=irisData.feature_names)\n",
        "iris_df['target'] = irisData.target\n",
        "iris_df['target_names'] = iris_df['target'].map({0: irisData.target_names[0],\n",
        "                                                 1: irisData.target_names[1],\n",
        "                                                 2: irisData.target_names[2]})"
      ],
      "metadata": {
        "id": "Brx6MaARppIf"
      },
      "execution_count": 42,
      "outputs": []
    },
    {
      "cell_type": "code",
      "source": [
        "iris_df.head()"
      ],
      "metadata": {
        "colab": {
          "base_uri": "https://localhost:8080/",
          "height": 206
        },
        "id": "oMnrrkobqC0h",
        "outputId": "cfd7a1d3-98f3-442c-9d72-5d405d1bdcd7"
      },
      "execution_count": 43,
      "outputs": [
        {
          "output_type": "execute_result",
          "data": {
            "text/plain": [
              "   sepal length (cm)  sepal width (cm)  petal length (cm)  petal width (cm)  \\\n",
              "0                5.1               3.5                1.4               0.2   \n",
              "1                4.9               3.0                1.4               0.2   \n",
              "2                4.7               3.2                1.3               0.2   \n",
              "3                4.6               3.1                1.5               0.2   \n",
              "4                5.0               3.6                1.4               0.2   \n",
              "\n",
              "   target target_names  \n",
              "0       0       setosa  \n",
              "1       0       setosa  \n",
              "2       0       setosa  \n",
              "3       0       setosa  \n",
              "4       0       setosa  "
            ],
            "text/html": [
              "\n",
              "  <div id=\"df-81aa6511-419a-477d-8bd9-ffdc1ac77bfe\" class=\"colab-df-container\">\n",
              "    <div>\n",
              "<style scoped>\n",
              "    .dataframe tbody tr th:only-of-type {\n",
              "        vertical-align: middle;\n",
              "    }\n",
              "\n",
              "    .dataframe tbody tr th {\n",
              "        vertical-align: top;\n",
              "    }\n",
              "\n",
              "    .dataframe thead th {\n",
              "        text-align: right;\n",
              "    }\n",
              "</style>\n",
              "<table border=\"1\" class=\"dataframe\">\n",
              "  <thead>\n",
              "    <tr style=\"text-align: right;\">\n",
              "      <th></th>\n",
              "      <th>sepal length (cm)</th>\n",
              "      <th>sepal width (cm)</th>\n",
              "      <th>petal length (cm)</th>\n",
              "      <th>petal width (cm)</th>\n",
              "      <th>target</th>\n",
              "      <th>target_names</th>\n",
              "    </tr>\n",
              "  </thead>\n",
              "  <tbody>\n",
              "    <tr>\n",
              "      <th>0</th>\n",
              "      <td>5.1</td>\n",
              "      <td>3.5</td>\n",
              "      <td>1.4</td>\n",
              "      <td>0.2</td>\n",
              "      <td>0</td>\n",
              "      <td>setosa</td>\n",
              "    </tr>\n",
              "    <tr>\n",
              "      <th>1</th>\n",
              "      <td>4.9</td>\n",
              "      <td>3.0</td>\n",
              "      <td>1.4</td>\n",
              "      <td>0.2</td>\n",
              "      <td>0</td>\n",
              "      <td>setosa</td>\n",
              "    </tr>\n",
              "    <tr>\n",
              "      <th>2</th>\n",
              "      <td>4.7</td>\n",
              "      <td>3.2</td>\n",
              "      <td>1.3</td>\n",
              "      <td>0.2</td>\n",
              "      <td>0</td>\n",
              "      <td>setosa</td>\n",
              "    </tr>\n",
              "    <tr>\n",
              "      <th>3</th>\n",
              "      <td>4.6</td>\n",
              "      <td>3.1</td>\n",
              "      <td>1.5</td>\n",
              "      <td>0.2</td>\n",
              "      <td>0</td>\n",
              "      <td>setosa</td>\n",
              "    </tr>\n",
              "    <tr>\n",
              "      <th>4</th>\n",
              "      <td>5.0</td>\n",
              "      <td>3.6</td>\n",
              "      <td>1.4</td>\n",
              "      <td>0.2</td>\n",
              "      <td>0</td>\n",
              "      <td>setosa</td>\n",
              "    </tr>\n",
              "  </tbody>\n",
              "</table>\n",
              "</div>\n",
              "    <div class=\"colab-df-buttons\">\n",
              "\n",
              "  <div class=\"colab-df-container\">\n",
              "    <button class=\"colab-df-convert\" onclick=\"convertToInteractive('df-81aa6511-419a-477d-8bd9-ffdc1ac77bfe')\"\n",
              "            title=\"Convert this dataframe to an interactive table.\"\n",
              "            style=\"display:none;\">\n",
              "\n",
              "  <svg xmlns=\"http://www.w3.org/2000/svg\" height=\"24px\" viewBox=\"0 -960 960 960\">\n",
              "    <path d=\"M120-120v-720h720v720H120Zm60-500h600v-160H180v160Zm220 220h160v-160H400v160Zm0 220h160v-160H400v160ZM180-400h160v-160H180v160Zm440 0h160v-160H620v160ZM180-180h160v-160H180v160Zm440 0h160v-160H620v160Z\"/>\n",
              "  </svg>\n",
              "    </button>\n",
              "\n",
              "  <style>\n",
              "    .colab-df-container {\n",
              "      display:flex;\n",
              "      gap: 12px;\n",
              "    }\n",
              "\n",
              "    .colab-df-convert {\n",
              "      background-color: #E8F0FE;\n",
              "      border: none;\n",
              "      border-radius: 50%;\n",
              "      cursor: pointer;\n",
              "      display: none;\n",
              "      fill: #1967D2;\n",
              "      height: 32px;\n",
              "      padding: 0 0 0 0;\n",
              "      width: 32px;\n",
              "    }\n",
              "\n",
              "    .colab-df-convert:hover {\n",
              "      background-color: #E2EBFA;\n",
              "      box-shadow: 0px 1px 2px rgba(60, 64, 67, 0.3), 0px 1px 3px 1px rgba(60, 64, 67, 0.15);\n",
              "      fill: #174EA6;\n",
              "    }\n",
              "\n",
              "    .colab-df-buttons div {\n",
              "      margin-bottom: 4px;\n",
              "    }\n",
              "\n",
              "    [theme=dark] .colab-df-convert {\n",
              "      background-color: #3B4455;\n",
              "      fill: #D2E3FC;\n",
              "    }\n",
              "\n",
              "    [theme=dark] .colab-df-convert:hover {\n",
              "      background-color: #434B5C;\n",
              "      box-shadow: 0px 1px 3px 1px rgba(0, 0, 0, 0.15);\n",
              "      filter: drop-shadow(0px 1px 2px rgba(0, 0, 0, 0.3));\n",
              "      fill: #FFFFFF;\n",
              "    }\n",
              "  </style>\n",
              "\n",
              "    <script>\n",
              "      const buttonEl =\n",
              "        document.querySelector('#df-81aa6511-419a-477d-8bd9-ffdc1ac77bfe button.colab-df-convert');\n",
              "      buttonEl.style.display =\n",
              "        google.colab.kernel.accessAllowed ? 'block' : 'none';\n",
              "\n",
              "      async function convertToInteractive(key) {\n",
              "        const element = document.querySelector('#df-81aa6511-419a-477d-8bd9-ffdc1ac77bfe');\n",
              "        const dataTable =\n",
              "          await google.colab.kernel.invokeFunction('convertToInteractive',\n",
              "                                                    [key], {});\n",
              "        if (!dataTable) return;\n",
              "\n",
              "        const docLinkHtml = 'Like what you see? Visit the ' +\n",
              "          '<a target=\"_blank\" href=https://colab.research.google.com/notebooks/data_table.ipynb>data table notebook</a>'\n",
              "          + ' to learn more about interactive tables.';\n",
              "        element.innerHTML = '';\n",
              "        dataTable['output_type'] = 'display_data';\n",
              "        await google.colab.output.renderOutput(dataTable, element);\n",
              "        const docLink = document.createElement('div');\n",
              "        docLink.innerHTML = docLinkHtml;\n",
              "        element.appendChild(docLink);\n",
              "      }\n",
              "    </script>\n",
              "  </div>\n",
              "\n",
              "\n",
              "<div id=\"df-3bf08079-79a4-48e0-b342-a85664bbe740\">\n",
              "  <button class=\"colab-df-quickchart\" onclick=\"quickchart('df-3bf08079-79a4-48e0-b342-a85664bbe740')\"\n",
              "            title=\"Suggest charts\"\n",
              "            style=\"display:none;\">\n",
              "\n",
              "<svg xmlns=\"http://www.w3.org/2000/svg\" height=\"24px\"viewBox=\"0 0 24 24\"\n",
              "     width=\"24px\">\n",
              "    <g>\n",
              "        <path d=\"M19 3H5c-1.1 0-2 .9-2 2v14c0 1.1.9 2 2 2h14c1.1 0 2-.9 2-2V5c0-1.1-.9-2-2-2zM9 17H7v-7h2v7zm4 0h-2V7h2v10zm4 0h-2v-4h2v4z\"/>\n",
              "    </g>\n",
              "</svg>\n",
              "  </button>\n",
              "\n",
              "<style>\n",
              "  .colab-df-quickchart {\n",
              "      --bg-color: #E8F0FE;\n",
              "      --fill-color: #1967D2;\n",
              "      --hover-bg-color: #E2EBFA;\n",
              "      --hover-fill-color: #174EA6;\n",
              "      --disabled-fill-color: #AAA;\n",
              "      --disabled-bg-color: #DDD;\n",
              "  }\n",
              "\n",
              "  [theme=dark] .colab-df-quickchart {\n",
              "      --bg-color: #3B4455;\n",
              "      --fill-color: #D2E3FC;\n",
              "      --hover-bg-color: #434B5C;\n",
              "      --hover-fill-color: #FFFFFF;\n",
              "      --disabled-bg-color: #3B4455;\n",
              "      --disabled-fill-color: #666;\n",
              "  }\n",
              "\n",
              "  .colab-df-quickchart {\n",
              "    background-color: var(--bg-color);\n",
              "    border: none;\n",
              "    border-radius: 50%;\n",
              "    cursor: pointer;\n",
              "    display: none;\n",
              "    fill: var(--fill-color);\n",
              "    height: 32px;\n",
              "    padding: 0;\n",
              "    width: 32px;\n",
              "  }\n",
              "\n",
              "  .colab-df-quickchart:hover {\n",
              "    background-color: var(--hover-bg-color);\n",
              "    box-shadow: 0 1px 2px rgba(60, 64, 67, 0.3), 0 1px 3px 1px rgba(60, 64, 67, 0.15);\n",
              "    fill: var(--button-hover-fill-color);\n",
              "  }\n",
              "\n",
              "  .colab-df-quickchart-complete:disabled,\n",
              "  .colab-df-quickchart-complete:disabled:hover {\n",
              "    background-color: var(--disabled-bg-color);\n",
              "    fill: var(--disabled-fill-color);\n",
              "    box-shadow: none;\n",
              "  }\n",
              "\n",
              "  .colab-df-spinner {\n",
              "    border: 2px solid var(--fill-color);\n",
              "    border-color: transparent;\n",
              "    border-bottom-color: var(--fill-color);\n",
              "    animation:\n",
              "      spin 1s steps(1) infinite;\n",
              "  }\n",
              "\n",
              "  @keyframes spin {\n",
              "    0% {\n",
              "      border-color: transparent;\n",
              "      border-bottom-color: var(--fill-color);\n",
              "      border-left-color: var(--fill-color);\n",
              "    }\n",
              "    20% {\n",
              "      border-color: transparent;\n",
              "      border-left-color: var(--fill-color);\n",
              "      border-top-color: var(--fill-color);\n",
              "    }\n",
              "    30% {\n",
              "      border-color: transparent;\n",
              "      border-left-color: var(--fill-color);\n",
              "      border-top-color: var(--fill-color);\n",
              "      border-right-color: var(--fill-color);\n",
              "    }\n",
              "    40% {\n",
              "      border-color: transparent;\n",
              "      border-right-color: var(--fill-color);\n",
              "      border-top-color: var(--fill-color);\n",
              "    }\n",
              "    60% {\n",
              "      border-color: transparent;\n",
              "      border-right-color: var(--fill-color);\n",
              "    }\n",
              "    80% {\n",
              "      border-color: transparent;\n",
              "      border-right-color: var(--fill-color);\n",
              "      border-bottom-color: var(--fill-color);\n",
              "    }\n",
              "    90% {\n",
              "      border-color: transparent;\n",
              "      border-bottom-color: var(--fill-color);\n",
              "    }\n",
              "  }\n",
              "</style>\n",
              "\n",
              "  <script>\n",
              "    async function quickchart(key) {\n",
              "      const quickchartButtonEl =\n",
              "        document.querySelector('#' + key + ' button');\n",
              "      quickchartButtonEl.disabled = true;  // To prevent multiple clicks.\n",
              "      quickchartButtonEl.classList.add('colab-df-spinner');\n",
              "      try {\n",
              "        const charts = await google.colab.kernel.invokeFunction(\n",
              "            'suggestCharts', [key], {});\n",
              "      } catch (error) {\n",
              "        console.error('Error during call to suggestCharts:', error);\n",
              "      }\n",
              "      quickchartButtonEl.classList.remove('colab-df-spinner');\n",
              "      quickchartButtonEl.classList.add('colab-df-quickchart-complete');\n",
              "    }\n",
              "    (() => {\n",
              "      let quickchartButtonEl =\n",
              "        document.querySelector('#df-3bf08079-79a4-48e0-b342-a85664bbe740 button');\n",
              "      quickchartButtonEl.style.display =\n",
              "        google.colab.kernel.accessAllowed ? 'block' : 'none';\n",
              "    })();\n",
              "  </script>\n",
              "</div>\n",
              "    </div>\n",
              "  </div>\n"
            ]
          },
          "metadata": {},
          "execution_count": 43
        }
      ]
    },
    {
      "cell_type": "code",
      "source": [
        "Counter(irisData.target)"
      ],
      "metadata": {
        "colab": {
          "base_uri": "https://localhost:8080/"
        },
        "id": "2AX8erbDredP",
        "outputId": "daf443fe-14ab-43a0-8eaf-2b6faea5c37e"
      },
      "execution_count": 44,
      "outputs": [
        {
          "output_type": "execute_result",
          "data": {
            "text/plain": [
              "Counter({0: 50, 1: 50, 2: 50})"
            ]
          },
          "metadata": {},
          "execution_count": 44
        }
      ]
    },
    {
      "cell_type": "code",
      "source": [
        "irisData.data.shape"
      ],
      "metadata": {
        "colab": {
          "base_uri": "https://localhost:8080/"
        },
        "id": "yTUkuYuLryN5",
        "outputId": "0a9e1e54-de6f-4871-b60a-7044d01e2f24"
      },
      "execution_count": 45,
      "outputs": [
        {
          "output_type": "execute_result",
          "data": {
            "text/plain": [
              "(150, 4)"
            ]
          },
          "metadata": {},
          "execution_count": 45
        }
      ]
    },
    {
      "cell_type": "code",
      "source": [
        "def plot_2D(data=irisData.data, target=irisData.target, target_names=irisData.target_names):\n",
        "    colors = cycle('rgbcmykw')\n",
        "    target_ids = range(len(target_names))\n",
        "    pl.figure()\n",
        "    for i, c, label in zip(target_ids, colors, target_names):\n",
        "        pl.scatter(data[target == i, 2], data[target == i, 3], c=c, label=label)\n",
        "\n",
        "    pl.plot([2.5, 2.5], [0, 3])\n",
        "    pl.plot([0.75, 7], [0.75, 0.75])\n",
        "    pl.legend()\n",
        "\n",
        "    # Set labels for x and y axes\n",
        "    pl.xlabel('Petal Length')\n",
        "    pl.ylabel('Petal Width')\n",
        "\n",
        "    pl.show()"
      ],
      "metadata": {
        "id": "h2F1GpfnqQYI"
      },
      "execution_count": 46,
      "outputs": []
    },
    {
      "cell_type": "code",
      "source": [
        "plot_2D()"
      ],
      "metadata": {
        "colab": {
          "base_uri": "https://localhost:8080/",
          "height": 449
        },
        "id": "Ig7Ezr5gqsdU",
        "outputId": "6d7dcf3b-ed29-4e08-c7d7-b32fd19de0ae"
      },
      "execution_count": 47,
      "outputs": [
        {
          "output_type": "display_data",
          "data": {
            "text/plain": [
              "<Figure size 640x480 with 1 Axes>"
            ],
            "image/png": "[encoded data removed]"
          },
          "metadata": {}
        }
      ]
    },
    {
      "cell_type": "markdown",
      "source": [
        "# **Naive bayes**"
      ],
      "metadata": {
        "id": "WVAcDFQszIgo"
      }
    },
    {
      "cell_type": "code",
      "source": [
        "nb = naive_bayes.MultinomialNB(fit_prior=True)# un algo d'apprentissage\n",
        "nb.fit(irisData.data[:], irisData.target[:])"
      ],
      "metadata": {
        "colab": {
          "base_uri": "https://localhost:8080/",
          "height": 74
        },
        "id": "45QwMqsiutyC",
        "outputId": "5721079a-0097-45fe-b30c-bdfd711f3ac2"
      },
      "execution_count": 48,
      "outputs": [
        {
          "output_type": "execute_result",
          "data": {
            "text/plain": [
              "MultinomialNB()"
            ],
            "text/html": [
              "<style>#sk-container-id-2 {color: black;background-color: white;}#sk-container-id-2 pre{padding: 0;}#sk-container-id-2 div.sk-toggleable {background-color: white;}#sk-container-id-2 label.sk-toggleable__label {cursor: pointer;display: block;width: 100%;margin-bottom: 0;padding: 0.3em;box-sizing: border-box;text-align: center;}#sk-container-id-2 label.sk-toggleable__label-arrow:before {content: \"▸\";float: left;margin-right: 0.25em;color: #696969;}#sk-container-id-2 label.sk-toggleable__label-arrow:hover:before {color: black;}#sk-container-id-2 div.sk-estimator:hover label.sk-toggleable__label-arrow:before {color: black;}#sk-container-id-2 div.sk-toggleable__content {max-height: 0;max-width: 0;overflow: hidden;text-align: left;background-color: #f0f8ff;}#sk-container-id-2 div.sk-toggleable__content pre {margin: 0.2em;color: black;border-radius: 0.25em;background-color: #f0f8ff;}#sk-container-id-2 input.sk-toggleable__control:checked~div.sk-toggleable__content {max-height: 200px;max-width: 100%;overflow: auto;}#sk-container-id-2 input.sk-toggleable__control:checked~label.sk-toggleable__label-arrow:before {content: \"▾\";}#sk-container-id-2 div.sk-estimator input.sk-toggleable__control:checked~label.sk-toggleable__label {background-color: #d4ebff;}#sk-container-id-2 div.sk-label input.sk-toggleable__control:checked~label.sk-toggleable__label {background-color: #d4ebff;}#sk-container-id-2 input.sk-hidden--visually {border: 0;clip: rect(1px 1px 1px 1px);clip: rect(1px, 1px, 1px, 1px);height: 1px;margin: -1px;overflow: hidden;padding: 0;position: absolute;width: 1px;}#sk-container-id-2 div.sk-estimator {font-family: monospace;background-color: #f0f8ff;border: 1px dotted black;border-radius: 0.25em;box-sizing: border-box;margin-bottom: 0.5em;}#sk-container-id-2 div.sk-estimator:hover {background-color: #d4ebff;}#sk-container-id-2 div.sk-parallel-item::after {content: \"\";width: 100%;border-bottom: 1px solid gray;flex-grow: 1;}#sk-container-id-2 div.sk-label:hover label.sk-toggleable__label {background-color: #d4ebff;}#sk-container-id-2 div.sk-serial::before {content: \"\";position: absolute;border-left: 1px solid gray;box-sizing: border-box;top: 0;bottom: 0;left: 50%;z-index: 0;}#sk-container-id-2 div.sk-serial {display: flex;flex-direction: column;align-items: center;background-color: white;padding-right: 0.2em;padding-left: 0.2em;position: relative;}#sk-container-id-2 div.sk-item {position: relative;z-index: 1;}#sk-container-id-2 div.sk-parallel {display: flex;align-items: stretch;justify-content: center;background-color: white;position: relative;}#sk-container-id-2 div.sk-item::before, #sk-container-id-2 div.sk-parallel-item::before {content: \"\";position: absolute;border-left: 1px solid gray;box-sizing: border-box;top: 0;bottom: 0;left: 50%;z-index: -1;}#sk-container-id-2 div.sk-parallel-item {display: flex;flex-direction: column;z-index: 1;position: relative;background-color: white;}#sk-container-id-2 div.sk-parallel-item:first-child::after {align-self: flex-end;width: 50%;}#sk-container-id-2 div.sk-parallel-item:last-child::after {align-self: flex-start;width: 50%;}#sk-container-id-2 div.sk-parallel-item:only-child::after {width: 0;}#sk-container-id-2 div.sk-dashed-wrapped {border: 1px dashed gray;margin: 0 0.4em 0.5em 0.4em;box-sizing: border-box;padding-bottom: 0.4em;background-color: white;}#sk-container-id-2 div.sk-label label {font-family: monospace;font-weight: bold;display: inline-block;line-height: 1.2em;}#sk-container-id-2 div.sk-label-container {text-align: center;}#sk-container-id-2 div.sk-container {/* jupyter's `normalize.less` sets `[hidden] { display: none; }` but bootstrap.min.css set `[hidden] { display: none !important; }` so we also need the `!important` here to be able to override the default hidden behavior on the sphinx rendered scikit-learn.org. See: https://github.com/scikit-learn/scikit-learn/issues/21755 */display: inline-block !important;position: relative;}#sk-container-id-2 div.sk-text-repr-fallback {display: none;}</style><div id=\"sk-container-id-2\" class=\"sk-top-container\"><div class=\"sk-text-repr-fallback\"><pre>MultinomialNB()</pre><b>In a Jupyter environment, please rerun this cell to show the HTML representation or trust the notebook. <br />On GitHub, the HTML representation is unable to render, please try loading this page with nbviewer.org.</b></div><div class=\"sk-container\" hidden><div class=\"sk-item\"><div class=\"sk-estimator sk-toggleable\"><input class=\"sk-toggleable__control sk-hidden--visually\" id=\"sk-estimator-id-2\" type=\"checkbox\" checked><label for=\"sk-estimator-id-2\" class=\"sk-toggleable__label sk-toggleable__label-arrow\">MultinomialNB</label><div class=\"sk-toggleable__content\"><pre>MultinomialNB()</pre></div></div></div></div></div>"
            ]
          },
          "metadata": {},
          "execution_count": 48
        }
      ]
    },
    {
      "cell_type": "code",
      "source": [
        "p31 = nb.predict(irisData.data[[31]])\n",
        "print (p31)\n",
        "plast = nb.predict(irisData.data[[-1]])\n",
        "print (plast)\n",
        "p = nb.predict(irisData.data[:])\n",
        "print (p)"
      ],
      "metadata": {
        "colab": {
          "base_uri": "https://localhost:8080/"
        },
        "id": "5BoJ9rdBzbgI",
        "outputId": "862f9aae-b822-4dc8-dfe2-0459cb1f22ca"
      },
      "execution_count": 49,
      "outputs": [
        {
          "output_type": "stream",
          "name": "stdout",
          "text": [
            "[0]\n",
            "[2]\n",
            "[0 0 0 0 0 0 0 0 0 0 0 0 0 0 0 0 0 0 0 0 0 0 0 0 0 0 0 0 0 0 0 0 0 0 0 0 0\n",
            " 0 0 0 0 0 0 0 0 0 0 0 0 0 1 1 1 1 1 1 1 1 1 1 1 1 1 1 1 1 1 1 2 1 2 1 2 1\n",
            " 1 1 1 1 1 1 1 1 1 2 1 1 1 1 1 1 1 1 1 1 1 1 1 1 1 1 2 2 2 2 2 2 2 2 2 2 2\n",
            " 2 2 2 2 2 2 2 2 2 2 2 2 2 2 2 2 2 2 1 2 1 2 1 2 2 2 2 2 2 2 2 2 2 2 2 2 2\n",
            " 2 2]\n"
          ]
        }
      ]
    },
    {
      "cell_type": "code",
      "source": [
        "nb1 = naive_bayes.MultinomialNB(fit_prior=True)\n",
        "nb1.fit(irisData.data[:99], irisData.target[:99])\n",
        "nb1.predict(irisData.data[100:149])\n"
      ],
      "metadata": {
        "colab": {
          "base_uri": "https://localhost:8080/"
        },
        "id": "LYzXn2xRzh02",
        "outputId": "b5ea70de-f9d3-44fe-81f0-7d2df998494b"
      },
      "execution_count": 50,
      "outputs": [
        {
          "output_type": "execute_result",
          "data": {
            "text/plain": [
              "array([1, 1, 1, 1, 1, 1, 1, 1, 1, 1, 1, 1, 1, 1, 1, 1, 1, 1, 1, 1, 1, 1,\n",
              "       1, 1, 1, 1, 1, 1, 1, 1, 1, 1, 1, 1, 1, 1, 1, 1, 1, 1, 1, 1, 1, 1,\n",
              "       1, 1, 1, 1, 1])"
            ]
          },
          "metadata": {},
          "execution_count": 50
        }
      ]
    },
    {
      "cell_type": "markdown",
      "source": [
        "## ***model evaluation***"
      ],
      "metadata": {
        "id": "LrtQ0A5p4P4U"
      }
    },
    {
      "cell_type": "markdown",
      "source": [
        "#### Performances sur l'ensemble d'apprentissage"
      ],
      "metadata": {
        "id": "iDKBVvEk53Ua"
      }
    },
    {
      "cell_type": "code",
      "source": [
        "print(\"method 1\")\n",
        "ea = 0\n",
        "for i in range(len(irisData.data)):\n",
        "  if (p[i] !=irisData.target[i]):\n",
        "    ea = ea+1\n",
        "print(f'error rate: {ea/len(irisData.data)}')"
      ],
      "metadata": {
        "colab": {
          "base_uri": "https://localhost:8080/"
        },
        "id": "sIQjO5_d38sp",
        "outputId": "a229edeb-4d1d-4d94-d090-b7100b16ad97"
      },
      "execution_count": 51,
      "outputs": [
        {
          "output_type": "stream",
          "name": "stdout",
          "text": [
            "method 1\n",
            "error rate: 0.04666666666666667\n"
          ]
        }
      ]
    },
    {
      "cell_type": "code",
      "source": [
        "#Indice : pensez à exploiter le tableau P-Y : que représentent des valeurs non nulles ?\n",
        "# Comment compter (en une seule instruction) le nombre de valeurs non-nulles1\n",
        "# ?\n",
        "\n",
        "print(\"method 2\")\n",
        "print(f'number of non null values : {len(np.nonzero(p-irisData.target)[0])}')\n",
        "print(f'error rate : {len(np.nonzero(p-irisData.target)[0])/150}')"
      ],
      "metadata": {
        "colab": {
          "base_uri": "https://localhost:8080/"
        },
        "id": "0vWMlFdA6ZPZ",
        "outputId": "7e88ca2e-1d03-4e0f-b1aa-49806860e553"
      },
      "execution_count": 52,
      "outputs": [
        {
          "output_type": "stream",
          "name": "stdout",
          "text": [
            "method 2\n",
            "number of non null values : 7\n",
            "error rate : 0.04666666666666667\n"
          ]
        }
      ]
    },
    {
      "cell_type": "code",
      "source": [
        "print(\"method 3\")\n",
        "print(f'error rate : {1-nb.score(irisData.data,irisData.target)}')"
      ],
      "metadata": {
        "colab": {
          "base_uri": "https://localhost:8080/"
        },
        "id": "7tzlqgzw5TBa",
        "outputId": "3fa631b8-f4b6-49f9-8f76-95d06eadb820"
      },
      "execution_count": 53,
      "outputs": [
        {
          "output_type": "stream",
          "name": "stdout",
          "text": [
            "method 3\n",
            "error rate : 0.046666666666666634\n"
          ]
        }
      ]
    },
    {
      "cell_type": "markdown",
      "source": [
        "nous avons évalué notre modele sur le training set\n",
        "\n",
        "l'error sur le training set est de : 0.046"
      ],
      "metadata": {
        "id": "O5uYDn5j-vzM"
      }
    },
    {
      "cell_type": "markdown",
      "source": [
        "## **Performances en généralisation**"
      ],
      "metadata": {
        "id": "szjnA750_GZR"
      }
    },
    {
      "cell_type": "code",
      "source": [
        "#question 1:\n",
        "import random\n",
        "\n",
        "def split(S, random_state=None, train_split=2/3, stratify=True):\n",
        "    indexes = list(range(len(S.data)))\n",
        "\n",
        "    random.seed(random_state)\n",
        "    random.shuffle(indexes)\n",
        "\n",
        "    if stratify:\n",
        "        class_indices = {}\n",
        "        for i, label in enumerate(S.target):\n",
        "            if label not in class_indices:\n",
        "                class_indices[label] = []\n",
        "            class_indices[label].append(indexes[i])\n",
        "\n",
        "        train_size_per_class = {label: int(train_split * len(indices)) for label, indices in class_indices.items()}\n",
        "\n",
        "        train_indices = []\n",
        "        test_indices = []\n",
        "        for label in class_indices.keys():\n",
        "                train_indices.extend(class_indices[label][:train_size_per_class[label]])\n",
        "                test_indices.extend(class_indices[label][train_size_per_class[label]:])\n",
        "\n",
        "    else:\n",
        "        train_size = int(train_split * len(S.data))\n",
        "        train_indices = indexes[:train_size]\n",
        "        test_indices = indexes[train_size:]\n",
        "\n",
        "    X_train = S.data[train_indices]\n",
        "    y_train = S.target[train_indices]\n",
        "    X_test = S.data[test_indices]\n",
        "    y_test = S.target[test_indices]\n",
        "\n",
        "    return X_train, y_train, X_test, y_test\n",
        "\n"
      ],
      "metadata": {
        "id": "V2PDSqiv7_TK"
      },
      "execution_count": 86,
      "outputs": []
    },
    {
      "cell_type": "code",
      "source": [
        "X_train,y_train,X_test,y_test=split(irisData)\n",
        "\n",
        "print(f'size of X_train: {len(X_train)} with shape : {X_train.shape}')\n",
        "print(f'size of X_test : {len(X_test)} with shape : {X_test.shape}')\n",
        "print(f'size of y_train: {len(y_train)} with shape : {y_train.shape}')\n",
        "print(f'size of y_test : {len(y_test)} with shape : {y_test.shape}')\n"
      ],
      "metadata": {
        "colab": {
          "base_uri": "https://localhost:8080/"
        },
        "id": "oejn34KtAKXC",
        "outputId": "13568663-7903-4c5a-d588-46923adf4cbd"
      },
      "execution_count": 87,
      "outputs": [
        {
          "output_type": "stream",
          "name": "stdout",
          "text": [
            "size of X_train: 99 with shape : (99, 4)\n",
            "size of X_test : 51 with shape : (51, 4)\n",
            "size of y_train: 99 with shape : (99,)\n",
            "size of y_test : 51 with shape : (51,)\n"
          ]
        }
      ]
    },
    {
      "cell_type": "code",
      "source": [
        "#question 2\n",
        "def test(S,clf,train_split=2/3):\n",
        "  X_train,y_train,X_test,y_test=split(S,train_split=train_split)\n",
        "  clf.fit(X_train,y_train)\n",
        "\n",
        "  predictions=clf.predict(X_test)\n",
        "  error = len(np.nonzero(predictions-y_test)[0])/len(y_test)\n",
        "\n",
        "  return error"
      ],
      "metadata": {
        "id": "j6V6pRu_BgA1"
      },
      "execution_count": 88,
      "outputs": []
    },
    {
      "cell_type": "code",
      "source": [
        "clf = naive_bayes.MultinomialNB(fit_prior=True)\n",
        "error_rate = test(irisData, clf)\n",
        "\n",
        "print(\"Taux d'erreur estimé avec Naive Bayes en utilisant split:\", error_rate)"
      ],
      "metadata": {
        "colab": {
          "base_uri": "https://localhost:8080/"
        },
        "id": "R6wAZPtPBjAU",
        "outputId": "17bfff47-46ac-4c2f-c625-81501e013eb3"
      },
      "execution_count": 89,
      "outputs": [
        {
          "output_type": "stream",
          "name": "stdout",
          "text": [
            "Taux d'erreur estimé avec Naive Bayes en utilisant split: 0.43137254901960786\n"
          ]
        }
      ]
    },
    {
      "cell_type": "code",
      "source": [
        "#question 3\n",
        "def test_t(S, clf, t,train_split=2/3):\n",
        "    error_rates = []\n",
        "    for _ in range(t):\n",
        "        error_rate = test(S, clf,train_split=train_split)\n",
        "        error_rates.append(error_rate)\n",
        "    mean_error = np.mean(error_rates)\n",
        "    return mean_error, error_rates"
      ],
      "metadata": {
        "id": "85ZhOvMrJhb3"
      },
      "execution_count": 90,
      "outputs": []
    },
    {
      "cell_type": "code",
      "source": [
        "ts = [10, 50, 100, 200, 500, 1000]\n",
        "repetitions = 20\n",
        "result_table2 = PrettyTable(['t', 'Mean Error'])\n",
        "\n",
        "for t in ts:\n",
        "    clf =  naive_bayes.MultinomialNB(fit_prior=True)\n",
        "    mean_errors = []\n",
        "    for _ in range(repetitions):\n",
        "        mean_error, _ = test_t(irisData, clf, t)\n",
        "        mean_errors.append(mean_error)\n",
        "    error_rate = np.mean(mean_errors)\n",
        "    result_table2.add_row([t, f\"{error_rate:.4f}\"])\n",
        "\n",
        "    print(f\"Taux d'erreur moyen pour t={t}: {error_rate}\")\n"
      ],
      "metadata": {
        "colab": {
          "base_uri": "https://localhost:8080/"
        },
        "id": "F03CYWJUPSts",
        "outputId": "8834b157-b4ec-48bc-c026-93a337bbd12b"
      },
      "execution_count": 91,
      "outputs": [
        {
          "output_type": "stream",
          "name": "stdout",
          "text": [
            "Taux d'erreur moyen pour t=10: 0.19980392156862745\n",
            "Taux d'erreur moyen pour t=50: 0.20050980392156864\n",
            "Taux d'erreur moyen pour t=100: 0.20642156862745095\n",
            "Taux d'erreur moyen pour t=200: 0.2072941176470588\n",
            "Taux d'erreur moyen pour t=500: 0.20311960784313726\n",
            "Taux d'erreur moyen pour t=1000: 0.2048117647058824\n"
          ]
        }
      ]
    },
    {
      "cell_type": "code",
      "source": [
        "print(result_table2)"
      ],
      "metadata": {
        "colab": {
          "base_uri": "https://localhost:8080/"
        },
        "id": "t8bQQza9ZZFb",
        "outputId": "9a1c16e3-8a95-4556-cfc1-88040e844ca4"
      },
      "execution_count": 92,
      "outputs": [
        {
          "output_type": "stream",
          "name": "stdout",
          "text": [
            "+------+------------+\n",
            "|  t   | Mean Error |\n",
            "+------+------------+\n",
            "|  10  |   0.1998   |\n",
            "|  50  |   0.2005   |\n",
            "| 100  |   0.2064   |\n",
            "| 200  |   0.2073   |\n",
            "| 500  |   0.2031   |\n",
            "| 1000 |   0.2048   |\n",
            "+------+------------+\n"
          ]
        }
      ]
    },
    {
      "cell_type": "markdown",
      "source": [
        "plus t augmente , plus l'erreur est stable ce qui nous renseigne sur l'erreur dans le cas general"
      ],
      "metadata": {
        "id": "fiokFi1GP5ln"
      }
    },
    {
      "cell_type": "code",
      "source": [
        "#question 4\n",
        "ts = [10, 50, 100, 200, 500, 1000]\n",
        "repetitions = 20\n",
        "result_table1 = PrettyTable(['t', 'Mean Error'])\n",
        "\n",
        "for t in ts:\n",
        "    clf =  naive_bayes.MultinomialNB(fit_prior=True)\n",
        "    mean_errors = []\n",
        "    for _ in range(repetitions):\n",
        "        mean_error, _ = test_t(irisData, clf, t,train_split=0.9)\n",
        "        mean_errors.append(mean_error)\n",
        "    error_rate = np.mean(mean_errors)\n",
        "    result_table1.add_row([t, f\"{error_rate:.4f}\"])\n",
        "    print(f\"Taux d'erreur moyen pour t={t}: {error_rate}\")\n",
        "print(result_table1)"
      ],
      "metadata": {
        "colab": {
          "base_uri": "https://localhost:8080/"
        },
        "id": "6WUjp9OSPSwC",
        "outputId": "01162c80-dd70-452b-d15b-10a046e7d124"
      },
      "execution_count": 93,
      "outputs": [
        {
          "output_type": "stream",
          "name": "stdout",
          "text": [
            "Taux d'erreur moyen pour t=10: 0.12533333333333332\n",
            "Taux d'erreur moyen pour t=50: 0.11833333333333333\n",
            "Taux d'erreur moyen pour t=100: 0.12193333333333337\n",
            "Taux d'erreur moyen pour t=200: 0.12011666666666668\n",
            "Taux d'erreur moyen pour t=500: 0.12313333333333334\n",
            "Taux d'erreur moyen pour t=1000: 0.12332999999999998\n",
            "+------+------------+\n",
            "|  t   | Mean Error |\n",
            "+------+------------+\n",
            "|  10  |   0.1253   |\n",
            "|  50  |   0.1183   |\n",
            "| 100  |   0.1219   |\n",
            "| 200  |   0.1201   |\n",
            "| 500  |   0.1231   |\n",
            "| 1000 |   0.1233   |\n",
            "+------+------------+\n"
          ]
        }
      ]
    },
    {
      "cell_type": "markdown",
      "source": [
        "on remarque que le taux d'error si on teste sur le 1/10 de l'echantillon diminue"
      ],
      "metadata": {
        "id": "iEiAaF1NRgiX"
      }
    },
    {
      "cell_type": "code",
      "source": [
        "#question 5\n",
        "from sklearn.metrics import accuracy_score\n",
        "\n",
        "test_sizes = [0.1,0.2, 0.25,0.3, 0.33, 0.4, 0.7]\n",
        "result_table = PrettyTable(['Test Size', 'Error Rate'])\n",
        "error_rates = []\n",
        "for test_size in test_sizes:\n",
        "    clf =  naive_bayes.MultinomialNB(fit_prior=True)\n",
        "    # Split the data into training and testing sets\n",
        "    X_train, X_test, y_train, y_test = train_test_split(\n",
        "        irisData.data, irisData.target, test_size=test_size,stratify=irisData.target\n",
        "    )\n",
        "    clf.fit(X_train, y_train)\n",
        "    predictions = clf.predict(X_test)\n",
        "    error_rate = 1 - accuracy_score(y_test, predictions)\n",
        "    error_rates.append(error_rate)\n",
        "    result_table.add_row([test_size, f\"{error_rate:.4f}\"])\n",
        "    print(f\"Test Size: {test_size}, error rate: {error_rate}\")\n",
        "print(result_table)"
      ],
      "metadata": {
        "colab": {
          "base_uri": "https://localhost:8080/"
        },
        "id": "6FBsxDpOPSxy",
        "outputId": "301291bb-c0da-42ae-8223-723eeccd937d"
      },
      "execution_count": 94,
      "outputs": [
        {
          "output_type": "stream",
          "name": "stdout",
          "text": [
            "Test Size: 0.1, error rate: 0.1333333333333333\n",
            "Test Size: 0.2, error rate: 0.033333333333333326\n",
            "Test Size: 0.25, error rate: 0.07894736842105265\n",
            "Test Size: 0.3, error rate: 0.0888888888888889\n",
            "Test Size: 0.33, error rate: 0.020000000000000018\n",
            "Test Size: 0.4, error rate: 0.06666666666666665\n",
            "Test Size: 0.7, error rate: 0.03809523809523807\n",
            "+-----------+------------+\n",
            "| Test Size | Error Rate |\n",
            "+-----------+------------+\n",
            "|    0.1    |   0.1333   |\n",
            "|    0.2    |   0.0333   |\n",
            "|    0.25   |   0.0789   |\n",
            "|    0.3    |   0.0889   |\n",
            "|    0.33   |   0.0200   |\n",
            "|    0.4    |   0.0667   |\n",
            "|    0.7    |   0.0381   |\n",
            "+-----------+------------+\n"
          ]
        }
      ]
    },
    {
      "cell_type": "code",
      "source": [
        "import matplotlib.pyplot as plt\n",
        "\n",
        "plt.plot(test_sizes, error_rates, marker='o')\n",
        "plt.title('Error Rate vs. Test Size')\n",
        "plt.xlabel('Test Size')\n",
        "plt.ylabel('Error Rate')\n",
        "plt.show()"
      ],
      "metadata": {
        "colab": {
          "base_uri": "https://localhost:8080/",
          "height": 472
        },
        "id": "mHzj-EdU3pyc",
        "outputId": "1c225661-9a79-4ef4-e63f-975cbdf2c9f2"
      },
      "execution_count": 95,
      "outputs": [
        {
          "output_type": "display_data",
          "data": {
            "text/plain": [
              "<Figure size 640x480 with 1 Axes>"
            ],
            "image/png": "[encoded data removed]"
          },
          "metadata": {}
        }
      ]
    },
    {
      "cell_type": "markdown",
      "source": [
        "## **Cross Validation**"
      ],
      "metadata": {
        "id": "wW_0OFllTSKs"
      }
    },
    {
      "cell_type": "code",
      "source": [
        "clf =  naive_bayes.MultinomialNB(fit_prior=True)\n",
        "num_folds = [2, 3, 5, 8, 10]\n",
        "summary_table = PrettyTable(['Folds', 'Mean Error Rate'])\n",
        "error_rates=[]\n",
        "for folds in num_folds:\n",
        "    scores = cross_val_score(clf, irisData.data, irisData.target, cv=folds)\n",
        "    mean_error_rate = 1 - scores.mean()\n",
        "    error_rates.append(mean_error_rate)\n",
        "    summary_table.add_row([folds, f\"{mean_error_rate:.4f}\"])\n",
        "print(summary_table)\n"
      ],
      "metadata": {
        "colab": {
          "base_uri": "https://localhost:8080/"
        },
        "id": "NgujvIJMS-S3",
        "outputId": "191d778b-db4a-4e5f-bfa1-6fe64ddead9a"
      },
      "execution_count": 96,
      "outputs": [
        {
          "output_type": "stream",
          "name": "stdout",
          "text": [
            "+-------+-----------------+\n",
            "| Folds | Mean Error Rate |\n",
            "+-------+-----------------+\n",
            "|   2   |      0.0467     |\n",
            "|   3   |      0.0533     |\n",
            "|   5   |      0.0467     |\n",
            "|   8   |      0.0526     |\n",
            "|   10  |      0.0467     |\n",
            "+-------+-----------------+\n"
          ]
        }
      ]
    },
    {
      "cell_type": "code",
      "source": [
        "import matplotlib.pyplot as plt\n",
        "\n",
        "plt.plot(num_folds, error_rates, marker='o')\n",
        "plt.title('Error Rate vs. Number of Folds')\n",
        "plt.xlabel('Number of Folds')\n",
        "plt.ylabel('Mean Error Rate')\n",
        "plt.show()"
      ],
      "metadata": {
        "colab": {
          "base_uri": "https://localhost:8080/",
          "height": 472
        },
        "id": "QiFH8h8m0I22",
        "outputId": "34ab2356-c926-43b0-ccc8-7a52c0f983ac"
      },
      "execution_count": 97,
      "outputs": [
        {
          "output_type": "display_data",
          "data": {
            "text/plain": [
              "<Figure size 640x480 with 1 Axes>"
            ],
            "image/png": "[encoded data removed]"
          },
          "metadata": {}
        }
      ]
    },
    {
      "cell_type": "code",
      "source": [
        "pretty_tables=[summary_table,result_table,result_table1,result_table2]\n",
        "titles=[\"cross validation\",\"using train_test_split predefined method\",\"test_split=0.1 with repetition\",\"test_split=1/3 with repetition\"]\n",
        "for title,table in zip(titles,pretty_tables):\n",
        "  print('---',title,'---')\n",
        "  print(table)"
      ],
      "metadata": {
        "colab": {
          "base_uri": "https://localhost:8080/"
        },
        "id": "yayOnqeDULbB",
        "outputId": "c0326060-7ffa-49cd-ecd7-f46f2a9755c7"
      },
      "execution_count": 98,
      "outputs": [
        {
          "output_type": "stream",
          "name": "stdout",
          "text": [
            "--- cross validation ---\n",
            "+-------+-----------------+\n",
            "| Folds | Mean Error Rate |\n",
            "+-------+-----------------+\n",
            "|   2   |      0.0467     |\n",
            "|   3   |      0.0533     |\n",
            "|   5   |      0.0467     |\n",
            "|   8   |      0.0526     |\n",
            "|   10  |      0.0467     |\n",
            "+-------+-----------------+\n",
            "--- using train_test_split predefined method ---\n",
            "+-----------+------------+\n",
            "| Test Size | Error Rate |\n",
            "+-----------+------------+\n",
            "|    0.1    |   0.1333   |\n",
            "|    0.2    |   0.0333   |\n",
            "|    0.25   |   0.0789   |\n",
            "|    0.3    |   0.0889   |\n",
            "|    0.33   |   0.0200   |\n",
            "|    0.4    |   0.0667   |\n",
            "|    0.7    |   0.0381   |\n",
            "+-----------+------------+\n",
            "--- test_split=0.1 with repetition ---\n",
            "+------+------------+\n",
            "|  t   | Mean Error |\n",
            "+------+------------+\n",
            "|  10  |   0.1253   |\n",
            "|  50  |   0.1183   |\n",
            "| 100  |   0.1219   |\n",
            "| 200  |   0.1201   |\n",
            "| 500  |   0.1231   |\n",
            "| 1000 |   0.1233   |\n",
            "+------+------------+\n",
            "--- test_split=1/3 with repetition ---\n",
            "+------+------------+\n",
            "|  t   | Mean Error |\n",
            "+------+------------+\n",
            "|  10  |   0.1998   |\n",
            "|  50  |   0.2005   |\n",
            "| 100  |   0.2064   |\n",
            "| 200  |   0.2073   |\n",
            "| 500  |   0.2031   |\n",
            "| 1000 |   0.2048   |\n",
            "+------+------------+\n"
          ]
        }
      ]
    },
    {
      "cell_type": "markdown",
      "source": [
        "#**Decision Tree**"
      ],
      "metadata": {
        "id": "u5t1PAM26Io8"
      }
    },
    {
      "cell_type": "code",
      "source": [
        "model = DecisionTreeClassifier()# un algo d'apprentissage\n",
        "model.fit(irisData.data[:], irisData.target[:])"
      ],
      "metadata": {
        "id": "wFzdU5AoZw1F",
        "colab": {
          "base_uri": "https://localhost:8080/",
          "height": 74
        },
        "outputId": "33a796c7-2dcb-46b6-fd04-1728710fa804"
      },
      "execution_count": 99,
      "outputs": [
        {
          "output_type": "execute_result",
          "data": {
            "text/plain": [
              "DecisionTreeClassifier()"
            ],
            "text/html": [
              "<style>#sk-container-id-4 {color: black;background-color: white;}#sk-container-id-4 pre{padding: 0;}#sk-container-id-4 div.sk-toggleable {background-color: white;}#sk-container-id-4 label.sk-toggleable__label {cursor: pointer;display: block;width: 100%;margin-bottom: 0;padding: 0.3em;box-sizing: border-box;text-align: center;}#sk-container-id-4 label.sk-toggleable__label-arrow:before {content: \"▸\";float: left;margin-right: 0.25em;color: #696969;}#sk-container-id-4 label.sk-toggleable__label-arrow:hover:before {color: black;}#sk-container-id-4 div.sk-estimator:hover label.sk-toggleable__label-arrow:before {color: black;}#sk-container-id-4 div.sk-toggleable__content {max-height: 0;max-width: 0;overflow: hidden;text-align: left;background-color: #f0f8ff;}#sk-container-id-4 div.sk-toggleable__content pre {margin: 0.2em;color: black;border-radius: 0.25em;background-color: #f0f8ff;}#sk-container-id-4 input.sk-toggleable__control:checked~div.sk-toggleable__content {max-height: 200px;max-width: 100%;overflow: auto;}#sk-container-id-4 input.sk-toggleable__control:checked~label.sk-toggleable__label-arrow:before {content: \"▾\";}#sk-container-id-4 div.sk-estimator input.sk-toggleable__control:checked~label.sk-toggleable__label {background-color: #d4ebff;}#sk-container-id-4 div.sk-label input.sk-toggleable__control:checked~label.sk-toggleable__label {background-color: #d4ebff;}#sk-container-id-4 input.sk-hidden--visually {border: 0;clip: rect(1px 1px 1px 1px);clip: rect(1px, 1px, 1px, 1px);height: 1px;margin: -1px;overflow: hidden;padding: 0;position: absolute;width: 1px;}#sk-container-id-4 div.sk-estimator {font-family: monospace;background-color: #f0f8ff;border: 1px dotted black;border-radius: 0.25em;box-sizing: border-box;margin-bottom: 0.5em;}#sk-container-id-4 div.sk-estimator:hover {background-color: #d4ebff;}#sk-container-id-4 div.sk-parallel-item::after {content: \"\";width: 100%;border-bottom: 1px solid gray;flex-grow: 1;}#sk-container-id-4 div.sk-label:hover label.sk-toggleable__label {background-color: #d4ebff;}#sk-container-id-4 div.sk-serial::before {content: \"\";position: absolute;border-left: 1px solid gray;box-sizing: border-box;top: 0;bottom: 0;left: 50%;z-index: 0;}#sk-container-id-4 div.sk-serial {display: flex;flex-direction: column;align-items: center;background-color: white;padding-right: 0.2em;padding-left: 0.2em;position: relative;}#sk-container-id-4 div.sk-item {position: relative;z-index: 1;}#sk-container-id-4 div.sk-parallel {display: flex;align-items: stretch;justify-content: center;background-color: white;position: relative;}#sk-container-id-4 div.sk-item::before, #sk-container-id-4 div.sk-parallel-item::before {content: \"\";position: absolute;border-left: 1px solid gray;box-sizing: border-box;top: 0;bottom: 0;left: 50%;z-index: -1;}#sk-container-id-4 div.sk-parallel-item {display: flex;flex-direction: column;z-index: 1;position: relative;background-color: white;}#sk-container-id-4 div.sk-parallel-item:first-child::after {align-self: flex-end;width: 50%;}#sk-container-id-4 div.sk-parallel-item:last-child::after {align-self: flex-start;width: 50%;}#sk-container-id-4 div.sk-parallel-item:only-child::after {width: 0;}#sk-container-id-4 div.sk-dashed-wrapped {border: 1px dashed gray;margin: 0 0.4em 0.5em 0.4em;box-sizing: border-box;padding-bottom: 0.4em;background-color: white;}#sk-container-id-4 div.sk-label label {font-family: monospace;font-weight: bold;display: inline-block;line-height: 1.2em;}#sk-container-id-4 div.sk-label-container {text-align: center;}#sk-container-id-4 div.sk-container {/* jupyter's `normalize.less` sets `[hidden] { display: none; }` but bootstrap.min.css set `[hidden] { display: none !important; }` so we also need the `!important` here to be able to override the default hidden behavior on the sphinx rendered scikit-learn.org. See: https://github.com/scikit-learn/scikit-learn/issues/21755 */display: inline-block !important;position: relative;}#sk-container-id-4 div.sk-text-repr-fallback {display: none;}</style><div id=\"sk-container-id-4\" class=\"sk-top-container\"><div class=\"sk-text-repr-fallback\"><pre>DecisionTreeClassifier()</pre><b>In a Jupyter environment, please rerun this cell to show the HTML representation or trust the notebook. <br />On GitHub, the HTML representation is unable to render, please try loading this page with nbviewer.org.</b></div><div class=\"sk-container\" hidden><div class=\"sk-item\"><div class=\"sk-estimator sk-toggleable\"><input class=\"sk-toggleable__control sk-hidden--visually\" id=\"sk-estimator-id-4\" type=\"checkbox\" checked><label for=\"sk-estimator-id-4\" class=\"sk-toggleable__label sk-toggleable__label-arrow\">DecisionTreeClassifier</label><div class=\"sk-toggleable__content\"><pre>DecisionTreeClassifier()</pre></div></div></div></div></div>"
            ]
          },
          "metadata": {},
          "execution_count": 99
        }
      ]
    },
    {
      "cell_type": "code",
      "source": [
        "p31 = model.predict(irisData.data[[31]])\n",
        "print (p31)\n",
        "plast = model.predict(irisData.data[[-1]])\n",
        "print (plast)\n",
        "p = model.predict(irisData.data[:])\n",
        "print (p)"
      ],
      "metadata": {
        "id": "eFD5zDLG6ySF",
        "outputId": "94761b12-b9ec-4283-ebce-1dff28bef78f",
        "colab": {
          "base_uri": "https://localhost:8080/"
        }
      },
      "execution_count": 100,
      "outputs": [
        {
          "output_type": "stream",
          "name": "stdout",
          "text": [
            "[0]\n",
            "[2]\n",
            "[0 0 0 0 0 0 0 0 0 0 0 0 0 0 0 0 0 0 0 0 0 0 0 0 0 0 0 0 0 0 0 0 0 0 0 0 0\n",
            " 0 0 0 0 0 0 0 0 0 0 0 0 0 1 1 1 1 1 1 1 1 1 1 1 1 1 1 1 1 1 1 1 1 1 1 1 1\n",
            " 1 1 1 1 1 1 1 1 1 1 1 1 1 1 1 1 1 1 1 1 1 1 1 1 1 1 2 2 2 2 2 2 2 2 2 2 2\n",
            " 2 2 2 2 2 2 2 2 2 2 2 2 2 2 2 2 2 2 2 2 2 2 2 2 2 2 2 2 2 2 2 2 2 2 2 2 2\n",
            " 2 2]\n"
          ]
        }
      ]
    },
    {
      "cell_type": "code",
      "source": [
        "model1 = DecisionTreeClassifier()\n",
        "model1.fit(irisData.data[:99], irisData.target[:99])\n",
        "model1.predict(irisData.data[100:149])"
      ],
      "metadata": {
        "id": "C9RrdCtL7G0g",
        "outputId": "71d453bf-9607-4d7c-9a19-ee201fb6dc49",
        "colab": {
          "base_uri": "https://localhost:8080/"
        }
      },
      "execution_count": 101,
      "outputs": [
        {
          "output_type": "execute_result",
          "data": {
            "text/plain": [
              "array([1, 1, 1, 1, 1, 1, 1, 1, 1, 1, 1, 1, 1, 1, 1, 1, 1, 1, 1, 1, 1, 1,\n",
              "       1, 1, 1, 1, 1, 1, 1, 1, 1, 1, 1, 1, 1, 1, 1, 1, 1, 1, 1, 1, 1, 1,\n",
              "       1, 1, 1, 1, 1])"
            ]
          },
          "metadata": {},
          "execution_count": 101
        }
      ]
    },
    {
      "cell_type": "markdown",
      "source": [
        "### **model evaluation**"
      ],
      "metadata": {
        "id": "0eYRWctS7YjY"
      }
    },
    {
      "cell_type": "code",
      "source": [
        "print(\"method 1\")\n",
        "ea = 0\n",
        "for i in range(len(irisData.data)):\n",
        "  if (p[i] !=irisData.target[i]):\n",
        "    ea = ea+1\n",
        "print(f'error rate: {ea/len(irisData.data)}')"
      ],
      "metadata": {
        "id": "Wd8zux6T7R54",
        "outputId": "2db3ae97-f34b-40f1-f8b1-f2bccb877ba9",
        "colab": {
          "base_uri": "https://localhost:8080/"
        }
      },
      "execution_count": 102,
      "outputs": [
        {
          "output_type": "stream",
          "name": "stdout",
          "text": [
            "method 1\n",
            "error rate: 0.0\n"
          ]
        }
      ]
    },
    {
      "cell_type": "code",
      "source": [
        "\n",
        "#Indice : pensez à exploiter le tableau P-Y : que représentent des valeurs non nulles ?\n",
        "# Comment compter (en une seule instruction) le nombre de valeurs non-nulles1\n",
        "# ?\n",
        "\n",
        "print(\"method 2\")\n",
        "print(f'number of non null values : {len(np.nonzero(p-irisData.target)[0])}')\n",
        "print(f'error rate : {len(np.nonzero(p-irisData.target)[0])/150}')"
      ],
      "metadata": {
        "id": "e2L5UVjZ7hy8",
        "outputId": "ffbad140-4acf-40a7-e498-a9dc17bcb384",
        "colab": {
          "base_uri": "https://localhost:8080/"
        }
      },
      "execution_count": 103,
      "outputs": [
        {
          "output_type": "stream",
          "name": "stdout",
          "text": [
            "method 2\n",
            "number of non null values : 0\n",
            "error rate : 0.0\n"
          ]
        }
      ]
    },
    {
      "cell_type": "code",
      "source": [
        "print(\"method 3\")\n",
        "print(f'error rate : {1-model.score(irisData.data,irisData.target)}')"
      ],
      "metadata": {
        "id": "g7HjWv7W7nCy",
        "outputId": "12cc4e91-d292-4404-95ac-8f8a0334a601",
        "colab": {
          "base_uri": "https://localhost:8080/"
        }
      },
      "execution_count": 104,
      "outputs": [
        {
          "output_type": "stream",
          "name": "stdout",
          "text": [
            "method 3\n",
            "error rate : 0.0\n"
          ]
        }
      ]
    },
    {
      "cell_type": "markdown",
      "source": [
        "we have trained our model with 150 instances and we have evaluated the model on the same training data , which makes sense to have a very low test error_rate (in this case 0%) since the model have seen all the data"
      ],
      "metadata": {
        "id": "KS8hmp938U7u"
      }
    },
    {
      "cell_type": "markdown",
      "source": [
        "# **Performances en généralisation**"
      ],
      "metadata": {
        "id": "2D5RbB059Iy6"
      }
    },
    {
      "cell_type": "code",
      "source": [
        "model = DecisionTreeClassifier()\n",
        "error_rate = test(irisData, model)\n",
        "\n",
        "print(\"Taux d'erreur estimé avec Naive Bayes en utilisant split:\", error_rate)"
      ],
      "metadata": {
        "id": "LbT3y1dF7qw-",
        "outputId": "fb96202f-132d-44f6-a28b-3a6071009667",
        "colab": {
          "base_uri": "https://localhost:8080/"
        }
      },
      "execution_count": 105,
      "outputs": [
        {
          "output_type": "stream",
          "name": "stdout",
          "text": [
            "Taux d'erreur estimé avec Naive Bayes en utilisant split: 0.09803921568627451\n"
          ]
        }
      ]
    },
    {
      "cell_type": "code",
      "source": [
        "\n",
        "ts = [10, 50, 100, 200, 500, 1000]\n",
        "repetitions = 20\n",
        "result_table2 = PrettyTable(['t', 'Mean Error'])\n",
        "\n",
        "for t in ts:\n",
        "    model =  DecisionTreeClassifier()\n",
        "    mean_errors = []\n",
        "    for _ in range(repetitions):\n",
        "        mean_error, _ = test_t(irisData, model, t)\n",
        "        mean_errors.append(mean_error)\n",
        "    error_rate = np.mean(mean_errors)\n",
        "    result_table2.add_row([t, f\"{error_rate:.4f}\"])\n",
        "\n",
        "    print(f\"Taux d'erreur moyen pour t={t}: {error_rate}\")"
      ],
      "metadata": {
        "id": "y27Vts7K9go5",
        "outputId": "b2b633e3-a526-43da-cd73-b0b42f726372",
        "colab": {
          "base_uri": "https://localhost:8080/"
        }
      },
      "execution_count": 106,
      "outputs": [
        {
          "output_type": "stream",
          "name": "stdout",
          "text": [
            "Taux d'erreur moyen pour t=10: 0.05196078431372549\n",
            "Taux d'erreur moyen pour t=50: 0.054705882352941174\n",
            "Taux d'erreur moyen pour t=100: 0.05507843137254901\n",
            "Taux d'erreur moyen pour t=200: 0.05461764705882353\n",
            "Taux d'erreur moyen pour t=500: 0.05473529411764706\n",
            "Taux d'erreur moyen pour t=1000: 0.05472450980392157\n"
          ]
        }
      ]
    },
    {
      "cell_type": "code",
      "source": [
        "print(result_table2)"
      ],
      "metadata": {
        "id": "qIXkk9XM-LfU",
        "outputId": "f5363e4d-1ea4-4e52-9cd5-74cd74aabadf",
        "colab": {
          "base_uri": "https://localhost:8080/"
        }
      },
      "execution_count": 107,
      "outputs": [
        {
          "output_type": "stream",
          "name": "stdout",
          "text": [
            "+------+------------+\n",
            "|  t   | Mean Error |\n",
            "+------+------------+\n",
            "|  10  |   0.0520   |\n",
            "|  50  |   0.0547   |\n",
            "| 100  |   0.0551   |\n",
            "| 200  |   0.0546   |\n",
            "| 500  |   0.0547   |\n",
            "| 1000 |   0.0547   |\n",
            "+------+------------+\n"
          ]
        }
      ]
    },
    {
      "cell_type": "markdown",
      "source": [
        "the error rate mean converges to 0.54 very quickly from the starting ts  "
      ],
      "metadata": {
        "id": "6B1M0q9O_0uq"
      }
    },
    {
      "cell_type": "code",
      "source": [
        "#question 4\n",
        "ts = [10, 50, 100, 200, 500, 1000]\n",
        "repetitions = 20\n",
        "result_table1 = PrettyTable(['t', 'Mean Error'])\n",
        "\n",
        "for t in ts:\n",
        "    model =  DecisionTreeClassifier()\n",
        "    mean_errors = []\n",
        "    for _ in range(repetitions):\n",
        "        mean_error, _ = test_t(irisData, model, t,train_split=0.9)\n",
        "        mean_errors.append(mean_error)\n",
        "    error_rate = np.mean(mean_errors)\n",
        "    result_table1.add_row([t, f\"{error_rate:.4f}\"])\n",
        "    print(f\"Taux d'erreur moyen pour t={t}: {error_rate}\")\n",
        "print(result_table1)"
      ],
      "metadata": {
        "id": "rpsa46LB_u5s",
        "outputId": "e5f4165d-c3bd-4a38-c110-ef540925348b",
        "colab": {
          "base_uri": "https://localhost:8080/"
        }
      },
      "execution_count": 108,
      "outputs": [
        {
          "output_type": "stream",
          "name": "stdout",
          "text": [
            "Taux d'erreur moyen pour t=10: 0.05566666666666666\n",
            "Taux d'erreur moyen pour t=50: 0.05120000000000001\n",
            "Taux d'erreur moyen pour t=100: 0.05449999999999999\n",
            "Taux d'erreur moyen pour t=200: 0.053133333333333345\n",
            "Taux d'erreur moyen pour t=500: 0.05293999999999999\n",
            "Taux d'erreur moyen pour t=1000: 0.05272333333333333\n",
            "+------+------------+\n",
            "|  t   | Mean Error |\n",
            "+------+------------+\n",
            "|  10  |   0.0557   |\n",
            "|  50  |   0.0512   |\n",
            "| 100  |   0.0545   |\n",
            "| 200  |   0.0531   |\n",
            "| 500  |   0.0529   |\n",
            "| 1000 |   0.0527   |\n",
            "+------+------------+\n"
          ]
        }
      ]
    },
    {
      "cell_type": "code",
      "source": [
        "#question 5\n",
        "from sklearn.metrics import accuracy_score\n",
        "\n",
        "test_sizes = [0.1,0.2, 0.25,0.3, 0.33, 0.4, 0.7]\n",
        "result_table = PrettyTable(['Test Size', 'Error Rate'])\n",
        "error_rates = []\n",
        "for test_size in test_sizes:\n",
        "    model =  DecisionTreeClassifier()\n",
        "    # Split the data into training and testing sets\n",
        "    X_train, X_test, y_train, y_test = train_test_split(\n",
        "        irisData.data, irisData.target, test_size=test_size\n",
        "    )\n",
        "    model.fit(X_train, y_train)\n",
        "    predictions = model.predict(X_test)\n",
        "    error_rate = 1 - accuracy_score(y_test, predictions)\n",
        "    error_rates.append(error_rate)\n",
        "    result_table.add_row([test_size, f\"{error_rate:.4f}\"])\n",
        "    print(f\"Test Size: {test_size}, error rate: {error_rate}\")\n",
        "print(result_table)"
      ],
      "metadata": {
        "id": "I4xgby36A_Wu",
        "outputId": "3c7e8ac4-d827-4c50-c808-301075cf7f36",
        "colab": {
          "base_uri": "https://localhost:8080/"
        }
      },
      "execution_count": 109,
      "outputs": [
        {
          "output_type": "stream",
          "name": "stdout",
          "text": [
            "Test Size: 0.1, error rate: 0.0\n",
            "Test Size: 0.2, error rate: 0.033333333333333326\n",
            "Test Size: 0.25, error rate: 0.02631578947368418\n",
            "Test Size: 0.3, error rate: 0.06666666666666665\n",
            "Test Size: 0.33, error rate: 0.020000000000000018\n",
            "Test Size: 0.4, error rate: 0.033333333333333326\n",
            "Test Size: 0.7, error rate: 0.05714285714285716\n",
            "+-----------+------------+\n",
            "| Test Size | Error Rate |\n",
            "+-----------+------------+\n",
            "|    0.1    |   0.0000   |\n",
            "|    0.2    |   0.0333   |\n",
            "|    0.25   |   0.0263   |\n",
            "|    0.3    |   0.0667   |\n",
            "|    0.33   |   0.0200   |\n",
            "|    0.4    |   0.0333   |\n",
            "|    0.7    |   0.0571   |\n",
            "+-----------+------------+\n"
          ]
        }
      ]
    },
    {
      "cell_type": "code",
      "source": [
        "import matplotlib.pyplot as plt\n",
        "\n",
        "plt.plot(test_sizes, error_rates, marker='o')\n",
        "plt.title('Error Rate vs. Test Size')\n",
        "plt.xlabel('Test Size')\n",
        "plt.ylabel('Error Rate')\n",
        "plt.show()"
      ],
      "metadata": {
        "id": "7Ej5RopyBeRb",
        "outputId": "b56c65bf-b08f-4990-84db-2fdd5dd20862",
        "colab": {
          "base_uri": "https://localhost:8080/",
          "height": 472
        }
      },
      "execution_count": 110,
      "outputs": [
        {
          "output_type": "display_data",
          "data": {
            "text/plain": [
              "<Figure size 640x480 with 1 Axes>"
            ],
            "image/png": "[encoded data removed]"
          },
          "metadata": {}
        }
      ]
    },
    {
      "cell_type": "markdown",
      "source": [
        "## **Cross validation**"
      ],
      "metadata": {
        "id": "RtR9bB-0B65F"
      }
    },
    {
      "cell_type": "code",
      "source": [
        "model =  DecisionTreeClassifier()\n",
        "num_folds = [2, 3, 5, 8, 10]\n",
        "summary_table = PrettyTable(['Folds', 'Mean Error Rate'])\n",
        "error_rates=[]\n",
        "for folds in num_folds:\n",
        "    scores = cross_val_score(model, irisData.data, irisData.target, cv=folds)\n",
        "    mean_error_rate = 1 - scores.mean()\n",
        "    error_rates.append(mean_error_rate)\n",
        "    summary_table.add_row([folds, f\"{mean_error_rate:.4f}\"])\n",
        "print(summary_table)"
      ],
      "metadata": {
        "id": "MA-zFZBCBi2f",
        "outputId": "66e519e3-89e1-42c6-d989-ec3b8683cc87",
        "colab": {
          "base_uri": "https://localhost:8080/"
        }
      },
      "execution_count": 111,
      "outputs": [
        {
          "output_type": "stream",
          "name": "stdout",
          "text": [
            "+-------+-----------------+\n",
            "| Folds | Mean Error Rate |\n",
            "+-------+-----------------+\n",
            "|   2   |      0.0467     |\n",
            "|   3   |      0.0400     |\n",
            "|   5   |      0.0333     |\n",
            "|   8   |      0.0395     |\n",
            "|   10  |      0.0400     |\n",
            "+-------+-----------------+\n"
          ]
        }
      ]
    },
    {
      "cell_type": "code",
      "source": [
        "pretty_tables=[summary_table,result_table,result_table1,result_table2]\n",
        "titles=[\"cross validation\",\"using train_test_split predefined method\",\"test_split=0.1 with repetition\",\"test_split=1/3 with repetition\"]\n",
        "for title,table in zip(titles,pretty_tables):\n",
        "  print('---',title,'---')\n",
        "  print(table)"
      ],
      "metadata": {
        "id": "Mo0wC278CQKv",
        "outputId": "f846dc23-b99e-42e0-95ab-54d082ec63d6",
        "colab": {
          "base_uri": "https://localhost:8080/"
        }
      },
      "execution_count": 112,
      "outputs": [
        {
          "output_type": "stream",
          "name": "stdout",
          "text": [
            "--- cross validation ---\n",
            "+-------+-----------------+\n",
            "| Folds | Mean Error Rate |\n",
            "+-------+-----------------+\n",
            "|   2   |      0.0467     |\n",
            "|   3   |      0.0400     |\n",
            "|   5   |      0.0333     |\n",
            "|   8   |      0.0395     |\n",
            "|   10  |      0.0400     |\n",
            "+-------+-----------------+\n",
            "--- using train_test_split predefined method ---\n",
            "+-----------+------------+\n",
            "| Test Size | Error Rate |\n",
            "+-----------+------------+\n",
            "|    0.1    |   0.0000   |\n",
            "|    0.2    |   0.0333   |\n",
            "|    0.25   |   0.0263   |\n",
            "|    0.3    |   0.0667   |\n",
            "|    0.33   |   0.0200   |\n",
            "|    0.4    |   0.0333   |\n",
            "|    0.7    |   0.0571   |\n",
            "+-----------+------------+\n",
            "--- test_split=0.1 with repetition ---\n",
            "+------+------------+\n",
            "|  t   | Mean Error |\n",
            "+------+------------+\n",
            "|  10  |   0.0557   |\n",
            "|  50  |   0.0512   |\n",
            "| 100  |   0.0545   |\n",
            "| 200  |   0.0531   |\n",
            "| 500  |   0.0529   |\n",
            "| 1000 |   0.0527   |\n",
            "+------+------------+\n",
            "--- test_split=1/3 with repetition ---\n",
            "+------+------------+\n",
            "|  t   | Mean Error |\n",
            "+------+------------+\n",
            "|  10  |   0.0520   |\n",
            "|  50  |   0.0547   |\n",
            "| 100  |   0.0551   |\n",
            "| 200  |   0.0546   |\n",
            "| 500  |   0.0547   |\n",
            "| 1000 |   0.0547   |\n",
            "+------+------------+\n"
          ]
        }
      ]
    },
    {
      "cell_type": "code",
      "source": [],
      "metadata": {
        "id": "UVgm6rNdCXel"
      },
      "execution_count": 112,
      "outputs": []
    }
  ]
}